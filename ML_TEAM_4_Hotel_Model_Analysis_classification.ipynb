{
 "cells": [
  {
   "cell_type": "markdown",
   "metadata": {},
   "source": [
    "## Introduction\n",
    "\n",
    "> Here we take the prepared data from the previous book and try and answer, by applying various models, prediction of cancellation of booking.\n",
    "\n",
    "> This cancellation prediction based on criteria defined in the most optimal features, will help, hotel management to  avoid loss or revenue due to cancellation. The output of this book will help hotels manage inventory, staffing, suppy chain, operations improvement and many other areas in order to stay profitable."
   ]
  },
  {
   "cell_type": "markdown",
   "metadata": {},
   "source": [
    "important commands\n",
    "> - Shift + Enter (executes cell)\n",
    "> - Alt + Enter (executes and creates new cell)\n",
    "> - Esc + Shift + Up/Down (expands selection)\n",
    "> - Up/Down (moves cells up/down)\n",
    "\n",
    "> Esc + M (converts cell to markup)\n",
    "> Esc + Y (converts cell to code)\n",
    "> Esc + H (shows all commands)\n",
    "\n",
    "> Underscore twice (converts to bold)\n",
    "> Astrisk once (convrets to italics)\n"
   ]
  },
  {
   "cell_type": "code",
   "execution_count": 1,
   "metadata": {},
   "outputs": [],
   "source": [
    "import matplotlib\n",
    "import matplotlib.pyplot as plt\n",
    "import numpy as np\n",
    "import pandas as pd\n",
    "import datetime\n",
    "import warnings\n",
    "from sklearn.preprocessing import OneHotEncoder, MinMaxScaler, StandardScaler\n",
    "from sklearn.pipeline import Pipeline\n",
    "from sklearn.compose import ColumnTransformer"
   ]
  },
  {
   "cell_type": "markdown",
   "metadata": {},
   "source": [
    "## Model Analysis\n",
    "\n",
    "Apply model analysis to prepared data from Data Prep notebook."
   ]
  },
  {
   "cell_type": "markdown",
   "metadata": {},
   "source": [
    "# is_cancelled Prediction\n"
   ]
  },
  {
   "cell_type": "code",
   "execution_count": 10,
   "metadata": {},
   "outputs": [],
   "source": [
    "from sklearn.metrics import confusion_matrix\n",
    "from sklearn.metrics import classification_report\n",
    "from sklearn.metrics import accuracy_score\n",
    "from sklearn.metrics import precision_score\n",
    "from sklearn.metrics import recall_score\n",
    "from sklearn.metrics import f1_score\n",
    "from sklearn.metrics import roc_auc_score\n",
    "from sklearn.metrics import precision_recall_curve\n",
    "from sklearn.metrics import roc_curve\n",
    "from matplotlib.lines import Line2D\n",
    "import seaborn as sns\n",
    "from tqdm import tqdm\n",
    "from sklearn import linear_model\n",
    "from sklearn.neighbors import KNeighborsClassifier\n",
    "from sklearn.tree import DecisionTreeClassifier\n",
    "from sklearn.ensemble import RandomForestClassifier\n",
    "from sklearn.linear_model import LogisticRegression\n",
    "from sklearn.svm import SVC\n",
    "from sklearn.mixture import GaussianMixture\n",
    "from sklearn.model_selection import GridSearchCV\n",
    "from sklearn.ensemble import VotingClassifier\n"
   ]
  },
  {
   "cell_type": "markdown",
   "metadata": {},
   "source": [
    "## Load prepared data from Snapshots"
   ]
  },
  {
   "cell_type": "code",
   "execution_count": 3,
   "metadata": {},
   "outputs": [],
   "source": [
    "from sklearn.model_selection import train_test_split, cross_validate, StratifiedKFold\n",
    "\n",
    "X_train_norm_clf_pca = pd.read_pickle('X_train_norm_clf_pca.pkl')\n",
    "X_test_norm_clf_pca = pd.read_pickle('X_test_norm_clf_pca.pkl')\n",
    "y_train_clf = pd.read_pickle('y_train_clf.pkl')\n",
    "y_test_clf = pd.read_pickle('y_test_clf.pkl')\n",
    "X_train_norm_clf_pca.head()\n",
    "\n",
    "y_test_clf.head()\n",
    "\n",
    "model_scores = []\n",
    "\n",
    "vc_best_estimator_input = []\n"
   ]
  },
  {
   "cell_type": "markdown",
   "metadata": {},
   "source": [
    "# Define Functions for score calculations and graph plotting"
   ]
  },
  {
   "cell_type": "code",
   "execution_count": 2,
   "metadata": {},
   "outputs": [],
   "source": [
    "def calc_metrics(y, y_pred):\n",
    "    metrics = [accuracy_score, precision_score, recall_score, f1_score, roc_auc_score]\n",
    "    scores = [fn(y, y_pred) for fn in metrics]\n",
    "    model_scores.append(scores)\n",
    "    return scores\n",
    "\n",
    "def display_scores(y, y_pred):\n",
    "    model_scores_names = ['accuracy_score', 'precision_score', 'recall_score', 'f1_score', 'roc_auc_score']\n",
    "    scores = calc_metrics(y, y_pred)\n",
    "    for idx in range(len(model_scores_names)):\n",
    "        print(model_scores_names[idx], \":\", scores[idx])\n",
    "\n",
    "def plot_precision_recall_vs_threshold(y, y_pred):\n",
    "    precisions, recalls, thresholds = precision_recall_curve(y, y_pred)\n",
    "    plt.plot(thresholds, precisions[:-1], \"b--\", label=\"Precision\", linewidth=2)\n",
    "    plt.plot(thresholds, recalls[:-1], \"g-\", label=\"Recall\", linewidth=2)\n",
    "    plt.xlabel(\"Threshold\", fontsize=16)\n",
    "    plt.legend(loc=\"upper left\", fontsize=16)\n",
    "    plt.ylim([0, 1])\n",
    "    plt.figure(figsize=(8, 4))\n",
    "\n",
    "    \n",
    "def plot_roc_curve(y, y_pred, label=None):\n",
    "    fpr, tpr , thresholds = roc_curve(y, y_pred)\n",
    "    plt.plot(fpr, tpr, linewidth=2, label=label)\n",
    "    plt.plot([0, 1], [0, 1], 'k--')\n",
    "    plt.axis([0, 1, 0, 1])\n",
    "    plt.xlabel('False Positive Rate', fontsize=16)\n",
    "    plt.ylabel('True Positive Rate', fontsize=16)\n",
    "    plt.figure(figsize=(8, 6))\n",
    "    \n",
    "def plot_accurracy_prec_roc(model_scores, model_names):\n",
    "    N = 3\n",
    "    ind = np.arange(N)  # the x locations for the groups\n",
    "    width = 0.27       # the width of the bars\n",
    "\n",
    "    fig = plt.figure(figsize=(12,5))\n",
    "    ax = fig.add_subplot(111) \n",
    "    ax2 = ax.twinx() \n",
    "    ax3 = ax.twinx()\n",
    "    labels = model_names\n",
    "    acc_score = []\n",
    "    prec_score = []\n",
    "    rec_score = []\n",
    "\n",
    "    for idx in range(len(model_scores)):\n",
    "        md_scores = model_scores[idx]\n",
    "        acc_score.append(md_scores[0])\n",
    "        prec_score.append(md_scores[1])\n",
    "        rec_score.append(md_scores[2])\n",
    "\n",
    "    acc_score = pd.DataFrame(acc_score)\n",
    "    prec_score = pd.DataFrame(prec_score)\n",
    "    rec_score = pd.DataFrame(rec_score)\n",
    "\n",
    "    acc_score[:].plot(kind='bar', color='red', ax=ax, width=0.1, position=1, legend=None)\n",
    "    prec_score[:].plot(kind='bar', color='yellow', ax=ax2, width=0.1, position=3, legend=None)\n",
    "    rec_score[:].plot(kind='bar', color='blue', ax=ax3, width=0.1, position=2, legend=None)\n",
    "    ax.set_xlabel('Models')\n",
    "    ax.set_xticklabels(model_names, rotation=0)\n",
    "    ax.set_ylabel('Accuracy')\n",
    "    ax2.set_ylabel('Precision, recall')\n",
    "    #ax3.set_ylabel('Recall')\n",
    "    legend_elements = [\n",
    "    Line2D([0], [0], marker='s', color='r', label='Accuracy',markerfacecolor='r', markersize=8,linestyle='-'),\n",
    "    Line2D([0], [0], marker='s', color='b', label='Recall',markerfacecolor='b', markersize=8, linestyle='-'),\n",
    "    Line2D([0], [0], marker='s', color='y', label='Precision',markerfacecolor='y', markersize=8, linestyle='-')]\n",
    "    ax.legend(handles=legend_elements, loc='top-right')\n",
    "    plt.show()\n",
    "    \n",
    "    \n",
    "model_names = ['KNeighborsClassifier','LogisticRegression', 'RandomForestClassifier','SVC','DecisionTreeClassifier']\n",
    "\n",
    "warnings.filterwarnings('ignore')\n"
   ]
  },
  {
   "cell_type": "markdown",
   "metadata": {},
   "source": [
    "# Models and Tuning"
   ]
  },
  {
   "cell_type": "code",
   "execution_count": 5,
   "metadata": {},
   "outputs": [
    {
     "name": "stdout",
     "output_type": "stream",
     "text": [
      "KNeighborsClassifier(algorithm='auto', leaf_size=30, metric='minkowski',\n",
      "                     metric_params=None, n_jobs=None, n_neighbors=2, p=2,\n",
      "                     weights='uniform')\n",
      "accuracy_score : 0.8336282087096875\n",
      "precision_score : 0.7934562130699356\n",
      "recall_score : 0.7488139825218477\n",
      "f1_score : 0.7704889954611629\n",
      "roc_auc_score : 0.8164424332963659\n",
      "[('KNeighborsClassifier', KNeighborsClassifier(algorithm='auto', leaf_size=30, metric='minkowski',\n",
      "                     metric_params=None, n_jobs=None, n_neighbors=10, p=2,\n",
      "                     weights='distance'))]\n",
      "LogisticRegression(C=1.0, class_weight=None, dual=False, fit_intercept=True,\n",
      "                   intercept_scaling=1, l1_ratio=None, max_iter=100,\n",
      "                   multi_class='warn', n_jobs=None, penalty='l2',\n",
      "                   random_state=42, solver='liblinear', tol=0.0001, verbose=0,\n",
      "                   warm_start=False)\n",
      "accuracy_score : 0.7945494614644443\n",
      "precision_score : 0.7861081654294804\n",
      "recall_score : 0.6169787765293383\n",
      "f1_score : 0.6913499650268128\n",
      "roc_auc_score : 0.7585685883438692\n",
      "[('KNeighborsClassifier', KNeighborsClassifier(algorithm='auto', leaf_size=30, metric='minkowski',\n",
      "                     metric_params=None, n_jobs=None, n_neighbors=10, p=2,\n",
      "                     weights='distance')), ('LogisticRegression', LogisticRegression(C=1.0, class_weight=None, dual=False, fit_intercept=True,\n",
      "                   intercept_scaling=1, l1_ratio=None, max_iter=100,\n",
      "                   multi_class='warn', n_jobs=None, penalty='l2',\n",
      "                   random_state=42, solver='liblinear', tol=0.0001, verbose=0,\n",
      "                   warm_start=False))]\n",
      "RandomForestClassifier(bootstrap='true', class_weight=None, criterion='gini',\n",
      "                       max_depth=None, max_features='auto', max_leaf_nodes=None,\n",
      "                       min_impurity_decrease=0.0, min_impurity_split=None,\n",
      "                       min_samples_leaf=1, min_samples_split=2,\n",
      "                       min_weight_fraction_leaf=0.0, n_estimators=10,\n",
      "                       n_jobs=None, oob_score=False, random_state=42, verbose=0,\n",
      "                       warm_start=False)\n",
      "accuracy_score : 0.8641090107707111\n",
      "precision_score : 0.8775086505190312\n",
      "recall_score : 0.7387432376196421\n",
      "f1_score : 0.8021690013556257\n",
      "roc_auc_score : 0.8387063381445403\n",
      "[('KNeighborsClassifier', KNeighborsClassifier(algorithm='auto', leaf_size=30, metric='minkowski',\n",
      "                     metric_params=None, n_jobs=None, n_neighbors=10, p=2,\n",
      "                     weights='distance')), ('LogisticRegression', LogisticRegression(C=1.0, class_weight=None, dual=False, fit_intercept=True,\n",
      "                   intercept_scaling=1, l1_ratio=None, max_iter=100,\n",
      "                   multi_class='warn', n_jobs=None, penalty='l2',\n",
      "                   random_state=42, solver='liblinear', tol=0.0001, verbose=0,\n",
      "                   warm_start=False)), ('RandomForestClassifier', RandomForestClassifier(bootstrap='true', class_weight=None, criterion='gini',\n",
      "                       max_depth=None, max_features='auto', max_leaf_nodes=None,\n",
      "                       min_impurity_decrease=0.0, min_impurity_split=None,\n",
      "                       min_samples_leaf=1, min_samples_split=2,\n",
      "                       min_weight_fraction_leaf=0.0, n_estimators=50,\n",
      "                       n_jobs=None, oob_score=False, random_state=42, verbose=0,\n",
      "                       warm_start=False))]\n",
      "SVC(C=1.0, cache_size=200, class_weight=None, coef0=0.0,\n",
      "    decision_function_shape='ovr', degree=3, gamma='auto', kernel='rbf',\n",
      "    max_iter=-1, probability=False, random_state=42, shrinking=True, tol=0.001,\n",
      "    verbose=False)\n",
      "accuracy_score : 0.8166495949343514\n",
      "precision_score : 0.8283870967741935\n",
      "recall_score : 0.6411985018726591\n",
      "f1_score : 0.7228712174524983\n",
      "roc_auc_score : 0.78109821143529\n",
      "[('KNeighborsClassifier', KNeighborsClassifier(algorithm='auto', leaf_size=30, metric='minkowski',\n",
      "                     metric_params=None, n_jobs=None, n_neighbors=10, p=2,\n",
      "                     weights='distance')), ('LogisticRegression', LogisticRegression(C=1.0, class_weight=None, dual=False, fit_intercept=True,\n",
      "                   intercept_scaling=1, l1_ratio=None, max_iter=100,\n",
      "                   multi_class='warn', n_jobs=None, penalty='l2',\n",
      "                   random_state=42, solver='liblinear', tol=0.0001, verbose=0,\n",
      "                   warm_start=False)), ('RandomForestClassifier', RandomForestClassifier(bootstrap='true', class_weight=None, criterion='gini',\n",
      "                       max_depth=None, max_features='auto', max_leaf_nodes=None,\n",
      "                       min_impurity_decrease=0.0, min_impurity_split=None,\n",
      "                       min_samples_leaf=1, min_samples_split=2,\n",
      "                       min_weight_fraction_leaf=0.0, n_estimators=50,\n",
      "                       n_jobs=None, oob_score=False, random_state=42, verbose=0,\n",
      "                       warm_start=False)), ('SVC', SVC(C=2.0, cache_size=200, class_weight=None, coef0=0.0,\n",
      "    decision_function_shape='ovr', degree=3, gamma='auto', kernel='rbf',\n",
      "    max_iter=-1, probability=False, random_state=42, shrinking=True, tol=0.0001,\n",
      "    verbose=False))]\n",
      "DecisionTreeClassifier(class_weight=None, criterion='gini', max_depth=None,\n",
      "                       max_features=None, max_leaf_nodes=None,\n",
      "                       min_impurity_decrease=0.0, min_impurity_split=None,\n",
      "                       min_samples_leaf=1, min_samples_split=2,\n",
      "                       min_weight_fraction_leaf=0.0, presort=False,\n",
      "                       random_state=None, splitter='best')\n",
      "accuracy_score : 0.8135146040910078\n",
      "precision_score : 0.7455645490965579\n",
      "recall_score : 0.7589679567207657\n",
      "f1_score : 0.7522065495339437\n",
      "roc_auc_score : 0.8024619013383057\n",
      "[('KNeighborsClassifier', KNeighborsClassifier(algorithm='auto', leaf_size=30, metric='minkowski',\n",
      "                     metric_params=None, n_jobs=None, n_neighbors=10, p=2,\n",
      "                     weights='distance')), ('LogisticRegression', LogisticRegression(C=1.0, class_weight=None, dual=False, fit_intercept=True,\n",
      "                   intercept_scaling=1, l1_ratio=None, max_iter=100,\n",
      "                   multi_class='warn', n_jobs=None, penalty='l2',\n",
      "                   random_state=42, solver='liblinear', tol=0.0001, verbose=0,\n",
      "                   warm_start=False)), ('RandomForestClassifier', RandomForestClassifier(bootstrap='true', class_weight=None, criterion='gini',\n",
      "                       max_depth=None, max_features='auto', max_leaf_nodes=None,\n",
      "                       min_impurity_decrease=0.0, min_impurity_split=None,\n",
      "                       min_samples_leaf=1, min_samples_split=2,\n",
      "                       min_weight_fraction_leaf=0.0, n_estimators=50,\n",
      "                       n_jobs=None, oob_score=False, random_state=42, verbose=0,\n",
      "                       warm_start=False)), ('SVC', SVC(C=2.0, cache_size=200, class_weight=None, coef0=0.0,\n",
      "    decision_function_shape='ovr', degree=3, gamma='auto', kernel='rbf',\n",
      "    max_iter=-1, probability=False, random_state=42, shrinking=True, tol=0.0001,\n",
      "    verbose=False)), ('DecisionTreeClassifier', DecisionTreeClassifier(class_weight=None, criterion='gini', max_depth=None,\n",
      "                       max_features=None, max_leaf_nodes=None,\n",
      "                       min_impurity_decrease=0.0, min_impurity_split=None,\n",
      "                       min_samples_leaf=1, min_samples_split=2,\n",
      "                       min_weight_fraction_leaf=0.0, presort=False,\n",
      "                       random_state=None, splitter='best'))]\n"
     ]
    }
   ],
   "source": [
    "KNNclf = KNeighborsClassifier(n_neighbors = 2)\n",
    "KNNclf_params = {\"weights\": [\"uniform\", \"distance\"], \"n_neighbors\": [2,5,10]}\n",
    "\n",
    "forestclf = RandomForestClassifier(n_estimators = 10, bootstrap=\"true\", random_state = 42)\n",
    "forerstclf_params = {\"criterion\": [\"gini\"], \"n_estimators\": [10,20,50]}\n",
    "\n",
    "decisionclf = DecisionTreeClassifier()\n",
    "decisionclf_params = {\"criterion\": [\"gini\"]}\n",
    "\n",
    "logclf = LogisticRegression(solver=\"liblinear\", random_state=42)\n",
    "logclf_params = {\"solver\":[\"liblinear\", \"lbfgs\"],\"penalty\":[\"l2\"], \"tol\":[0.0001,0.001], \"C\":[1.0,2.0]}\n",
    "\n",
    "svmclf = SVC(gamma=\"auto\", random_state=42)\n",
    "svmclf_params = {\"kernel\":[\"rbf\", \"sigmoid\"], \"tol\":[0.0001,0.001], \"C\":[1.0,2.0]}\n",
    "\n",
    "\n",
    "models = [(KNNclf, KNNclf_params), (logclf,logclf_params), (forestclf, forerstclf_params), (svmclf, svmclf_params), (decisionclf, decisionclf_params)]\n",
    "\n",
    "for idx, model in enumerate(models):\n",
    "    model_name = str(model[0])\n",
    "    print(model_name)\n",
    "    grid = GridSearchCV(estimator = model[0], param_grid = model[1], cv = 3)\n",
    "    grid.fit(X_train_norm_clf_pca, y_train_clf)\n",
    "    y_pred = grid.predict(X_test_norm_clf_pca)\n",
    "    display_scores(y_test_clf, y_pred)\n",
    "    #print(model_names[idx])\n",
    "    vc_best_estimator_input.append((model_names[idx] , grid.best_estimator_))\n",
    "    print(vc_best_estimator_input)\n",
    "\n",
    "    "
   ]
  },
  {
   "cell_type": "code",
   "execution_count": 6,
   "metadata": {},
   "outputs": [
    {
     "data": {
      "text/plain": [
       "[('KNeighborsClassifier',\n",
       "  KNeighborsClassifier(algorithm='auto', leaf_size=30, metric='minkowski',\n",
       "                       metric_params=None, n_jobs=None, n_neighbors=10, p=2,\n",
       "                       weights='distance')),\n",
       " ('LogisticRegression',\n",
       "  LogisticRegression(C=1.0, class_weight=None, dual=False, fit_intercept=True,\n",
       "                     intercept_scaling=1, l1_ratio=None, max_iter=100,\n",
       "                     multi_class='warn', n_jobs=None, penalty='l2',\n",
       "                     random_state=42, solver='liblinear', tol=0.0001, verbose=0,\n",
       "                     warm_start=False)),\n",
       " ('RandomForestClassifier',\n",
       "  RandomForestClassifier(bootstrap='true', class_weight=None, criterion='gini',\n",
       "                         max_depth=None, max_features='auto', max_leaf_nodes=None,\n",
       "                         min_impurity_decrease=0.0, min_impurity_split=None,\n",
       "                         min_samples_leaf=1, min_samples_split=2,\n",
       "                         min_weight_fraction_leaf=0.0, n_estimators=50,\n",
       "                         n_jobs=None, oob_score=False, random_state=42, verbose=0,\n",
       "                         warm_start=False)),\n",
       " ('SVC', SVC(C=2.0, cache_size=200, class_weight=None, coef0=0.0,\n",
       "      decision_function_shape='ovr', degree=3, gamma='auto', kernel='rbf',\n",
       "      max_iter=-1, probability=False, random_state=42, shrinking=True, tol=0.0001,\n",
       "      verbose=False)),\n",
       " ('DecisionTreeClassifier',\n",
       "  DecisionTreeClassifier(class_weight=None, criterion='gini', max_depth=None,\n",
       "                         max_features=None, max_leaf_nodes=None,\n",
       "                         min_impurity_decrease=0.0, min_impurity_split=None,\n",
       "                         min_samples_leaf=1, min_samples_split=2,\n",
       "                         min_weight_fraction_leaf=0.0, presort=False,\n",
       "                         random_state=None, splitter='best'))]"
      ]
     },
     "execution_count": 6,
     "metadata": {},
     "output_type": "execute_result"
    }
   ],
   "source": [
    "vc_best_estimator_input\n",
    "ms_df = pd.DataFrame(model_scores)\n",
    "ms_df.to_pickle(\"classifier_model_scores.pk1\")"
   ]
  },
  {
   "cell_type": "markdown",
   "metadata": {},
   "source": [
    "# VotingClassifier with Best Estimators from GridSearchCV"
   ]
  },
  {
   "cell_type": "code",
   "execution_count": 7,
   "metadata": {},
   "outputs": [],
   "source": [
    "voting_clf = VotingClassifier(estimators=vc_best_estimator_input, voting='hard')"
   ]
  },
  {
   "cell_type": "code",
   "execution_count": 8,
   "metadata": {},
   "outputs": [],
   "source": [
    "voting_clf.fit(X_train_norm_clf_pca, y_train_clf)\n",
    "y_pred = voting_clf.predict(X_test_norm_clf_pca)"
   ]
  },
  {
   "cell_type": "code",
   "execution_count": 9,
   "metadata": {},
   "outputs": [
    {
     "name": "stdout",
     "output_type": "stream",
     "text": [
      "accuracy_score : 0.86258807461899\n",
      "precision_score : 0.8746050552922591\n",
      "recall_score : 0.7372451102788181\n",
      "f1_score : 0.800072257598338\n",
      "roc_auc_score : 0.8371900237068777\n"
     ]
    }
   ],
   "source": [
    "display_scores(y_test_clf, y_pred)"
   ]
  },
  {
   "cell_type": "code",
   "execution_count": 10,
   "metadata": {},
   "outputs": [],
   "source": [
    "conmat = confusion_matrix(y_pred,y_test_clf)"
   ]
  },
  {
   "cell_type": "code",
   "execution_count": 11,
   "metadata": {},
   "outputs": [
    {
     "data": {
      "text/plain": [
       "<matplotlib.axes._subplots.AxesSubplot at 0x21386967e48>"
      ]
     },
     "execution_count": 11,
     "metadata": {},
     "output_type": "execute_result"
    },
    {
     "data": {
      "image/png": "[encoded data removed]",
      "text/plain": [
       "<Figure size 432x288 with 2 Axes>"
      ]
     },
     "metadata": {
      "needs_background": "light"
     },
     "output_type": "display_data"
    }
   ],
   "source": [
    "sns.heatmap(conmat)"
   ]
  },
  {
   "cell_type": "code",
   "execution_count": null,
   "metadata": {},
   "outputs": [],
   "source": []
  },
  {
   "cell_type": "code",
   "execution_count": null,
   "metadata": {},
   "outputs": [],
   "source": []
  },
  {
   "cell_type": "markdown",
   "metadata": {},
   "source": [
    "# Persist final results"
   ]
  },
  {
   "cell_type": "code",
   "execution_count": 14,
   "metadata": {},
   "outputs": [],
   "source": [
    "ms_df.to_pickle(\"classifier_model_scores.pk1\")"
   ]
  },
  {
   "cell_type": "code",
   "execution_count": 4,
   "metadata": {},
   "outputs": [],
   "source": [
    "ms_df = pd.read_pickle(\"classifier_model_scores.pk1\")"
   ]
  },
  {
   "cell_type": "code",
   "execution_count": 5,
   "metadata": {},
   "outputs": [],
   "source": [
    "model_names.append('VotingClassifier')"
   ]
  },
  {
   "cell_type": "code",
   "execution_count": 7,
   "metadata": {},
   "outputs": [],
   "source": [
    "ms_df['model_names'] = model_names"
   ]
  },
  {
   "cell_type": "markdown",
   "metadata": {},
   "source": [
    "# Final Results"
   ]
  },
  {
   "cell_type": "code",
   "execution_count": 8,
   "metadata": {},
   "outputs": [
    {
     "data": {
      "text/html": [
       "<div>\n",
       "<style scoped>\n",
       "    .dataframe tbody tr th:only-of-type {\n",
       "        vertical-align: middle;\n",
       "    }\n",
       "\n",
       "    .dataframe tbody tr th {\n",
       "        vertical-align: top;\n",
       "    }\n",
       "\n",
       "    .dataframe thead th {\n",
       "        text-align: right;\n",
       "    }\n",
       "</style>\n",
       "<table border=\"1\" class=\"dataframe\">\n",
       "  <thead>\n",
       "    <tr style=\"text-align: right;\">\n",
       "      <th></th>\n",
       "      <th>Accuracy Score</th>\n",
       "      <th>Precision</th>\n",
       "      <th>Recall</th>\n",
       "      <th>F1 Score</th>\n",
       "      <th>ROC AUC Score</th>\n",
       "      <th>Model Name</th>\n",
       "    </tr>\n",
       "  </thead>\n",
       "  <tbody>\n",
       "    <tr>\n",
       "      <td>0</td>\n",
       "      <td>0.833628</td>\n",
       "      <td>0.793456</td>\n",
       "      <td>0.748814</td>\n",
       "      <td>0.770489</td>\n",
       "      <td>0.816442</td>\n",
       "      <td>KNeighborsClassifier</td>\n",
       "    </tr>\n",
       "    <tr>\n",
       "      <td>1</td>\n",
       "      <td>0.794549</td>\n",
       "      <td>0.786108</td>\n",
       "      <td>0.616979</td>\n",
       "      <td>0.691350</td>\n",
       "      <td>0.758569</td>\n",
       "      <td>LogisticRegression</td>\n",
       "    </tr>\n",
       "    <tr>\n",
       "      <td>2</td>\n",
       "      <td>0.864109</td>\n",
       "      <td>0.877509</td>\n",
       "      <td>0.738743</td>\n",
       "      <td>0.802169</td>\n",
       "      <td>0.838706</td>\n",
       "      <td>RandomForestClassifier</td>\n",
       "    </tr>\n",
       "    <tr>\n",
       "      <td>3</td>\n",
       "      <td>0.816650</td>\n",
       "      <td>0.828387</td>\n",
       "      <td>0.641199</td>\n",
       "      <td>0.722871</td>\n",
       "      <td>0.781098</td>\n",
       "      <td>SVC</td>\n",
       "    </tr>\n",
       "    <tr>\n",
       "      <td>4</td>\n",
       "      <td>0.813515</td>\n",
       "      <td>0.745565</td>\n",
       "      <td>0.758968</td>\n",
       "      <td>0.752207</td>\n",
       "      <td>0.802462</td>\n",
       "      <td>DecisionTreeClassifier</td>\n",
       "    </tr>\n",
       "    <tr>\n",
       "      <td>5</td>\n",
       "      <td>0.862588</td>\n",
       "      <td>0.874605</td>\n",
       "      <td>0.737245</td>\n",
       "      <td>0.800072</td>\n",
       "      <td>0.837190</td>\n",
       "      <td>VotingClassifier</td>\n",
       "    </tr>\n",
       "  </tbody>\n",
       "</table>\n",
       "</div>"
      ],
      "text/plain": [
       "   Accuracy Score  Precision    Recall  F1 Score  ROC AUC Score  \\\n",
       "0        0.833628   0.793456  0.748814  0.770489       0.816442   \n",
       "1        0.794549   0.786108  0.616979  0.691350       0.758569   \n",
       "2        0.864109   0.877509  0.738743  0.802169       0.838706   \n",
       "3        0.816650   0.828387  0.641199  0.722871       0.781098   \n",
       "4        0.813515   0.745565  0.758968  0.752207       0.802462   \n",
       "5        0.862588   0.874605  0.737245  0.800072       0.837190   \n",
       "\n",
       "               Model Name  \n",
       "0    KNeighborsClassifier  \n",
       "1      LogisticRegression  \n",
       "2  RandomForestClassifier  \n",
       "3                     SVC  \n",
       "4  DecisionTreeClassifier  \n",
       "5        VotingClassifier  "
      ]
     },
     "execution_count": 8,
     "metadata": {},
     "output_type": "execute_result"
    }
   ],
   "source": [
    "ms_df.columns = ['Accuracy Score', 'Precision', 'Recall', 'F1 Score', 'ROC AUC Score','Model Name']\n",
    "ms_df.head(6)"
   ]
  },
  {
   "cell_type": "code",
   "execution_count": 11,
   "metadata": {},
   "outputs": [
    {
     "data": {
      "image/png": "[encoded data removed]",
      "text/plain": [
       "<Figure size 864x360 with 3 Axes>"
      ]
     },
     "metadata": {
      "needs_background": "light"
     },
     "output_type": "display_data"
    }
   ],
   "source": [
    "plot_accurracy_prec_roc(ms_df.values, model_names)"
   ]
  },
  {
   "cell_type": "markdown",
   "metadata": {},
   "source": [
    "# Conclusion\n",
    "\n",
    "> We conclude, given the circumstances of features and within the boundaries of the operating environment of this notebook, VotingClassifier and RandomForestClassifier and the two best methods to provide cancellation prediction.\n",
    "\n",
    ">However, given the nature and operating mode of VotingClassifier, we believe that with\n",
    "\n",
    "> - Accuracy_score  : 0.86258807461899 \n",
    "> - Precision_score : 0.8746050552922591\n",
    "> - Recall_score    : 0.7372451102788181\n",
    "\n",
    ">VotingClassifier is the best method to predict Cancellation of reservation in this dataset.\n"
   ]
  },
  {
   "cell_type": "code",
   "execution_count": null,
   "metadata": {},
   "outputs": [],
   "source": []
  }
 ],
 "metadata": {
  "kernelspec": {
   "display_name": "Python 3",
   "language": "python",
   "name": "python3"
  },
  "language_info": {
   "codemirror_mode": {
    "name": "ipython",
    "version": 3
   },
   "file_extension": ".py",
   "mimetype": "text/x-python",
   "name": "python",
   "nbconvert_exporter": "python",
   "pygments_lexer": "ipython3",
   "version": "3.7.4"
  }
 },
 "nbformat": 4,
 "nbformat_minor": 2
}
