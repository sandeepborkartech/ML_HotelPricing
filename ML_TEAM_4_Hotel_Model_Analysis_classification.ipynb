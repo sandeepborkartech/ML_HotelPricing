{
 "cells": [
  {
   "cell_type": "markdown",
   "metadata": {},
   "source": [
    "## Introduction\n",
    "\n",
    "> This data set contains booking information for a city hotel and a resort hotel, and includes information such as when the booking was made, length of stay, the number of adults, children, and/or babies, and the number of available parking spaces, among other things.\n",
    "\n",
    "> Our analysis will try to answer questions of how duration between booking and reservation and other factors affect reservation price. Further questions of price analysis will also be performed to find optimum independent parameters to find minimum dependent variable value, in this case, the booking price."
   ]
  },
  {
   "cell_type": "markdown",
   "metadata": {},
   "source": [
    "important commands\n",
    "> - Shift + Enter (executes cell)\n",
    "> - Alt + Enter (executes and creates new cell)\n",
    "> - Esc + Shift + Up/Down (expands selection)\n",
    "> - Up/Down (moves cells up/down)\n",
    "\n",
    "> Esc + M (converts cell to markup)\n",
    "> Esc + Y (converts cell to code)\n",
    "> Esc + H (shows all commands)\n",
    "\n",
    "> Underscore twice (converts to bold)\n",
    "> Astrisk once (convrets to italics)\n"
   ]
  },
  {
   "cell_type": "code",
   "execution_count": 1,
   "metadata": {},
   "outputs": [],
   "source": [
    "import matplotlib\n",
    "import matplotlib.pyplot as plt\n",
    "import numpy as np\n",
    "import pandas as pd\n",
    "import datetime\n",
    "from sklearn.preprocessing import OneHotEncoder, MinMaxScaler, StandardScaler\n",
    "from sklearn.pipeline import Pipeline\n",
    "from sklearn.compose import ColumnTransformer\n",
    "import seaborn as sns\n",
    "from sklearn.linear_model import LinearRegression\n",
    "from sklearn.linear_model import SGDRegressor\n",
    "from sklearn import linear_model\n",
    "from sklearn.ensemble import RandomForestRegressor\n",
    "from sklearn.linear_model import LassoLars\n",
    "from sklearn.linear_model import ElasticNet\n",
    "from sklearn.ensemble import AdaBoostRegressor\n",
    "from sklearn.ensemble import GradientBoostingRegressor\n",
    "from sklearn.model_selection import GridSearchCV\n",
    "from sklearn.svm import SVR"
   ]
  },
  {
   "cell_type": "markdown",
   "metadata": {},
   "source": [
    "## Model Analysis\n",
    "\n",
    "Apply model analysis to prepared data from Data Prep notebook."
   ]
  },
  {
   "cell_type": "markdown",
   "metadata": {},
   "source": [
    "# is_cancelled Prediction\n"
   ]
  },
  {
   "cell_type": "code",
   "execution_count": 2,
   "metadata": {},
   "outputs": [],
   "source": [
    "from sklearn.metrics import confusion_matrix\n",
    "from sklearn.metrics import classification_report\n",
    "from sklearn.metrics import accuracy_score\n",
    "from sklearn.metrics import precision_score\n",
    "from sklearn.metrics import recall_score\n",
    "from sklearn.metrics import f1_score\n",
    "from sklearn.metrics import roc_auc_score\n",
    "from sklearn.metrics import precision_recall_curve\n",
    "from tqdm import tqdm\n",
    "from sklearn.neighbors import KNeighborsClassifier\n",
    "from sklearn.tree import DecisionTreeClassifier\n",
    "from sklearn.ensemble import RandomForestClassifier"
   ]
  },
  {
   "cell_type": "code",
   "execution_count": 3,
   "metadata": {},
   "outputs": [
    {
     "data": {
      "text/plain": [
       "118260    0\n",
       "40600     1\n",
       "78329     0\n",
       "62276     1\n",
       "81700     0\n",
       "Name: is_canceled, dtype: int64"
      ]
     },
     "execution_count": 3,
     "metadata": {},
     "output_type": "execute_result"
    }
   ],
   "source": [
    "from sklearn.model_selection import train_test_split, cross_validate, StratifiedKFold\n",
    "from sklearn.preprocessing import OneHotEncoder, MinMaxScaler, StandardScaler\n",
    "\n",
    "X_train_norm_clf_pca = pd.read_pickle('X_train_norm_clf_pca.pkl')\n",
    "X_test_norm_clf_pca = pd.read_pickle('X_test_norm_clf_pca.pkl')\n",
    "y_train_clf = pd.read_pickle('y_train_clf.pkl')\n",
    "y_test_clf = pd.read_pickle('y_test_clf.pkl')\n",
    "X_train_norm_clf_pca.head()\n",
    "\n",
    "y_test_clf.head()\n"
   ]
  },
  {
   "cell_type": "code",
   "execution_count": 4,
   "metadata": {},
   "outputs": [],
   "source": [
    "def calc_metrics(model, X, y):\n",
    "    y_hat = model.predict(X)\n",
    "    metrics = [accuracy_score, precision_score, recall_score, f1_score, roc_auc_score]\n",
    "    scores = [fn(y, y_hat) for fn in metrics]\n",
    "    return scores\n",
    "\n",
    "def plot_precision_recall_vs_threshold(y, y_pred):\n",
    "    precisions, recalls, thresholds = precision_recall_curve(y, y_pred)\n",
    "    plt.plot(thresholds, precisions[:-1], \"b--\", label=\"Precision\", linewidth=2)\n",
    "    plt.plot(thresholds, recalls[:-1], \"g-\", label=\"Recall\", linewidth=2)\n",
    "    plt.xlabel(\"Threshold\", fontsize=16)\n",
    "    plt.legend(loc=\"upper left\", fontsize=16)\n",
    "    plt.ylim([0, 1])\n",
    "    plt.figure(figsize=(8, 4))\n",
    "\n",
    "    \n",
    "def plot_roc_curve(y, y_pred, label=None):\n",
    "    fpr, tpr , thresholds = roc_curve(y, y_pred)\n",
    "    plt.plot(fpr, tpr, linewidth=2, label=label)\n",
    "    plt.plot([0, 1], [0, 1], 'k--')\n",
    "    plt.axis([0, 1, 0, 1])\n",
    "    plt.xlabel('False Positive Rate', fontsize=16)\n",
    "    plt.ylabel('True Positive Rate', fontsize=16)\n",
    "    plt.figure(figsize=(8, 6))\n"
   ]
  },
  {
   "cell_type": "code",
   "execution_count": 5,
   "metadata": {},
   "outputs": [
    {
     "data": {
      "text/plain": [
       "\"\\nfor model in models:\\n    model_name = str(model[0])\\n    print(model_name)\\n    grid = GridSearchCV(estimator = model[0], param_grid = model[1], cv = 3)\\n    model = grid.fit(X_train_norm_clf_pca, y_train_clf)\\n    y_pred = grid.predict(X_test_norm_clf_pca)\\n    plot_precision_recall_vs_threshold(y_pred, y_test_clf)\\n    print('parameters: ', grid.best_params_)\""
      ]
     },
     "execution_count": 5,
     "metadata": {},
     "output_type": "execute_result"
    }
   ],
   "source": [
    "KNNclf = KNeighborsClassifier(n_neighbors = 2)\n",
    "KNNclf_params = {\"weights\": [\"uniform\", \"distance\"], \"n_neighbors\": [2,5,10]}\n",
    "\n",
    "forestclf = RandomForestClassifier(n_estimators = 10, bootstrap=\"true\", random_state = 42)\n",
    "forerstclf_params = {\"criterion\": [\"gini\"], \"n_estimators\": [10,20,50]}\n",
    "\n",
    "#models = [(KNNclf, KNNclf_params)]\n",
    "\n",
    "\"\"\"\n",
    "for model in models:\n",
    "    model_name = str(model[0])\n",
    "    print(model_name)\n",
    "    grid = GridSearchCV(estimator = model[0], param_grid = model[1], cv = 3)\n",
    "    model = grid.fit(X_train_norm_clf_pca, y_train_clf)\n",
    "    y_pred = grid.predict(X_test_norm_clf_pca)\n",
    "    plot_precision_recall_vs_threshold(y_pred, y_test_clf)\n",
    "    print('parameters: ', grid.best_params_)\"\"\""
   ]
  },
  {
   "cell_type": "code",
   "execution_count": null,
   "metadata": {},
   "outputs": [],
   "source": [
    "grid = GridSearchCV(estimator = KNNclf, param_grid = KNNclf_params, cv = 3)\n",
    "grid.fit(X_train_norm_clf_pca, y_train_clf)\n",
    "y_pred = grid.predict(X_test_norm_clf_pca)\n",
    "plot_precision_recall_vs_threshold(y_test_clf, y_pred)\n",
    "plot_roc_curve(y_test_clf)"
   ]
  },
  {
   "cell_type": "code",
   "execution_count": null,
   "metadata": {},
   "outputs": [],
   "source": [
    "grid.best_params_"
   ]
  },
  {
   "cell_type": "code",
   "execution_count": null,
   "metadata": {},
   "outputs": [],
   "source": [
    "confusion_matrix(y_pred,y_test_clf)"
   ]
  },
  {
   "cell_type": "code",
   "execution_count": null,
   "metadata": {
    "scrolled": true
   },
   "outputs": [],
   "source": [
    "grid = GridSearchCV(estimator = forestclf, param_grid = forestclf_params, cv = 3)\n",
    "grid.fit(X_train_norm_clf_pca, y_train_clf)\n",
    "y_pred = grid.predict(X_test_norm_clf_pca)\n",
    "plot_precision_recall_vs_threshold(y_test_clf, y_pred)"
   ]
  },
  {
   "cell_type": "code",
   "execution_count": null,
   "metadata": {},
   "outputs": [],
   "source": [
    "grid_best_params_"
   ]
  },
  {
   "cell_type": "code",
   "execution_count": null,
   "metadata": {},
   "outputs": [],
   "source": [
    "confusion_matrix(y_pred, y_test_clf)"
   ]
  },
  {
   "cell_type": "code",
   "execution_count": null,
   "metadata": {},
   "outputs": [],
   "source": []
  }
 ],
 "metadata": {
  "kernelspec": {
   "display_name": "Python 3",
   "language": "python",
   "name": "python3"
  },
  "language_info": {
   "codemirror_mode": {
    "name": "ipython",
    "version": 3
   },
   "file_extension": ".py",
   "mimetype": "text/x-python",
   "name": "python",
   "nbconvert_exporter": "python",
   "pygments_lexer": "ipython3",
   "version": "3.7.4"
  }
 },
 "nbformat": 4,
 "nbformat_minor": 2
}
