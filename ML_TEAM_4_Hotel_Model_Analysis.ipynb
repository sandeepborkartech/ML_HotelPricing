{
 "cells": [
  {
   "cell_type": "markdown",
   "metadata": {},
   "source": [
    "## Introduction\n",
    "\n",
    "> This data set contains booking information for a city hotel and a resort hotel, and includes information such as when the booking was made, length of stay, the number of adults, children, and/or babies, and the number of available parking spaces, among other things.\n",
    "\n",
    "> Our analysis will try to answer questions of how duration between booking and reservation and other factors affect reservation price. Further questions of price analysis will also be performed to find optimum independent parameters to find minimum dependent variable value, in this case, the booking price."
   ]
  },
  {
   "cell_type": "markdown",
   "metadata": {},
   "source": [
    "important commands\n",
    "> - Shift + Enter (executes cell)\n",
    "> - Alt + Enter (executes and creates new cell)\n",
    "> - Esc + Shift + Up/Down (expands selection)\n",
    "> - Up/Down (moves cells up/down)\n",
    "\n",
    "> Esc + M (converts cell to markup)\n",
    "> Esc + Y (converts cell to code)\n",
    "> Esc + H (shows all commands)\n",
    "\n",
    "> Underscore twice (converts to bold)\n",
    "> Astrisk once (convrets to italics)\n"
   ]
  },
  {
   "cell_type": "code",
   "execution_count": 81,
   "metadata": {},
   "outputs": [],
   "source": [
    "import matplotlib\n",
    "import matplotlib.pyplot as plt\n",
    "import numpy as np\n",
    "import pandas as pd\n",
    "import datetime\n",
    "from sklearn.preprocessing import OneHotEncoder, MinMaxScaler, StandardScaler\n",
    "from sklearn.pipeline import Pipeline\n",
    "from sklearn.compose import ColumnTransformer\n",
    "import seaborn as sns\n",
    "from sklearn.linear_model import LinearRegression\n",
    "from sklearn.linear_model import SGDRegressor\n",
    "from sklearn import linear_model\n",
    "from sklearn.ensemble import RandomForestRegressor\n",
    "from sklearn.linear_model import LassoLars\n",
    "from sklearn.linear_model import ElasticNet\n",
    "from sklearn.ensemble import AdaBoostRegressor\n",
    "from sklearn.ensemble import GradientBoostingRegressor\n",
    "from sklearn.svm import SVR"
   ]
  },
  {
   "cell_type": "markdown",
   "metadata": {},
   "source": [
    "## Model Analysis\n",
    "\n",
    "Apply model analysis to prepared data from Data Prep notebook."
   ]
  },
  {
   "cell_type": "code",
   "execution_count": 82,
   "metadata": {},
   "outputs": [
    {
     "data": {
      "text/plain": [
       "'\\nmodel = AdaBoostRegressor()\\nmodel.fit(X_train_norm_filtered, y_train)\\n\\nmodel = ElasticNet(alpha=1.0, tol=0.0001)\\nmodel.fit(X_train_norm_filtered, y_train)\\n\\n\\nmodel = RandomForestRegressor()\\nmodel.fit(X_train_norm_filtered, y_train)\\n\\nmodel = SGDRegressor(max_iter=10000, tol=1e-3, eta0 = 0.0001)\\nmodel.fit(X_train_norm_filtered, y_train)\\n\\n\\nmodel = LinearRegression()\\nmodel.fit(X_train_norm_filtered, y_train)\\n\\n\\n\\nmodel = linear_model.LassoLars(alpha=0.00001)\\nmodel.fit(X_train_norm_filtered, y_train)\\n'"
      ]
     },
     "execution_count": 82,
     "metadata": {},
     "output_type": "execute_result"
    }
   ],
   "source": [
    "X_train_norm_reg_kbest = pd.read_pickle('X_train_norm_reg_kbest.pkl')\n",
    "X_test_norm_reg_kbest = pd.read_pickle('X_test_norm_reg_kbest.pkl')\n",
    "y_train_reg = pd.read_pickle('y_train_reg.pkl')\n",
    "y_test_reg = pd.read_pickle('y_test_reg.pkl')\n",
    "\n",
    "model = SGDRegressor()\n",
    "model.fit(X_train_norm_reg_kbest, y_train_reg)\n",
    "\n",
    "\"\"\"\n",
    "model = AdaBoostRegressor()\n",
    "model.fit(X_train_norm_filtered, y_train)\n",
    "\n",
    "model = ElasticNet(alpha=1.0, tol=0.0001)\n",
    "model.fit(X_train_norm_filtered, y_train)\n",
    "\n",
    "\n",
    "model = RandomForestRegressor()\n",
    "model.fit(X_train_norm_filtered, y_train)\n",
    "\n",
    "model = SGDRegressor(max_iter=10000, tol=1e-3, eta0 = 0.0001)\n",
    "model.fit(X_train_norm_filtered, y_train)\n",
    "\n",
    "\n",
    "model = LinearRegression()\n",
    "model.fit(X_train_norm_filtered, y_train)\n",
    "\n",
    "\n",
    "\n",
    "model = linear_model.LassoLars(alpha=0.00001)\n",
    "model.fit(X_train_norm_filtered, y_train)\n",
    "\"\"\"\n"
   ]
  },
  {
   "cell_type": "code",
   "execution_count": 83,
   "metadata": {},
   "outputs": [],
   "source": [
    "y_hat = model.predict(X_test_norm_reg_kbest)"
   ]
  },
  {
   "cell_type": "code",
   "execution_count": 85,
   "metadata": {},
   "outputs": [
    {
     "name": "stdout",
     "output_type": "stream",
     "text": [
      "27.629898894528445\n",
      "20.37776982385659\n"
     ]
    },
    {
     "data": {
      "text/plain": [
       "'\\nlinear\\n29.754990878612507\\n23.252648836567797\\n\\nSVR\\n27.881752005199903\\n20.679435892922054\\n\\nSGD\\n27.441660441583327\\n20.40611646701147\\n\\nRandomForest:\\n27.690988051757227\\n20.529304934191707\\n\\nElastic-Net\\n36.611635396396146\\n28.50927781873622\\n\\nAdaBoost\\n35.36260456131857\\n28.16338324191093\\n'"
      ]
     },
     "execution_count": 85,
     "metadata": {},
     "output_type": "execute_result"
    }
   ],
   "source": [
    "from sklearn.metrics import mean_squared_error, mean_absolute_error\n",
    "\n",
    "mse = mean_squared_error(y_test_reg.values, y_hat)\n",
    "\n",
    "rmse = np.sqrt(mse)\n",
    "\n",
    "mae = mean_absolute_error(y_test_reg.values, y_hat)\n",
    "                          \n",
    "print(rmse)\n",
    "print(mae)\n",
    "\n",
    "\"\"\"\n",
    "linear\n",
    "29.754990878612507\n",
    "23.252648836567797\n",
    "\n",
    "SVR\n",
    "27.881752005199903\n",
    "20.679435892922054\n",
    "\n",
    "SGD\n",
    "27.441660441583327\n",
    "20.40611646701147\n",
    "\n",
    "RandomForest:\n",
    "27.690988051757227\n",
    "20.529304934191707\n",
    "\n",
    "Elastic-Net\n",
    "36.611635396396146\n",
    "28.50927781873622\n",
    "\n",
    "AdaBoost\n",
    "35.36260456131857\n",
    "28.16338324191093\n",
    "\"\"\""
   ]
  },
  {
   "cell_type": "code",
   "execution_count": 99,
   "metadata": {},
   "outputs": [
    {
     "data": {
      "text/plain": [
       "\"\\n>>> from sklearn.linear_model import RidgeCV, LassoCV\\n>>> from sklearn.svm import SVR\\n>>> estimators = [('ridge', RidgeCV()),\\n...               ('lasso', LassoCV(random_state=42)),\\n...               ('svr', SVR(C=1, gamma=1e-6))]\\n\""
      ]
     },
     "execution_count": 99,
     "metadata": {},
     "output_type": "execute_result"
    }
   ],
   "source": [
    "from sklearn.model_selection import GridSearchCV\n",
    "from sklearn.pipeline import Pipeline\n",
    "from sklearn.ensemble import GradientBoostingRegressor\n",
    "from sklearn.ensemble import RandomForestRegressor\n",
    "from sklearn.linear_model import LinearRegression\n",
    "from sklearn.ensemble import VotingRegressor\n",
    "\n",
    "lr = LinearRegression()\n",
    "rf = RandomForestRegressor(random_state=42)\n",
    "\n",
    "vg = VotingRegressor(estimators=[('rf', rf), ('lr', lr)])\n",
    "\n",
    "params = { \n",
    "          'rf__n_estimators': [1, 2]\n",
    "}\n",
    "\n",
    "grid = GridSearchCV(estimator=vg, param_grid=params, cv=2)\n",
    "\n",
    "best_model = grid.fit(X_train_norm_reg_kbest, y_train_reg)\n",
    "\n",
    "\n",
    "\n",
    "\"\"\"\n",
    "\n",
    "param_grid = [{\n",
    "        #\"kpca__kernel\": [\"rbf\", \"sigmoid\"]\n",
    "    }]\n",
    "\n",
    "reg_pip = Pipeline([\n",
    "         (\"rf\", rf), (\"vg\", vg)\n",
    "    ])\n",
    "\"\"\"\n",
    "#reg_pip.fit(X_train_norm_reg_kbest, y_train_reg)\n",
    "\n",
    "#reg_pip.get_params()\n",
    "\n",
    "\"\"\"\n",
    ">>> from sklearn.linear_model import RidgeCV, LassoCV\n",
    ">>> from sklearn.svm import SVR\n",
    ">>> estimators = [('ridge', RidgeCV()),\n",
    "...               ('lasso', LassoCV(random_state=42)),\n",
    "...               ('svr', SVR(C=1, gamma=1e-6))]\n",
    "\"\"\""
   ]
  },
  {
   "cell_type": "code",
   "execution_count": 103,
   "metadata": {},
   "outputs": [
    {
     "data": {
      "text/plain": [
       "GridSearchCV(cv=3, error_score='raise-deprecating',\n",
       "             estimator=VotingRegressor(estimators=[('rf',\n",
       "                                                    RandomForestRegressor(bootstrap=True,\n",
       "                                                                          criterion='mse',\n",
       "                                                                          max_depth=None,\n",
       "                                                                          max_features='auto',\n",
       "                                                                          max_leaf_nodes=None,\n",
       "                                                                          min_impurity_decrease=0.0,\n",
       "                                                                          min_impurity_split=None,\n",
       "                                                                          min_samples_leaf=1,\n",
       "                                                                          min_samples_split=2,\n",
       "                                                                          min_weight_fraction_leaf=0.0,\n",
       "                                                                          n_estimators='warn',\n",
       "                                                                          n_jobs=None,\n",
       "                                                                          oob_score=False,\n",
       "                                                                          random_state=42,\n",
       "                                                                          verbose=0,\n",
       "                                                                          warm_start=False)),\n",
       "                                                   ('lr',\n",
       "                                                    LinearRegression(copy_X=True,\n",
       "                                                                     fit_intercept=True,\n",
       "                                                                     n_jobs=None,\n",
       "                                                                     normalize=False))],\n",
       "                                       n_jobs=None, weights=None),\n",
       "             iid='warn', n_jobs=None,\n",
       "             param_grid={'rf__n_estimators': [1, 10, 100]},\n",
       "             pre_dispatch='2*n_jobs', refit=True, return_train_score=False,\n",
       "             scoring=None, verbose=0)"
      ]
     },
     "execution_count": 103,
     "metadata": {},
     "output_type": "execute_result"
    }
   ],
   "source": [
    "best_model.best_params_"
   ]
  },
  {
   "cell_type": "code",
   "execution_count": 104,
   "metadata": {
    "scrolled": true
   },
   "outputs": [
    {
     "ename": "SyntaxError",
     "evalue": "invalid syntax (<ipython-input-104-d9426856e61d>, line 14)",
     "output_type": "error",
     "traceback": [
      "\u001b[1;36m  File \u001b[1;32m\"<ipython-input-104-d9426856e61d>\"\u001b[1;36m, line \u001b[1;32m14\u001b[0m\n\u001b[1;33m    param_grid = param_grid\u001b[0m\n\u001b[1;37m               ^\u001b[0m\n\u001b[1;31mSyntaxError\u001b[0m\u001b[1;31m:\u001b[0m invalid syntax\n"
     ]
    }
   ],
   "source": [
    "lr = LinearRegression()\n",
    "rf = RandomForestRegressor(random_state=42, n_estimators = 1)\n",
    "vg = VotingRegressor(estimators=[('rf', rf), ('lr', lr)])\n",
    "\n",
    "param_grid = [{\n",
    "        \"kpca__gamma\": np.linspace(0.03, 0.05, 10),\n",
    "        \"kpca__kernel\": [\"rbf\", \"sigmoid\"],\n",
    "        \"kpca__n_components\": [50,55,60,65,70]\n",
    "    }]\n",
    "\n",
    "reg_pip = Pipeline([\n",
    "    (\"kpca\", KernelPCA(n_components=2)),\n",
    "    (\"vg\", vg),\n",
    "    param_grid = param_grid\n",
    "    ])\n",
    "\n"
   ]
  },
  {
   "cell_type": "code",
   "execution_count": null,
   "metadata": {},
   "outputs": [],
   "source": [
    "\"\"\"\n",
    "model = ElasticNet(alpha=1.0, tol=0.0001)\n",
    "model.fit(X_train_norm_filtered, y_train)\n",
    "\n",
    "model = SGDRegressor(max_iter=10000, tol=1e-3, eta0 = 0.0001)\n",
    "model.fit(X_train_norm_filtered, y_train)\n",
    "\"\"\"\n",
    "# Just initialize the pipeline with any estimator you like    \n",
    "pipe = Pipeline(steps=[('estimator', SVC())])\n",
    "\n",
    "# Add a dict of estimator and estimator related parameters in this list\n",
    "params_grid = [{\n",
    "                'estimator':[SVC()],\n",
    "                'estimator__C': [1, 10, 100, 1000],\n",
    "                'estimator__gamma': [0.001, 0.0001],\n",
    "                },\n",
    "                {\n",
    "                'estimator': [DecisionTreeClassifier()],\n",
    "                'estimator__max_depth': [1,2,3,4,5],\n",
    "                'estimator__max_features': [None, \"auto\", \"sqrt\", \"log2\"],\n",
    "                },\n",
    "               # {'estimator':[Any_other_estimator_you_want],\n",
    "               #  'estimator__valid_param_of_your_estimator':[valid_values]\n",
    "\n",
    "              ]\n",
    "\n",
    "grid = GridSearchCV(pipe, params_grid)"
   ]
  },
  {
   "cell_type": "markdown",
   "metadata": {},
   "source": [
    "# is_cancelled Prediction\n"
   ]
  },
  {
   "cell_type": "code",
   "execution_count": 77,
   "metadata": {},
   "outputs": [
    {
     "data": {
      "text/plain": [
       "118260    0\n",
       "40600     1\n",
       "78329     0\n",
       "62276     1\n",
       "81700     0\n",
       "Name: is_canceled, dtype: int64"
      ]
     },
     "execution_count": 77,
     "metadata": {},
     "output_type": "execute_result"
    }
   ],
   "source": [
    "from sklearn.model_selection import train_test_split, cross_validate, StratifiedKFold\n",
    "from sklearn.preprocessing import OneHotEncoder, MinMaxScaler, StandardScaler\n",
    "\n",
    "X_train_norm_clf_pca = pd.read_pickle('X_train_norm_clf_pca.pkl')\n",
    "X_test_norm_clf_pca = pd.read_pickle('X_test_norm_clf_pca.pkl')\n",
    "y_train_clf = pd.read_pickle('y_train_clf.pkl')\n",
    "y_test_clf = pd.read_pickle('y_test_clf.pkl')\n",
    "X_train_norm_clf_pca.head()\n",
    "\n",
    "y_test_clf.head()\n"
   ]
  },
  {
   "cell_type": "code",
   "execution_count": 78,
   "metadata": {},
   "outputs": [
    {
     "name": "stderr",
     "output_type": "stream",
     "text": [
      "C:\\Users\\Azizf\\AppData\\Local\\Continuum\\anaconda3\\lib\\site-packages\\sklearn\\ensemble\\forest.py:245: FutureWarning: The default value of n_estimators will change from 10 in version 0.20 to 100 in 0.22.\n",
      "  \"10 in version 0.20 to 100 in 0.22.\", FutureWarning)\n"
     ]
    },
    {
     "data": {
      "text/plain": [
       "RandomForestClassifier(bootstrap=True, class_weight=None, criterion='gini',\n",
       "                       max_depth=None, max_features='auto', max_leaf_nodes=None,\n",
       "                       min_impurity_decrease=0.0, min_impurity_split=None,\n",
       "                       min_samples_leaf=1, min_samples_split=2,\n",
       "                       min_weight_fraction_leaf=0.0, n_estimators=10,\n",
       "                       n_jobs=None, oob_score=False, random_state=None,\n",
       "                       verbose=0, warm_start=False)"
      ]
     },
     "execution_count": 78,
     "metadata": {},
     "output_type": "execute_result"
    }
   ],
   "source": [
    "from sklearn.neighbors import KNeighborsClassifier\n",
    "from sklearn.ensemble import RandomForestClassifier\n",
    "\n",
    "logreg = RandomForestClassifier()\n",
    "logreg.fit(X_train_norm_clf_pca, y_train_clf)\n",
    "\n"
   ]
  },
  {
   "cell_type": "code",
   "execution_count": 79,
   "metadata": {},
   "outputs": [
    {
     "data": {
      "text/plain": [
       "array([[18870,  1332],\n",
       "       [ 3464,  8551]], dtype=int64)"
      ]
     },
     "execution_count": 79,
     "metadata": {},
     "output_type": "execute_result"
    }
   ],
   "source": [
    "from sklearn.metrics import confusion_matrix\n",
    "from sklearn.metrics import classification_report\n",
    "from sklearn.metrics import accuracy_score\n",
    "from sklearn.metrics import precision_score\n",
    "from sklearn.metrics import recall_score\n",
    "from sklearn.metrics import f1_score\n",
    "from sklearn import metrics\n",
    "\n",
    "\n",
    "y_pred = logreg.predict(X_test_norm_clf_pca)\n",
    "type(y_pred)\n",
    "confusion_matrix( y_test_clf, y_pred)\n"
   ]
  },
  {
   "cell_type": "code",
   "execution_count": 80,
   "metadata": {
    "scrolled": true
   },
   "outputs": [
    {
     "name": "stdout",
     "output_type": "stream",
     "text": [
      "Accuracy  :  0.8511344942111307\n",
      "Precision :  0.8652231103915815\n",
      "Recall :  0.7116937161880982\n"
     ]
    }
   ],
   "source": [
    "print(\"Accuracy  : \", accuracy_score(y_test_clf, y_pred))\n",
    "print(\"Precision : \", precision_score(y_test_clf, y_pred))\n",
    "print(\"Recall : \", recall_score(y_test_clf, y_pred))"
   ]
  },
  {
   "cell_type": "code",
   "execution_count": null,
   "metadata": {},
   "outputs": [],
   "source": []
  }
 ],
 "metadata": {
  "kernelspec": {
   "display_name": "Python 3",
   "language": "python",
   "name": "python3"
  },
  "language_info": {
   "codemirror_mode": {
    "name": "ipython",
    "version": 3
   },
   "file_extension": ".py",
   "mimetype": "text/x-python",
   "name": "python",
   "nbconvert_exporter": "python",
   "pygments_lexer": "ipython3",
   "version": "3.7.4"
  }
 },
 "nbformat": 4,
 "nbformat_minor": 2
}
