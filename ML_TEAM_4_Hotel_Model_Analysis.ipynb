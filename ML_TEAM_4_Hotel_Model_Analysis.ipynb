{
 "cells": [
  {
   "cell_type": "markdown",
   "metadata": {},
   "source": [
    "## Introduction\n",
    "\n",
    "> This data set contains booking information for a city hotel and a resort hotel, and includes information such as when the booking was made, length of stay, the number of adults, children, and/or babies, and the number of available parking spaces, among other things.\n",
    "\n",
    "> Our analysis will try to answer questions of how duration between booking and reservation and other factors affect reservation price. Further questions of price analysis will also be performed to find optimum independent parameters to find minimum dependent variable value, in this case, the booking price."
   ]
  },
  {
   "cell_type": "markdown",
   "metadata": {},
   "source": [
    "important commands\n",
    "> - Shift + Enter (executes cell)\n",
    "> - Alt + Enter (executes and creates new cell)\n",
    "> - Esc + Shift + Up/Down (expands selection)\n",
    "> - Up/Down (moves cells up/down)\n",
    "\n",
    "> Esc + M (converts cell to markup)\n",
    "> Esc + Y (converts cell to code)\n",
    "> Esc + H (shows all commands)\n",
    "\n",
    "> Underscore twice (converts to bold)\n",
    "> Astrisk once (convrets to italics)\n"
   ]
  },
  {
   "cell_type": "code",
   "execution_count": 3,
   "metadata": {},
   "outputs": [],
   "source": [
    "import matplotlib\n",
    "import matplotlib.pyplot as plt\n",
    "import numpy as np\n",
    "import pandas as pd\n",
    "import datetime\n",
    "from sklearn.preprocessing import OneHotEncoder, MinMaxScaler, StandardScaler\n",
    "from sklearn.pipeline import Pipeline\n",
    "from sklearn.compose import ColumnTransformer\n",
    "import seaborn as sns\n",
    "from sklearn.linear_model import LinearRegression\n",
    "from sklearn.linear_model import SGDRegressor\n",
    "from sklearn import linear_model\n",
    "from sklearn.ensemble import RandomForestRegressor\n",
    "from sklearn.linear_model import LassoLars\n",
    "from sklearn.linear_model import ElasticNet\n",
    "from sklearn.ensemble import AdaBoostRegressor\n",
    "from sklearn.ensemble import GradientBoostingRegressor\n",
    "from sklearn.svm import SVR"
   ]
  },
  {
   "cell_type": "markdown",
   "metadata": {},
   "source": [
    "## Model Analysis\n",
    "\n",
    "Apply model analysis to prepared data from Data Prep notebook."
   ]
  },
  {
   "cell_type": "code",
   "execution_count": 4,
   "metadata": {},
   "outputs": [
    {
     "data": {
      "text/plain": [
       "'\\nmodel = AdaBoostRegressor()\\nmodel.fit(X_train_norm_filtered, y_train)\\n\\nmodel = ElasticNet(alpha=1.0, tol=0.0001)\\nmodel.fit(X_train_norm_filtered, y_train)\\n\\n\\nmodel = RandomForestRegressor()\\nmodel.fit(X_train_norm_filtered, y_train)\\n\\nmodel = SGDRegressor(max_iter=10000, tol=1e-3, eta0 = 0.0001)\\nmodel.fit(X_train_norm_filtered, y_train)\\n\\n\\nmodel = LinearRegression()\\nmodel.fit(X_train_norm_filtered, y_train)\\n\\n\\n\\nmodel = linear_model.LassoLars(alpha=0.00001)\\nmodel.fit(X_train_norm_filtered, y_train)\\n'"
      ]
     },
     "execution_count": 4,
     "metadata": {},
     "output_type": "execute_result"
    }
   ],
   "source": [
    "X_train_norm_reg_kbest = pd.read_pickle('X_train_norm_reg_kbest.pkl')\n",
    "X_test_norm_reg_kbest = pd.read_pickle('X_test_norm_reg_kbest.pkl')\n",
    "y_train_reg = pd.read_pickle('y_train_reg.pkl')\n",
    "y_test_reg = pd.read_pickle('y_test_reg.pkl')\n",
    "\n",
    "model = SGDRegressor()\n",
    "model.fit(X_train_norm_reg_kbest, y_train_reg)\n",
    "\n",
    "\"\"\"\n",
    "model = AdaBoostRegressor()\n",
    "model.fit(X_train_norm_filtered, y_train)\n",
    "\n",
    "model = ElasticNet(alpha=1.0, tol=0.0001)\n",
    "model.fit(X_train_norm_filtered, y_train)\n",
    "\n",
    "\n",
    "model = RandomForestRegressor()\n",
    "model.fit(X_train_norm_filtered, y_train)\n",
    "\n",
    "model = SGDRegressor(max_iter=10000, tol=1e-3, eta0 = 0.0001)\n",
    "model.fit(X_train_norm_filtered, y_train)\n",
    "\n",
    "\n",
    "model = LinearRegression()\n",
    "model.fit(X_train_norm_filtered, y_train)\n",
    "\n",
    "\n",
    "\n",
    "model = linear_model.LassoLars(alpha=0.00001)\n",
    "model.fit(X_train_norm_filtered, y_train)\n",
    "\"\"\"\n"
   ]
  },
  {
   "cell_type": "code",
   "execution_count": 5,
   "metadata": {},
   "outputs": [],
   "source": [
    "y_hat = model.predict(X_test_norm_reg_kbest)"
   ]
  },
  {
   "cell_type": "code",
   "execution_count": 6,
   "metadata": {},
   "outputs": [
    {
     "name": "stdout",
     "output_type": "stream",
     "text": [
      "27.623543050178377\n",
      "20.51184599571489\n"
     ]
    },
    {
     "data": {
      "text/plain": [
       "'\\nlinear\\n29.754990878612507\\n23.252648836567797\\n\\nSVR\\n27.881752005199903\\n20.679435892922054\\n\\nSGD\\n27.441660441583327\\n20.40611646701147\\n\\nRandomForest:\\n27.690988051757227\\n20.529304934191707\\n\\nElastic-Net\\n36.611635396396146\\n28.50927781873622\\n\\nAdaBoost\\n35.36260456131857\\n28.16338324191093\\n'"
      ]
     },
     "execution_count": 6,
     "metadata": {},
     "output_type": "execute_result"
    }
   ],
   "source": [
    "from sklearn.metrics import mean_squared_error, mean_absolute_error\n",
    "\n",
    "mse = mean_squared_error(y_test_reg.values, y_hat)\n",
    "\n",
    "rmse = np.sqrt(mse)\n",
    "\n",
    "mae = mean_absolute_error(y_test_reg.values, y_hat)\n",
    "                          \n",
    "print(rmse)\n",
    "print(mae)\n",
    "\n",
    "\"\"\"\n",
    "linear\n",
    "29.754990878612507\n",
    "23.252648836567797\n",
    "\n",
    "SVR\n",
    "27.881752005199903\n",
    "20.679435892922054\n",
    "\n",
    "SGD\n",
    "27.441660441583327\n",
    "20.40611646701147\n",
    "\n",
    "RandomForest:\n",
    "27.690988051757227\n",
    "20.529304934191707\n",
    "\n",
    "Elastic-Net\n",
    "36.611635396396146\n",
    "28.50927781873622\n",
    "\n",
    "AdaBoost\n",
    "35.36260456131857\n",
    "28.16338324191093\n",
    "\"\"\""
   ]
  },
  {
   "cell_type": "markdown",
   "metadata": {},
   "source": [
    "# is_cancelled Prediction\n"
   ]
  },
  {
   "cell_type": "code",
   "execution_count": 22,
   "metadata": {},
   "outputs": [
    {
     "data": {
      "text/plain": [
       "118260    0\n",
       "40600     1\n",
       "78329     0\n",
       "62276     1\n",
       "81700     0\n",
       "Name: is_canceled, dtype: int64"
      ]
     },
     "execution_count": 22,
     "metadata": {},
     "output_type": "execute_result"
    }
   ],
   "source": [
    "from sklearn.model_selection import train_test_split, cross_validate, StratifiedKFold\n",
    "from sklearn.preprocessing import OneHotEncoder, MinMaxScaler, StandardScaler\n",
    "\n",
    "X_train_norm_clf_pca = pd.read_pickle('X_train_norm_clf_pca.pkl')\n",
    "X_test_norm_clf_pca = pd.read_pickle('X_test_norm_clf_pca.pkl')\n",
    "y_train_clf = pd.read_pickle('y_train_clf.pkl')\n",
    "y_test_clf = pd.read_pickle('y_test_clf.pkl')\n",
    "X_train_norm_clf_pca.head()\n",
    "\n",
    "y_test_clf.head()\n"
   ]
  },
  {
   "cell_type": "code",
   "execution_count": 20,
   "metadata": {},
   "outputs": [
    {
     "name": "stderr",
     "output_type": "stream",
     "text": [
      "C:\\Users\\Azizf\\AppData\\Local\\Continuum\\anaconda3\\lib\\site-packages\\sklearn\\ensemble\\forest.py:245: FutureWarning: The default value of n_estimators will change from 10 in version 0.20 to 100 in 0.22.\n",
      "  \"10 in version 0.20 to 100 in 0.22.\", FutureWarning)\n"
     ]
    },
    {
     "data": {
      "text/plain": [
       "RandomForestClassifier(bootstrap=True, class_weight=None, criterion='gini',\n",
       "                       max_depth=None, max_features='auto', max_leaf_nodes=None,\n",
       "                       min_impurity_decrease=0.0, min_impurity_split=None,\n",
       "                       min_samples_leaf=1, min_samples_split=2,\n",
       "                       min_weight_fraction_leaf=0.0, n_estimators=10,\n",
       "                       n_jobs=None, oob_score=False, random_state=None,\n",
       "                       verbose=0, warm_start=False)"
      ]
     },
     "execution_count": 20,
     "metadata": {},
     "output_type": "execute_result"
    }
   ],
   "source": [
    "from sklearn.neighbors import KNeighborsClassifier\n",
    "from sklearn.ensemble import RandomForestClassifier\n",
    "\n",
    "logreg = RandomForestClassifier()\n",
    "logreg.fit(X_train_norm_clf_pca, y_train_clf)\n",
    "\n"
   ]
  },
  {
   "cell_type": "code",
   "execution_count": 25,
   "metadata": {},
   "outputs": [
    {
     "data": {
      "text/plain": [
       "array([[20198,     4],\n",
       "       [   87, 11928]], dtype=int64)"
      ]
     },
     "execution_count": 25,
     "metadata": {},
     "output_type": "execute_result"
    }
   ],
   "source": [
    "from sklearn.metrics import confusion_matrix\n",
    "from sklearn.metrics import classification_report\n",
    "from sklearn.metrics import accuracy_score\n",
    "from sklearn.metrics import precision_score\n",
    "from sklearn.metrics import recall_score\n",
    "from sklearn.metrics import f1_score\n",
    "from sklearn import metrics\n",
    "\n",
    "\n",
    "y_pred = logreg.predict(X_test_norm_clf_pca)\n",
    "type(y_pred)\n",
    "confusion_matrix( y_test_clf, y_pred)\n"
   ]
  },
  {
   "cell_type": "code",
   "execution_count": 27,
   "metadata": {
    "scrolled": true
   },
   "outputs": [
    {
     "name": "stdout",
     "output_type": "stream",
     "text": [
      "Accuracy  :  0.9971754042896608\n",
      "Precision :  0.999664767013074\n",
      "Recall :  0.9927590511860175\n"
     ]
    }
   ],
   "source": [
    "print(\"Accuracy  : \", accuracy_score(y_test_clf, y_pred))\n",
    "print(\"Precision : \", precision_score(y_test_clf, y_pred))\n",
    "print(\"Recall : \", recall_score(y_test_clf, y_pred))"
   ]
  }
 ],
 "metadata": {
  "kernelspec": {
   "display_name": "Python 3",
   "language": "python",
   "name": "python3"
  },
  "language_info": {
   "codemirror_mode": {
    "name": "ipython",
    "version": 3
   },
   "file_extension": ".py",
   "mimetype": "text/x-python",
   "name": "python",
   "nbconvert_exporter": "python",
   "pygments_lexer": "ipython3",
   "version": "3.7.4"
  }
 },
 "nbformat": 4,
 "nbformat_minor": 2
}
