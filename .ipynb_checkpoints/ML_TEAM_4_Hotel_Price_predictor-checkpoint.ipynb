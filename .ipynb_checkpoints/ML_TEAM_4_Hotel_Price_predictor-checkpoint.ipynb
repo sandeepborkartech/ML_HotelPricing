{
 "cells": [
  {
   "cell_type": "markdown",
   "metadata": {},
   "source": [
    "## Introduction\n",
    "\n",
    "> This data set contains booking information for a city hotel and a resort hotel, and includes information such as when the booking was made, length of stay, the number of adults, children, and/or babies, and the number of available parking spaces, among other things.\n",
    "\n",
    "> Our analysis will try to answer questions of how duration between booking and reservation and other factors affect reservation price. Further questions of price analysis will also be performed to find optimum independent parameters to find minimum dependent variable value, in this case, the booking price."
   ]
  },
  {
   "cell_type": "markdown",
   "metadata": {},
   "source": [
    "important commands\n",
    "> - Shift + Enter (executes cell)\n",
    "> - Alt + Enter (executes and creates new cell)\n",
    "> - Esc + Shift + Up/Down (expands selection)\n",
    "> - Up/Down (moves cells up/down)\n",
    "\n",
    "> Esc + M (converts cell to markup)\n",
    "> Esc + Y (converts cell to code)\n",
    "> Esc + H (shows all commands)\n",
    "\n",
    "> Underscore twice (converts to bold)\n",
    "> Astrisk once (convrets to italics)\n"
   ]
  },
  {
   "cell_type": "code",
   "execution_count": 40,
   "metadata": {},
   "outputs": [],
   "source": [
    "import matplotlib\n",
    "import matplotlib.pyplot as plt\n",
    "import numpy as np\n",
    "import pandas as pd\n",
    "import datetime\n",
    "from sklearn.preprocessing import OneHotEncoder, MinMaxScaler, StandardScaler\n",
    "from sklearn.pipeline import Pipeline\n",
    "\n",
    "from sklearn.compose import ColumnTransformer\n",
    "import seaborn as sns"
   ]
  },
  {
   "cell_type": "markdown",
   "metadata": {},
   "source": [
    "## Exploratory Analysis\n",
    "\n",
    "Read csv files without header included and show shape"
   ]
  },
  {
   "cell_type": "code",
   "execution_count": 257,
   "metadata": {
    "scrolled": true
   },
   "outputs": [
    {
     "data": {
      "text/html": [
       "<div>\n",
       "<style scoped>\n",
       "    .dataframe tbody tr th:only-of-type {\n",
       "        vertical-align: middle;\n",
       "    }\n",
       "\n",
       "    .dataframe tbody tr th {\n",
       "        vertical-align: top;\n",
       "    }\n",
       "\n",
       "    .dataframe thead th {\n",
       "        text-align: right;\n",
       "    }\n",
       "</style>\n",
       "<table border=\"1\" class=\"dataframe\">\n",
       "  <thead>\n",
       "    <tr style=\"text-align: right;\">\n",
       "      <th></th>\n",
       "      <th>hotel</th>\n",
       "      <th>is_canceled</th>\n",
       "      <th>lead_time</th>\n",
       "      <th>arrival_date_year</th>\n",
       "      <th>arrival_date_month</th>\n",
       "      <th>arrival_date_week_number</th>\n",
       "      <th>arrival_date_day_of_month</th>\n",
       "      <th>stays_in_weekend_nights</th>\n",
       "      <th>stays_in_week_nights</th>\n",
       "      <th>adults</th>\n",
       "      <th>...</th>\n",
       "      <th>deposit_type</th>\n",
       "      <th>agent</th>\n",
       "      <th>company</th>\n",
       "      <th>days_in_waiting_list</th>\n",
       "      <th>customer_type</th>\n",
       "      <th>adr</th>\n",
       "      <th>required_car_parking_spaces</th>\n",
       "      <th>total_of_special_requests</th>\n",
       "      <th>reservation_status</th>\n",
       "      <th>reservation_status_date</th>\n",
       "    </tr>\n",
       "  </thead>\n",
       "  <tbody>\n",
       "    <tr>\n",
       "      <td>0</td>\n",
       "      <td>Resort Hotel</td>\n",
       "      <td>0</td>\n",
       "      <td>342</td>\n",
       "      <td>2015</td>\n",
       "      <td>July</td>\n",
       "      <td>27</td>\n",
       "      <td>1</td>\n",
       "      <td>0</td>\n",
       "      <td>0</td>\n",
       "      <td>2</td>\n",
       "      <td>...</td>\n",
       "      <td>No Deposit</td>\n",
       "      <td>NaN</td>\n",
       "      <td>NaN</td>\n",
       "      <td>0</td>\n",
       "      <td>Transient</td>\n",
       "      <td>0.0</td>\n",
       "      <td>0</td>\n",
       "      <td>0</td>\n",
       "      <td>Check-Out</td>\n",
       "      <td>2015-07-01</td>\n",
       "    </tr>\n",
       "    <tr>\n",
       "      <td>1</td>\n",
       "      <td>Resort Hotel</td>\n",
       "      <td>0</td>\n",
       "      <td>737</td>\n",
       "      <td>2015</td>\n",
       "      <td>July</td>\n",
       "      <td>27</td>\n",
       "      <td>1</td>\n",
       "      <td>0</td>\n",
       "      <td>0</td>\n",
       "      <td>2</td>\n",
       "      <td>...</td>\n",
       "      <td>No Deposit</td>\n",
       "      <td>NaN</td>\n",
       "      <td>NaN</td>\n",
       "      <td>0</td>\n",
       "      <td>Transient</td>\n",
       "      <td>0.0</td>\n",
       "      <td>0</td>\n",
       "      <td>0</td>\n",
       "      <td>Check-Out</td>\n",
       "      <td>2015-07-01</td>\n",
       "    </tr>\n",
       "    <tr>\n",
       "      <td>2</td>\n",
       "      <td>Resort Hotel</td>\n",
       "      <td>0</td>\n",
       "      <td>7</td>\n",
       "      <td>2015</td>\n",
       "      <td>July</td>\n",
       "      <td>27</td>\n",
       "      <td>1</td>\n",
       "      <td>0</td>\n",
       "      <td>1</td>\n",
       "      <td>1</td>\n",
       "      <td>...</td>\n",
       "      <td>No Deposit</td>\n",
       "      <td>NaN</td>\n",
       "      <td>NaN</td>\n",
       "      <td>0</td>\n",
       "      <td>Transient</td>\n",
       "      <td>75.0</td>\n",
       "      <td>0</td>\n",
       "      <td>0</td>\n",
       "      <td>Check-Out</td>\n",
       "      <td>2015-07-02</td>\n",
       "    </tr>\n",
       "    <tr>\n",
       "      <td>3</td>\n",
       "      <td>Resort Hotel</td>\n",
       "      <td>0</td>\n",
       "      <td>13</td>\n",
       "      <td>2015</td>\n",
       "      <td>July</td>\n",
       "      <td>27</td>\n",
       "      <td>1</td>\n",
       "      <td>0</td>\n",
       "      <td>1</td>\n",
       "      <td>1</td>\n",
       "      <td>...</td>\n",
       "      <td>No Deposit</td>\n",
       "      <td>304.0</td>\n",
       "      <td>NaN</td>\n",
       "      <td>0</td>\n",
       "      <td>Transient</td>\n",
       "      <td>75.0</td>\n",
       "      <td>0</td>\n",
       "      <td>0</td>\n",
       "      <td>Check-Out</td>\n",
       "      <td>2015-07-02</td>\n",
       "    </tr>\n",
       "    <tr>\n",
       "      <td>4</td>\n",
       "      <td>Resort Hotel</td>\n",
       "      <td>0</td>\n",
       "      <td>14</td>\n",
       "      <td>2015</td>\n",
       "      <td>July</td>\n",
       "      <td>27</td>\n",
       "      <td>1</td>\n",
       "      <td>0</td>\n",
       "      <td>2</td>\n",
       "      <td>2</td>\n",
       "      <td>...</td>\n",
       "      <td>No Deposit</td>\n",
       "      <td>240.0</td>\n",
       "      <td>NaN</td>\n",
       "      <td>0</td>\n",
       "      <td>Transient</td>\n",
       "      <td>98.0</td>\n",
       "      <td>0</td>\n",
       "      <td>1</td>\n",
       "      <td>Check-Out</td>\n",
       "      <td>2015-07-03</td>\n",
       "    </tr>\n",
       "  </tbody>\n",
       "</table>\n",
       "<p>5 rows × 32 columns</p>\n",
       "</div>"
      ],
      "text/plain": [
       "          hotel  is_canceled  lead_time  arrival_date_year arrival_date_month  \\\n",
       "0  Resort Hotel            0        342               2015               July   \n",
       "1  Resort Hotel            0        737               2015               July   \n",
       "2  Resort Hotel            0          7               2015               July   \n",
       "3  Resort Hotel            0         13               2015               July   \n",
       "4  Resort Hotel            0         14               2015               July   \n",
       "\n",
       "   arrival_date_week_number  arrival_date_day_of_month  \\\n",
       "0                        27                          1   \n",
       "1                        27                          1   \n",
       "2                        27                          1   \n",
       "3                        27                          1   \n",
       "4                        27                          1   \n",
       "\n",
       "   stays_in_weekend_nights  stays_in_week_nights  adults  ...  deposit_type  \\\n",
       "0                        0                     0       2  ...    No Deposit   \n",
       "1                        0                     0       2  ...    No Deposit   \n",
       "2                        0                     1       1  ...    No Deposit   \n",
       "3                        0                     1       1  ...    No Deposit   \n",
       "4                        0                     2       2  ...    No Deposit   \n",
       "\n",
       "   agent company days_in_waiting_list customer_type   adr  \\\n",
       "0    NaN     NaN                    0     Transient   0.0   \n",
       "1    NaN     NaN                    0     Transient   0.0   \n",
       "2    NaN     NaN                    0     Transient  75.0   \n",
       "3  304.0     NaN                    0     Transient  75.0   \n",
       "4  240.0     NaN                    0     Transient  98.0   \n",
       "\n",
       "   required_car_parking_spaces  total_of_special_requests  reservation_status  \\\n",
       "0                            0                          0           Check-Out   \n",
       "1                            0                          0           Check-Out   \n",
       "2                            0                          0           Check-Out   \n",
       "3                            0                          0           Check-Out   \n",
       "4                            0                          1           Check-Out   \n",
       "\n",
       "  reservation_status_date  \n",
       "0              2015-07-01  \n",
       "1              2015-07-01  \n",
       "2              2015-07-02  \n",
       "3              2015-07-02  \n",
       "4              2015-07-03  \n",
       "\n",
       "[5 rows x 32 columns]"
      ]
     },
     "execution_count": 257,
     "metadata": {},
     "output_type": "execute_result"
    }
   ],
   "source": [
    "df_hotel =pd.read_csv(\"hotel_bookings.csv\", skiprows=0, header=0)\n",
    "# storing data in backup for easy loading in next cell \n",
    "# (helps keep run context for each cell, so that they can be run independently)\n",
    "df_hotel.head(5)"
   ]
  },
  {
   "cell_type": "code",
   "execution_count": 258,
   "metadata": {},
   "outputs": [
    {
     "data": {
      "text/html": [
       "<div>\n",
       "<style scoped>\n",
       "    .dataframe tbody tr th:only-of-type {\n",
       "        vertical-align: middle;\n",
       "    }\n",
       "\n",
       "    .dataframe tbody tr th {\n",
       "        vertical-align: top;\n",
       "    }\n",
       "\n",
       "    .dataframe thead th {\n",
       "        text-align: right;\n",
       "    }\n",
       "</style>\n",
       "<table border=\"1\" class=\"dataframe\">\n",
       "  <thead>\n",
       "    <tr style=\"text-align: right;\">\n",
       "      <th></th>\n",
       "      <th>hotel</th>\n",
       "      <th>is_canceled</th>\n",
       "      <th>lead_time</th>\n",
       "      <th>arrival_date_year</th>\n",
       "      <th>arrival_date_month</th>\n",
       "      <th>arrival_date_week_number</th>\n",
       "      <th>arrival_date_day_of_month</th>\n",
       "      <th>stays_in_weekend_nights</th>\n",
       "      <th>stays_in_week_nights</th>\n",
       "      <th>adults</th>\n",
       "      <th>...</th>\n",
       "      <th>company</th>\n",
       "      <th>days_in_waiting_list</th>\n",
       "      <th>customer_type</th>\n",
       "      <th>adr</th>\n",
       "      <th>required_car_parking_spaces</th>\n",
       "      <th>total_of_special_requests</th>\n",
       "      <th>reservation_status</th>\n",
       "      <th>reservation_status_date</th>\n",
       "      <th>arrival_weekday_num</th>\n",
       "      <th>arrival_day_is_weekend</th>\n",
       "    </tr>\n",
       "  </thead>\n",
       "  <tbody>\n",
       "    <tr>\n",
       "      <td>0</td>\n",
       "      <td>Resort Hotel</td>\n",
       "      <td>0</td>\n",
       "      <td>342</td>\n",
       "      <td>2015</td>\n",
       "      <td>July</td>\n",
       "      <td>27</td>\n",
       "      <td>1</td>\n",
       "      <td>0</td>\n",
       "      <td>0</td>\n",
       "      <td>2</td>\n",
       "      <td>...</td>\n",
       "      <td>NaN</td>\n",
       "      <td>0</td>\n",
       "      <td>Transient</td>\n",
       "      <td>0.0</td>\n",
       "      <td>0</td>\n",
       "      <td>0</td>\n",
       "      <td>Check-Out</td>\n",
       "      <td>2015-07-01</td>\n",
       "      <td>2</td>\n",
       "      <td>0</td>\n",
       "    </tr>\n",
       "    <tr>\n",
       "      <td>1</td>\n",
       "      <td>Resort Hotel</td>\n",
       "      <td>0</td>\n",
       "      <td>737</td>\n",
       "      <td>2015</td>\n",
       "      <td>July</td>\n",
       "      <td>27</td>\n",
       "      <td>1</td>\n",
       "      <td>0</td>\n",
       "      <td>0</td>\n",
       "      <td>2</td>\n",
       "      <td>...</td>\n",
       "      <td>NaN</td>\n",
       "      <td>0</td>\n",
       "      <td>Transient</td>\n",
       "      <td>0.0</td>\n",
       "      <td>0</td>\n",
       "      <td>0</td>\n",
       "      <td>Check-Out</td>\n",
       "      <td>2015-07-01</td>\n",
       "      <td>2</td>\n",
       "      <td>0</td>\n",
       "    </tr>\n",
       "    <tr>\n",
       "      <td>2</td>\n",
       "      <td>Resort Hotel</td>\n",
       "      <td>0</td>\n",
       "      <td>7</td>\n",
       "      <td>2015</td>\n",
       "      <td>July</td>\n",
       "      <td>27</td>\n",
       "      <td>1</td>\n",
       "      <td>0</td>\n",
       "      <td>1</td>\n",
       "      <td>1</td>\n",
       "      <td>...</td>\n",
       "      <td>NaN</td>\n",
       "      <td>0</td>\n",
       "      <td>Transient</td>\n",
       "      <td>75.0</td>\n",
       "      <td>0</td>\n",
       "      <td>0</td>\n",
       "      <td>Check-Out</td>\n",
       "      <td>2015-07-02</td>\n",
       "      <td>2</td>\n",
       "      <td>0</td>\n",
       "    </tr>\n",
       "    <tr>\n",
       "      <td>3</td>\n",
       "      <td>Resort Hotel</td>\n",
       "      <td>0</td>\n",
       "      <td>13</td>\n",
       "      <td>2015</td>\n",
       "      <td>July</td>\n",
       "      <td>27</td>\n",
       "      <td>1</td>\n",
       "      <td>0</td>\n",
       "      <td>1</td>\n",
       "      <td>1</td>\n",
       "      <td>...</td>\n",
       "      <td>NaN</td>\n",
       "      <td>0</td>\n",
       "      <td>Transient</td>\n",
       "      <td>75.0</td>\n",
       "      <td>0</td>\n",
       "      <td>0</td>\n",
       "      <td>Check-Out</td>\n",
       "      <td>2015-07-02</td>\n",
       "      <td>2</td>\n",
       "      <td>0</td>\n",
       "    </tr>\n",
       "    <tr>\n",
       "      <td>4</td>\n",
       "      <td>Resort Hotel</td>\n",
       "      <td>0</td>\n",
       "      <td>14</td>\n",
       "      <td>2015</td>\n",
       "      <td>July</td>\n",
       "      <td>27</td>\n",
       "      <td>1</td>\n",
       "      <td>0</td>\n",
       "      <td>2</td>\n",
       "      <td>2</td>\n",
       "      <td>...</td>\n",
       "      <td>NaN</td>\n",
       "      <td>0</td>\n",
       "      <td>Transient</td>\n",
       "      <td>98.0</td>\n",
       "      <td>0</td>\n",
       "      <td>1</td>\n",
       "      <td>Check-Out</td>\n",
       "      <td>2015-07-03</td>\n",
       "      <td>2</td>\n",
       "      <td>0</td>\n",
       "    </tr>\n",
       "  </tbody>\n",
       "</table>\n",
       "<p>5 rows × 34 columns</p>\n",
       "</div>"
      ],
      "text/plain": [
       "          hotel  is_canceled  lead_time  arrival_date_year arrival_date_month  \\\n",
       "0  Resort Hotel            0        342               2015               July   \n",
       "1  Resort Hotel            0        737               2015               July   \n",
       "2  Resort Hotel            0          7               2015               July   \n",
       "3  Resort Hotel            0         13               2015               July   \n",
       "4  Resort Hotel            0         14               2015               July   \n",
       "\n",
       "   arrival_date_week_number  arrival_date_day_of_month  \\\n",
       "0                        27                          1   \n",
       "1                        27                          1   \n",
       "2                        27                          1   \n",
       "3                        27                          1   \n",
       "4                        27                          1   \n",
       "\n",
       "   stays_in_weekend_nights  stays_in_week_nights  adults  ...  company  \\\n",
       "0                        0                     0       2  ...      NaN   \n",
       "1                        0                     0       2  ...      NaN   \n",
       "2                        0                     1       1  ...      NaN   \n",
       "3                        0                     1       1  ...      NaN   \n",
       "4                        0                     2       2  ...      NaN   \n",
       "\n",
       "   days_in_waiting_list customer_type   adr required_car_parking_spaces  \\\n",
       "0                     0     Transient   0.0                           0   \n",
       "1                     0     Transient   0.0                           0   \n",
       "2                     0     Transient  75.0                           0   \n",
       "3                     0     Transient  75.0                           0   \n",
       "4                     0     Transient  98.0                           0   \n",
       "\n",
       "  total_of_special_requests  reservation_status  reservation_status_date  \\\n",
       "0                         0           Check-Out               2015-07-01   \n",
       "1                         0           Check-Out               2015-07-01   \n",
       "2                         0           Check-Out               2015-07-02   \n",
       "3                         0           Check-Out               2015-07-02   \n",
       "4                         1           Check-Out               2015-07-03   \n",
       "\n",
       "   arrival_weekday_num arrival_day_is_weekend  \n",
       "0                    2                      0  \n",
       "1                    2                      0  \n",
       "2                    2                      0  \n",
       "3                    2                      0  \n",
       "4                    2                      0  \n",
       "\n",
       "[5 rows x 34 columns]"
      ]
     },
     "execution_count": 258,
     "metadata": {},
     "output_type": "execute_result"
    }
   ],
   "source": [
    "weekday = []\n",
    "isWeekend = []\n",
    "for index, row in df_hotel.iterrows():\n",
    "    year = df_hotel['arrival_date_year'].iloc[index]\n",
    "    month_name = df_hotel['arrival_date_month'].iloc[index]\n",
    "    month_number = datetime.datetime.strptime(month_name, '%B').month\n",
    "    dayOfMonth = df_hotel['arrival_date_day_of_month'].iloc[index]\n",
    "    dayOfWeek = datetime.datetime(year,month_number,dayOfMonth).weekday()\n",
    "    weekday.append(dayOfWeek)\n",
    "    if (dayOfWeek>3):\n",
    "        isWeekend.append(1)\n",
    "    else:\n",
    "        isWeekend.append(0)\n",
    "       \n",
    "df_hotel['arrival_weekday_num'] = weekday\n",
    "df_hotel['arrival_day_is_weekend'] = isWeekend\n",
    "\n",
    "df_hotel.head(5)"
   ]
  },
  {
   "cell_type": "code",
   "execution_count": 259,
   "metadata": {},
   "outputs": [
    {
     "name": "stdout",
     "output_type": "stream",
     "text": [
      "(119390, 34)\n"
     ]
    }
   ],
   "source": [
    "# sample read and save - will be removed after project is done\n",
    "#df_hotel = pd.read_pickle('hotel_bookings_.pkl')\n",
    "df_hotel.to_pickle('hotel_bookings_1.pkl')\n",
    "print(df_hotel.shape)\n",
    "df_hotel.to_pickle('hotel_bookings_.pkl')"
   ]
  },
  {
   "cell_type": "markdown",
   "metadata": {},
   "source": [
    "<hr><hr>\n",
    "\n",
    "Show columns and their data types for further analysis"
   ]
  },
  {
   "cell_type": "code",
   "execution_count": 260,
   "metadata": {},
   "outputs": [
    {
     "name": "stdout",
     "output_type": "stream",
     "text": [
      "<class 'pandas.core.frame.DataFrame'>\n",
      "RangeIndex: 119390 entries, 0 to 119389\n",
      "Data columns (total 34 columns):\n",
      "hotel                             119390 non-null object\n",
      "is_canceled                       119390 non-null int64\n",
      "lead_time                         119390 non-null int64\n",
      "arrival_date_year                 119390 non-null int64\n",
      "arrival_date_month                119390 non-null object\n",
      "arrival_date_week_number          119390 non-null int64\n",
      "arrival_date_day_of_month         119390 non-null int64\n",
      "stays_in_weekend_nights           119390 non-null int64\n",
      "stays_in_week_nights              119390 non-null int64\n",
      "adults                            119390 non-null int64\n",
      "children                          119386 non-null float64\n",
      "babies                            119390 non-null int64\n",
      "meal                              119390 non-null object\n",
      "country                           118902 non-null object\n",
      "market_segment                    119390 non-null object\n",
      "distribution_channel              119390 non-null object\n",
      "is_repeated_guest                 119390 non-null int64\n",
      "previous_cancellations            119390 non-null int64\n",
      "previous_bookings_not_canceled    119390 non-null int64\n",
      "reserved_room_type                119390 non-null object\n",
      "assigned_room_type                119390 non-null object\n",
      "booking_changes                   119390 non-null int64\n",
      "deposit_type                      119390 non-null object\n",
      "agent                             103050 non-null float64\n",
      "company                           6797 non-null float64\n",
      "days_in_waiting_list              119390 non-null int64\n",
      "customer_type                     119390 non-null object\n",
      "adr                               119390 non-null float64\n",
      "required_car_parking_spaces       119390 non-null int64\n",
      "total_of_special_requests         119390 non-null int64\n",
      "reservation_status                119390 non-null object\n",
      "reservation_status_date           119390 non-null object\n",
      "arrival_weekday_num               119390 non-null int64\n",
      "arrival_day_is_weekend            119390 non-null int64\n",
      "dtypes: float64(4), int64(18), object(12)\n",
      "memory usage: 31.0+ MB\n"
     ]
    }
   ],
   "source": [
    "df_hotel = pd.read_pickle('hotel_bookings_1.pkl')\n",
    "df_hotel.info()"
   ]
  },
  {
   "cell_type": "markdown",
   "metadata": {},
   "source": [
    "<hr><hr>\n",
    "Describe distributions of each column, it will make sense for numerical columns"
   ]
  },
  {
   "cell_type": "code",
   "execution_count": 261,
   "metadata": {},
   "outputs": [
    {
     "data": {
      "text/html": [
       "<div>\n",
       "<style scoped>\n",
       "    .dataframe tbody tr th:only-of-type {\n",
       "        vertical-align: middle;\n",
       "    }\n",
       "\n",
       "    .dataframe tbody tr th {\n",
       "        vertical-align: top;\n",
       "    }\n",
       "\n",
       "    .dataframe thead th {\n",
       "        text-align: right;\n",
       "    }\n",
       "</style>\n",
       "<table border=\"1\" class=\"dataframe\">\n",
       "  <thead>\n",
       "    <tr style=\"text-align: right;\">\n",
       "      <th></th>\n",
       "      <th>is_canceled</th>\n",
       "      <th>lead_time</th>\n",
       "      <th>arrival_date_year</th>\n",
       "      <th>arrival_date_week_number</th>\n",
       "      <th>arrival_date_day_of_month</th>\n",
       "      <th>stays_in_weekend_nights</th>\n",
       "      <th>stays_in_week_nights</th>\n",
       "      <th>adults</th>\n",
       "      <th>children</th>\n",
       "      <th>babies</th>\n",
       "      <th>...</th>\n",
       "      <th>previous_bookings_not_canceled</th>\n",
       "      <th>booking_changes</th>\n",
       "      <th>agent</th>\n",
       "      <th>company</th>\n",
       "      <th>days_in_waiting_list</th>\n",
       "      <th>adr</th>\n",
       "      <th>required_car_parking_spaces</th>\n",
       "      <th>total_of_special_requests</th>\n",
       "      <th>arrival_weekday_num</th>\n",
       "      <th>arrival_day_is_weekend</th>\n",
       "    </tr>\n",
       "  </thead>\n",
       "  <tbody>\n",
       "    <tr>\n",
       "      <td>count</td>\n",
       "      <td>119390.000000</td>\n",
       "      <td>119390.000000</td>\n",
       "      <td>119390.000000</td>\n",
       "      <td>119390.000000</td>\n",
       "      <td>119390.000000</td>\n",
       "      <td>119390.000000</td>\n",
       "      <td>119390.000000</td>\n",
       "      <td>119390.000000</td>\n",
       "      <td>119386.000000</td>\n",
       "      <td>119390.000000</td>\n",
       "      <td>...</td>\n",
       "      <td>119390.000000</td>\n",
       "      <td>119390.000000</td>\n",
       "      <td>103050.000000</td>\n",
       "      <td>6797.000000</td>\n",
       "      <td>119390.000000</td>\n",
       "      <td>119390.000000</td>\n",
       "      <td>119390.000000</td>\n",
       "      <td>119390.000000</td>\n",
       "      <td>119390.000000</td>\n",
       "      <td>119390.000000</td>\n",
       "    </tr>\n",
       "    <tr>\n",
       "      <td>mean</td>\n",
       "      <td>0.370416</td>\n",
       "      <td>104.011416</td>\n",
       "      <td>2016.156554</td>\n",
       "      <td>27.165173</td>\n",
       "      <td>15.798241</td>\n",
       "      <td>0.927599</td>\n",
       "      <td>2.500302</td>\n",
       "      <td>1.856403</td>\n",
       "      <td>0.103890</td>\n",
       "      <td>0.007949</td>\n",
       "      <td>...</td>\n",
       "      <td>0.137097</td>\n",
       "      <td>0.221124</td>\n",
       "      <td>86.693382</td>\n",
       "      <td>189.266735</td>\n",
       "      <td>2.321149</td>\n",
       "      <td>101.831122</td>\n",
       "      <td>0.062518</td>\n",
       "      <td>0.571363</td>\n",
       "      <td>2.995929</td>\n",
       "      <td>0.434098</td>\n",
       "    </tr>\n",
       "    <tr>\n",
       "      <td>std</td>\n",
       "      <td>0.482918</td>\n",
       "      <td>106.863097</td>\n",
       "      <td>0.707476</td>\n",
       "      <td>13.605138</td>\n",
       "      <td>8.780829</td>\n",
       "      <td>0.998613</td>\n",
       "      <td>1.908286</td>\n",
       "      <td>0.579261</td>\n",
       "      <td>0.398561</td>\n",
       "      <td>0.097436</td>\n",
       "      <td>...</td>\n",
       "      <td>1.497437</td>\n",
       "      <td>0.652306</td>\n",
       "      <td>110.774548</td>\n",
       "      <td>131.655015</td>\n",
       "      <td>17.594721</td>\n",
       "      <td>50.535790</td>\n",
       "      <td>0.245291</td>\n",
       "      <td>0.792798</td>\n",
       "      <td>1.951750</td>\n",
       "      <td>0.495640</td>\n",
       "    </tr>\n",
       "    <tr>\n",
       "      <td>min</td>\n",
       "      <td>0.000000</td>\n",
       "      <td>0.000000</td>\n",
       "      <td>2015.000000</td>\n",
       "      <td>1.000000</td>\n",
       "      <td>1.000000</td>\n",
       "      <td>0.000000</td>\n",
       "      <td>0.000000</td>\n",
       "      <td>0.000000</td>\n",
       "      <td>0.000000</td>\n",
       "      <td>0.000000</td>\n",
       "      <td>...</td>\n",
       "      <td>0.000000</td>\n",
       "      <td>0.000000</td>\n",
       "      <td>1.000000</td>\n",
       "      <td>6.000000</td>\n",
       "      <td>0.000000</td>\n",
       "      <td>-6.380000</td>\n",
       "      <td>0.000000</td>\n",
       "      <td>0.000000</td>\n",
       "      <td>0.000000</td>\n",
       "      <td>0.000000</td>\n",
       "    </tr>\n",
       "    <tr>\n",
       "      <td>25%</td>\n",
       "      <td>0.000000</td>\n",
       "      <td>18.000000</td>\n",
       "      <td>2016.000000</td>\n",
       "      <td>16.000000</td>\n",
       "      <td>8.000000</td>\n",
       "      <td>0.000000</td>\n",
       "      <td>1.000000</td>\n",
       "      <td>2.000000</td>\n",
       "      <td>0.000000</td>\n",
       "      <td>0.000000</td>\n",
       "      <td>...</td>\n",
       "      <td>0.000000</td>\n",
       "      <td>0.000000</td>\n",
       "      <td>9.000000</td>\n",
       "      <td>62.000000</td>\n",
       "      <td>0.000000</td>\n",
       "      <td>69.290000</td>\n",
       "      <td>0.000000</td>\n",
       "      <td>0.000000</td>\n",
       "      <td>1.000000</td>\n",
       "      <td>0.000000</td>\n",
       "    </tr>\n",
       "    <tr>\n",
       "      <td>50%</td>\n",
       "      <td>0.000000</td>\n",
       "      <td>69.000000</td>\n",
       "      <td>2016.000000</td>\n",
       "      <td>28.000000</td>\n",
       "      <td>16.000000</td>\n",
       "      <td>1.000000</td>\n",
       "      <td>2.000000</td>\n",
       "      <td>2.000000</td>\n",
       "      <td>0.000000</td>\n",
       "      <td>0.000000</td>\n",
       "      <td>...</td>\n",
       "      <td>0.000000</td>\n",
       "      <td>0.000000</td>\n",
       "      <td>14.000000</td>\n",
       "      <td>179.000000</td>\n",
       "      <td>0.000000</td>\n",
       "      <td>94.575000</td>\n",
       "      <td>0.000000</td>\n",
       "      <td>0.000000</td>\n",
       "      <td>3.000000</td>\n",
       "      <td>0.000000</td>\n",
       "    </tr>\n",
       "    <tr>\n",
       "      <td>75%</td>\n",
       "      <td>1.000000</td>\n",
       "      <td>160.000000</td>\n",
       "      <td>2017.000000</td>\n",
       "      <td>38.000000</td>\n",
       "      <td>23.000000</td>\n",
       "      <td>2.000000</td>\n",
       "      <td>3.000000</td>\n",
       "      <td>2.000000</td>\n",
       "      <td>0.000000</td>\n",
       "      <td>0.000000</td>\n",
       "      <td>...</td>\n",
       "      <td>0.000000</td>\n",
       "      <td>0.000000</td>\n",
       "      <td>229.000000</td>\n",
       "      <td>270.000000</td>\n",
       "      <td>0.000000</td>\n",
       "      <td>126.000000</td>\n",
       "      <td>0.000000</td>\n",
       "      <td>1.000000</td>\n",
       "      <td>5.000000</td>\n",
       "      <td>1.000000</td>\n",
       "    </tr>\n",
       "    <tr>\n",
       "      <td>max</td>\n",
       "      <td>1.000000</td>\n",
       "      <td>737.000000</td>\n",
       "      <td>2017.000000</td>\n",
       "      <td>53.000000</td>\n",
       "      <td>31.000000</td>\n",
       "      <td>19.000000</td>\n",
       "      <td>50.000000</td>\n",
       "      <td>55.000000</td>\n",
       "      <td>10.000000</td>\n",
       "      <td>10.000000</td>\n",
       "      <td>...</td>\n",
       "      <td>72.000000</td>\n",
       "      <td>21.000000</td>\n",
       "      <td>535.000000</td>\n",
       "      <td>543.000000</td>\n",
       "      <td>391.000000</td>\n",
       "      <td>5400.000000</td>\n",
       "      <td>8.000000</td>\n",
       "      <td>5.000000</td>\n",
       "      <td>6.000000</td>\n",
       "      <td>1.000000</td>\n",
       "    </tr>\n",
       "  </tbody>\n",
       "</table>\n",
       "<p>8 rows × 22 columns</p>\n",
       "</div>"
      ],
      "text/plain": [
       "         is_canceled      lead_time  arrival_date_year  \\\n",
       "count  119390.000000  119390.000000      119390.000000   \n",
       "mean        0.370416     104.011416        2016.156554   \n",
       "std         0.482918     106.863097           0.707476   \n",
       "min         0.000000       0.000000        2015.000000   \n",
       "25%         0.000000      18.000000        2016.000000   \n",
       "50%         0.000000      69.000000        2016.000000   \n",
       "75%         1.000000     160.000000        2017.000000   \n",
       "max         1.000000     737.000000        2017.000000   \n",
       "\n",
       "       arrival_date_week_number  arrival_date_day_of_month  \\\n",
       "count             119390.000000              119390.000000   \n",
       "mean                  27.165173                  15.798241   \n",
       "std                   13.605138                   8.780829   \n",
       "min                    1.000000                   1.000000   \n",
       "25%                   16.000000                   8.000000   \n",
       "50%                   28.000000                  16.000000   \n",
       "75%                   38.000000                  23.000000   \n",
       "max                   53.000000                  31.000000   \n",
       "\n",
       "       stays_in_weekend_nights  stays_in_week_nights         adults  \\\n",
       "count            119390.000000         119390.000000  119390.000000   \n",
       "mean                  0.927599              2.500302       1.856403   \n",
       "std                   0.998613              1.908286       0.579261   \n",
       "min                   0.000000              0.000000       0.000000   \n",
       "25%                   0.000000              1.000000       2.000000   \n",
       "50%                   1.000000              2.000000       2.000000   \n",
       "75%                   2.000000              3.000000       2.000000   \n",
       "max                  19.000000             50.000000      55.000000   \n",
       "\n",
       "            children         babies  ...  previous_bookings_not_canceled  \\\n",
       "count  119386.000000  119390.000000  ...                   119390.000000   \n",
       "mean        0.103890       0.007949  ...                        0.137097   \n",
       "std         0.398561       0.097436  ...                        1.497437   \n",
       "min         0.000000       0.000000  ...                        0.000000   \n",
       "25%         0.000000       0.000000  ...                        0.000000   \n",
       "50%         0.000000       0.000000  ...                        0.000000   \n",
       "75%         0.000000       0.000000  ...                        0.000000   \n",
       "max        10.000000      10.000000  ...                       72.000000   \n",
       "\n",
       "       booking_changes          agent      company  days_in_waiting_list  \\\n",
       "count    119390.000000  103050.000000  6797.000000         119390.000000   \n",
       "mean          0.221124      86.693382   189.266735              2.321149   \n",
       "std           0.652306     110.774548   131.655015             17.594721   \n",
       "min           0.000000       1.000000     6.000000              0.000000   \n",
       "25%           0.000000       9.000000    62.000000              0.000000   \n",
       "50%           0.000000      14.000000   179.000000              0.000000   \n",
       "75%           0.000000     229.000000   270.000000              0.000000   \n",
       "max          21.000000     535.000000   543.000000            391.000000   \n",
       "\n",
       "                 adr  required_car_parking_spaces  total_of_special_requests  \\\n",
       "count  119390.000000                119390.000000              119390.000000   \n",
       "mean      101.831122                     0.062518                   0.571363   \n",
       "std        50.535790                     0.245291                   0.792798   \n",
       "min        -6.380000                     0.000000                   0.000000   \n",
       "25%        69.290000                     0.000000                   0.000000   \n",
       "50%        94.575000                     0.000000                   0.000000   \n",
       "75%       126.000000                     0.000000                   1.000000   \n",
       "max      5400.000000                     8.000000                   5.000000   \n",
       "\n",
       "       arrival_weekday_num  arrival_day_is_weekend  \n",
       "count        119390.000000           119390.000000  \n",
       "mean              2.995929                0.434098  \n",
       "std               1.951750                0.495640  \n",
       "min               0.000000                0.000000  \n",
       "25%               1.000000                0.000000  \n",
       "50%               3.000000                0.000000  \n",
       "75%               5.000000                1.000000  \n",
       "max               6.000000                1.000000  \n",
       "\n",
       "[8 rows x 22 columns]"
      ]
     },
     "execution_count": 261,
     "metadata": {},
     "output_type": "execute_result"
    }
   ],
   "source": [
    "df_hotel = pd.read_pickle('hotel_bookings_1.pkl')\n",
    "df_hotel.describe()"
   ]
  },
  {
   "cell_type": "code",
   "execution_count": null,
   "metadata": {},
   "outputs": [],
   "source": []
  },
  {
   "cell_type": "markdown",
   "metadata": {},
   "source": [
    "The above data types show that largenumber of columns such as hotel, arrival_date_month, children, meal, country etc. must be converted to make sense of the data for regression analysis.\n",
    "<hr>"
   ]
  },
  {
   "cell_type": "markdown",
   "metadata": {},
   "source": [
    "List sum of __NA__ values to consider replacement"
   ]
  },
  {
   "cell_type": "code",
   "execution_count": 262,
   "metadata": {},
   "outputs": [
    {
     "name": "stdout",
     "output_type": "stream",
     "text": [
      "hotel                                  0\n",
      "is_canceled                            0\n",
      "lead_time                              0\n",
      "arrival_date_year                      0\n",
      "arrival_date_month                     0\n",
      "arrival_date_week_number               0\n",
      "arrival_date_day_of_month              0\n",
      "stays_in_weekend_nights                0\n",
      "stays_in_week_nights                   0\n",
      "adults                                 0\n",
      "children                               4\n",
      "babies                                 0\n",
      "meal                                   0\n",
      "country                              488\n",
      "market_segment                         0\n",
      "distribution_channel                   0\n",
      "is_repeated_guest                      0\n",
      "previous_cancellations                 0\n",
      "previous_bookings_not_canceled         0\n",
      "reserved_room_type                     0\n",
      "assigned_room_type                     0\n",
      "booking_changes                        0\n",
      "deposit_type                           0\n",
      "agent                              16340\n",
      "company                           112593\n",
      "days_in_waiting_list                   0\n",
      "customer_type                          0\n",
      "adr                                    0\n",
      "required_car_parking_spaces            0\n",
      "total_of_special_requests              0\n",
      "reservation_status                     0\n",
      "reservation_status_date                0\n",
      "arrival_weekday_num                    0\n",
      "arrival_day_is_weekend                 0\n",
      "dtype: int64\n"
     ]
    }
   ],
   "source": [
    "df_hotel = pd.read_pickle('hotel_bookings_1.pkl')\n",
    "print(df_hotel.isna().sum())"
   ]
  },
  {
   "cell_type": "markdown",
   "metadata": {},
   "source": [
    "Rows with empty __Country__ can be dropped since it is a very small number of rows"
   ]
  },
  {
   "cell_type": "code",
   "execution_count": 263,
   "metadata": {},
   "outputs": [
    {
     "data": {
      "text/plain": [
       "(118902, 34)"
      ]
     },
     "execution_count": 263,
     "metadata": {},
     "output_type": "execute_result"
    }
   ],
   "source": [
    "df_hotel = pd.read_pickle('hotel_bookings_1.pkl')\n",
    "\n",
    "df_hotel=df_hotel.dropna(subset=[\"country\"]) \n",
    "\n",
    "df_hotel.to_pickle('hotel_bookings_2.pkl')\n",
    "df_hotel.shape"
   ]
  },
  {
   "cell_type": "markdown",
   "metadata": {},
   "source": [
    "Distribution of countries by number of rows is where country contirbutes more than 100 rows:"
   ]
  },
  {
   "cell_type": "code",
   "execution_count": 264,
   "metadata": {
    "scrolled": false
   },
   "outputs": [
    {
     "data": {
      "text/plain": [
       "<matplotlib.axes._subplots.AxesSubplot at 0x23b49426d88>"
      ]
     },
     "execution_count": 264,
     "metadata": {},
     "output_type": "execute_result"
    },
    {
     "data": {
      "image/png": "[encoded data removed]",
      "text/plain": [
       "<Figure size 2160x576 with 1 Axes>"
      ]
     },
     "metadata": {
      "needs_background": "light"
     },
     "output_type": "display_data"
    }
   ],
   "source": [
    "df_hotel = pd.read_pickle('hotel_bookings_2.pkl')\n",
    "country_vc = df_hotel.country.value_counts()\n",
    "country_vc[country_vc > 100].plot(kind=\"bar\",figsize=(30, 8))"
   ]
  },
  {
   "cell_type": "markdown",
   "metadata": {},
   "source": [
    "This indicates that countries that contribute less than 100 rows, contribute very little number of rows to the data compared to countries with most contribution of rows.\n",
    "Therefore, it is a good idea to reduce number of countries to those with more than 100 rows, since that will give us a smaller number of countries for hot encoding.\n",
    "Based on above logic, we will remove data from countries that __contirbute < 100 rows__"
   ]
  },
  {
   "cell_type": "code",
   "execution_count": 265,
   "metadata": {},
   "outputs": [
    {
     "name": "stdout",
     "output_type": "stream",
     "text": [
      "(116412, 34)\n",
      "\n",
      "Unique countries without rows < 100: \n",
      " ['PRT' 'GBR' 'USA' 'ESP' 'IRL' 'FRA' 'ROU' 'NOR' 'ARG' 'POL' 'DEU' 'BEL'\n",
      " 'CHE' 'CN' 'GRC' 'ITA' 'NLD' 'DNK' 'RUS' 'SWE' 'AUS' 'CZE' 'BRA' 'FIN'\n",
      " 'LUX' 'IND' 'CHN' 'MAR' 'SRB' 'AUT' 'TUR' 'AGO' 'ISR' 'DZA' 'KOR' 'HUN'\n",
      " 'JPN']\n"
     ]
    }
   ],
   "source": [
    "df_hotel = pd.read_pickle('hotel_bookings_2.pkl')\n",
    "\n",
    "df_hotel = df_hotel.groupby('country').filter(lambda x: len(x) > 100)\n",
    "\n",
    "df_hotel.to_pickle('hotel_bookings_3.pkl')\n",
    "\n",
    "print(df_hotel.shape)\n",
    "print('\\nUnique countries without rows < 100: \\n', df_hotel.country.unique())"
   ]
  },
  {
   "cell_type": "markdown",
   "metadata": {},
   "source": [
    "<hr>"
   ]
  },
  {
   "cell_type": "markdown",
   "metadata": {},
   "source": [
    "\n",
    "__Children__ are empty in only 4 rows. Replacing them with median number of children can be used to populated those 4 rows."
   ]
  },
  {
   "cell_type": "code",
   "execution_count": 266,
   "metadata": {},
   "outputs": [],
   "source": [
    "df_hotel = pd.read_pickle('hotel_bookings_3.pkl')\n",
    "\n",
    "df_hotel['children'].fillna(df_hotel['children'].median(),inplace=True)\n",
    "\n",
    "df_hotel.to_pickle('hotel_bookings_4.pkl')"
   ]
  },
  {
   "cell_type": "markdown",
   "metadata": {},
   "source": [
    "<hr><hr>"
   ]
  },
  {
   "cell_type": "markdown",
   "metadata": {},
   "source": [
    "Customers who use __Agent__ or book through a __Company__ column may get better __Average Daily Rate__ then those who don't use them. Therefore, we will keep these columns but convert them to binary columns, filling __NA__ values with __0__ and filling it with __1__ where an agent or company is used for booking."
   ]
  },
  {
   "cell_type": "code",
   "execution_count": 267,
   "metadata": {},
   "outputs": [
    {
     "name": "stdout",
     "output_type": "stream",
     "text": [
      "[0. 1.]\n",
      "[0. 1.]\n"
     ]
    }
   ],
   "source": [
    "df_hotel = pd.read_pickle('hotel_bookings_4.pkl')\n",
    "\n",
    "df_hotel.agent.fillna(0, inplace=True)\n",
    "df_hotel.company.fillna(0, inplace=True)\n",
    "\n",
    "df_hotel.loc[(df_hotel.agent > 0),'agent'] = 1\n",
    "df_hotel.loc[(df_hotel.company > 0),'company'] = 1\n",
    "\n",
    "\n",
    "df_hotel.to_pickle('hotel_bookings_5.pkl')\n",
    "\n",
    "print(df_hotel.agent.unique())\n",
    "print(df_hotel.company.unique())\n"
   ]
  },
  {
   "cell_type": "markdown",
   "metadata": {},
   "source": [
    "<hr>"
   ]
  },
  {
   "cell_type": "markdown",
   "metadata": {},
   "source": [
    "List __NA__ values again to ensure there is none left"
   ]
  },
  {
   "cell_type": "code",
   "execution_count": 268,
   "metadata": {
    "scrolled": false
   },
   "outputs": [
    {
     "name": "stdout",
     "output_type": "stream",
     "text": [
      "hotel                             0\n",
      "is_canceled                       0\n",
      "lead_time                         0\n",
      "arrival_date_year                 0\n",
      "arrival_date_month                0\n",
      "arrival_date_week_number          0\n",
      "arrival_date_day_of_month         0\n",
      "stays_in_weekend_nights           0\n",
      "stays_in_week_nights              0\n",
      "adults                            0\n",
      "children                          0\n",
      "babies                            0\n",
      "meal                              0\n",
      "country                           0\n",
      "market_segment                    0\n",
      "distribution_channel              0\n",
      "is_repeated_guest                 0\n",
      "previous_cancellations            0\n",
      "previous_bookings_not_canceled    0\n",
      "reserved_room_type                0\n",
      "assigned_room_type                0\n",
      "booking_changes                   0\n",
      "deposit_type                      0\n",
      "agent                             0\n",
      "company                           0\n",
      "days_in_waiting_list              0\n",
      "customer_type                     0\n",
      "adr                               0\n",
      "required_car_parking_spaces       0\n",
      "total_of_special_requests         0\n",
      "reservation_status                0\n",
      "reservation_status_date           0\n",
      "arrival_weekday_num               0\n",
      "arrival_day_is_weekend            0\n",
      "dtype: int64\n"
     ]
    }
   ],
   "source": [
    "df_hotel = pd.read_pickle('hotel_bookings_5.pkl')\n",
    "\n",
    "print(df_hotel.isna().sum())"
   ]
  },
  {
   "cell_type": "markdown",
   "metadata": {},
   "source": [
    "<hr>"
   ]
  },
  {
   "cell_type": "code",
   "execution_count": 269,
   "metadata": {},
   "outputs": [
    {
     "name": "stdout",
     "output_type": "stream",
     "text": [
      "0    73060\n",
      "1    43352\n",
      "Name: is_canceled, dtype: int64\n",
      "Check-Out    73060\n",
      "Canceled     42216\n",
      "No-Show       1136\n",
      "Name: reservation_status, dtype: int64\n"
     ]
    }
   ],
   "source": [
    "df_hotel = pd.read_pickle('hotel_bookings_5.pkl')\n",
    "\"\"\"\n",
    "from sklearn.preprocessing import LabelEncoder\n",
    "label_encoder = LabelEncoder()\n",
    "df_hotel['reservation_status']= label_encoder.fit_transform(df_hotel['reservation_status']) \n",
    "print(df_hotel['reservation_status'].unique())\n",
    "df_hotel[['is_canceled','reservation_status']].corr()\n",
    "\"\"\"\n",
    "print(df_hotel.is_canceled.value_counts())\n",
    "print(df_hotel.reservation_status.value_counts())"
   ]
  },
  {
   "cell_type": "markdown",
   "metadata": {},
   "source": [
    "From above analysis, it is clear that is_cancelled is a derived column from reservation_status. is_cancelled is 0 is respresented by __checkout__ reservation_status.\n",
    "is_canceled 1 is the combined total of __cancelled__ and __no-show__ statuses."
   ]
  },
  {
   "cell_type": "code",
   "execution_count": 270,
   "metadata": {},
   "outputs": [
    {
     "data": {
      "text/html": [
       "<div>\n",
       "<style scoped>\n",
       "    .dataframe tbody tr th:only-of-type {\n",
       "        vertical-align: middle;\n",
       "    }\n",
       "\n",
       "    .dataframe tbody tr th {\n",
       "        vertical-align: top;\n",
       "    }\n",
       "\n",
       "    .dataframe thead th {\n",
       "        text-align: right;\n",
       "    }\n",
       "</style>\n",
       "<table border=\"1\" class=\"dataframe\">\n",
       "  <thead>\n",
       "    <tr style=\"text-align: right;\">\n",
       "      <th></th>\n",
       "      <th>arrival_date_year</th>\n",
       "      <th>arrival_date_week_number</th>\n",
       "      <th>adr</th>\n",
       "    </tr>\n",
       "  </thead>\n",
       "  <tbody>\n",
       "    <tr>\n",
       "      <td>arrival_date_year</td>\n",
       "      <td>1.000000</td>\n",
       "      <td>-0.541712</td>\n",
       "      <td>0.195661</td>\n",
       "    </tr>\n",
       "    <tr>\n",
       "      <td>arrival_date_week_number</td>\n",
       "      <td>-0.541712</td>\n",
       "      <td>1.000000</td>\n",
       "      <td>0.076503</td>\n",
       "    </tr>\n",
       "    <tr>\n",
       "      <td>adr</td>\n",
       "      <td>0.195661</td>\n",
       "      <td>0.076503</td>\n",
       "      <td>1.000000</td>\n",
       "    </tr>\n",
       "  </tbody>\n",
       "</table>\n",
       "</div>"
      ],
      "text/plain": [
       "                          arrival_date_year  arrival_date_week_number  \\\n",
       "arrival_date_year                  1.000000                 -0.541712   \n",
       "arrival_date_week_number          -0.541712                  1.000000   \n",
       "adr                                0.195661                  0.076503   \n",
       "\n",
       "                               adr  \n",
       "arrival_date_year         0.195661  \n",
       "arrival_date_week_number  0.076503  \n",
       "adr                       1.000000  "
      ]
     },
     "execution_count": 270,
     "metadata": {},
     "output_type": "execute_result"
    }
   ],
   "source": [
    "df_hotel = pd.read_pickle('hotel_bookings_5.pkl')\n",
    "\n",
    "df_hotel[['arrival_date_year','arrival_date_week_number','reservation_status_date', 'adr']].corr()"
   ]
  },
  {
   "cell_type": "markdown",
   "metadata": {},
   "source": [
    "Our target variable is __adr (Average Daily Rate)__, since __arrival_date_year__ and __arrival_date_week_number__ have near zero correlation , they will not proide  __adr__, therefore, we can drop these 2 columns.\n",
    "\n",
    "Similarly, __reservation_status_date__ also have incremental value distributed over all of our data, hence they can't provide any predictive value and can be dropped."
   ]
  },
  {
   "cell_type": "code",
   "execution_count": 271,
   "metadata": {},
   "outputs": [],
   "source": [
    "df_hotel = pd.read_pickle('hotel_bookings_5.pkl')\n",
    "\n",
    "df_hotel = df_hotel.drop(['arrival_date_year','arrival_date_week_number','reservation_status_date', 'reservation_status'],axis=1)\n",
    "\n",
    "df_hotel.to_pickle('hotel_bookings_6.pkl')"
   ]
  },
  {
   "cell_type": "markdown",
   "metadata": {},
   "source": [
    "<hr>"
   ]
  },
  {
   "cell_type": "markdown",
   "metadata": {},
   "source": [
    "Draw box plots of columns with continuous variables to remove outliers."
   ]
  },
  {
   "cell_type": "code",
   "execution_count": 272,
   "metadata": {},
   "outputs": [
    {
     "name": "stdout",
     "output_type": "stream",
     "text": [
      "<class 'pandas.core.frame.DataFrame'>\n",
      "Int64Index: 116412 entries, 0 to 119389\n",
      "Data columns (total 30 columns):\n",
      "hotel                             116412 non-null object\n",
      "is_canceled                       116412 non-null int64\n",
      "lead_time                         116412 non-null int64\n",
      "arrival_date_month                116412 non-null object\n",
      "arrival_date_day_of_month         116412 non-null int64\n",
      "stays_in_weekend_nights           116412 non-null int64\n",
      "stays_in_week_nights              116412 non-null int64\n",
      "adults                            116412 non-null int64\n",
      "children                          116412 non-null float64\n",
      "babies                            116412 non-null int64\n",
      "meal                              116412 non-null object\n",
      "country                           116412 non-null object\n",
      "market_segment                    116412 non-null object\n",
      "distribution_channel              116412 non-null object\n",
      "is_repeated_guest                 116412 non-null int64\n",
      "previous_cancellations            116412 non-null int64\n",
      "previous_bookings_not_canceled    116412 non-null int64\n",
      "reserved_room_type                116412 non-null object\n",
      "assigned_room_type                116412 non-null object\n",
      "booking_changes                   116412 non-null int64\n",
      "deposit_type                      116412 non-null object\n",
      "agent                             116412 non-null float64\n",
      "company                           116412 non-null float64\n",
      "days_in_waiting_list              116412 non-null int64\n",
      "customer_type                     116412 non-null object\n",
      "adr                               116412 non-null float64\n",
      "required_car_parking_spaces       116412 non-null int64\n",
      "total_of_special_requests         116412 non-null int64\n",
      "arrival_weekday_num               116412 non-null int64\n",
      "arrival_day_is_weekend            116412 non-null int64\n",
      "dtypes: float64(4), int64(16), object(10)\n",
      "memory usage: 27.5+ MB\n"
     ]
    }
   ],
   "source": [
    "df_hotel = pd.read_pickle('hotel_bookings_6.pkl')\n",
    "df_hotel.info()"
   ]
  },
  {
   "cell_type": "code",
   "execution_count": 273,
   "metadata": {
    "scrolled": false
   },
   "outputs": [
    {
     "data": {
      "text/plain": [
       "<matplotlib.axes._subplots.AxesSubplot at 0x23b4c728a88>"
      ]
     },
     "execution_count": 273,
     "metadata": {},
     "output_type": "execute_result"
    },
    {
     "data": {
      "image/png": "[encoded data removed]",
      "text/plain": [
       "<Figure size 2160x576 with 1 Axes>"
      ]
     },
     "metadata": {
      "needs_background": "light"
     },
     "output_type": "display_data"
    }
   ],
   "source": [
    "df_hotel = pd.read_pickle('hotel_bookings_6.pkl')\n",
    "\n",
    "df_hotel_cont = df_hotel[['lead_time', 'stays_in_weekend_nights', 'stays_in_week_nights','arrival_weekday_num',\n",
    "                          'arrival_day_is_weekend', 'adults', 'children', 'babies', 'previous_cancellations'\n",
    "                            , 'previous_bookings_not_canceled', 'booking_changes', 'days_in_waiting_list', 'adr',\n",
    "                            'total_of_special_requests']]\n",
    "\n",
    "df_hotel_cont.boxplot(figsize=(30, 8))"
   ]
  },
  {
   "cell_type": "markdown",
   "metadata": {},
   "source": [
    "We notice that there is a single outlier value of __adr__ column within upper quantile, that must be removed to unskew the data.\n",
    "Rest of the columns have values outside Q3, however, they are all contiguous, therefore, they do not need to be removed in our opionion."
   ]
  },
  {
   "cell_type": "code",
   "execution_count": 291,
   "metadata": {},
   "outputs": [
    {
     "data": {
      "text/plain": [
       "2.0"
      ]
     },
     "execution_count": 291,
     "metadata": {},
     "output_type": "execute_result"
    }
   ],
   "source": [
    "#df_hotel = pd.read_pickle('hotel_bookings_6.pkl')\n",
    "#df_hotel['children'].value_counts()\n",
    "df_hotel['adults'].quantile(0.25)"
   ]
  },
  {
   "cell_type": "code",
   "execution_count": 297,
   "metadata": {},
   "outputs": [
    {
     "name": "stdout",
     "output_type": "stream",
     "text": [
      "Before:  (116412, 30)\n",
      "hotel                             0\n",
      "is_canceled                       0\n",
      "lead_time                         0\n",
      "arrival_date_month                0\n",
      "arrival_date_day_of_month         0\n",
      "stays_in_weekend_nights           0\n",
      "stays_in_week_nights              0\n",
      "adults                            0\n",
      "children                          0\n",
      "babies                            0\n",
      "meal                              0\n",
      "country                           0\n",
      "market_segment                    0\n",
      "distribution_channel              0\n",
      "is_repeated_guest                 0\n",
      "previous_cancellations            0\n",
      "previous_bookings_not_canceled    0\n",
      "reserved_room_type                0\n",
      "assigned_room_type                0\n",
      "booking_changes                   0\n",
      "deposit_type                      0\n",
      "agent                             0\n",
      "company                           0\n",
      "days_in_waiting_list              0\n",
      "customer_type                     0\n",
      "adr                               0\n",
      "required_car_parking_spaces       0\n",
      "total_of_special_requests         0\n",
      "arrival_weekday_num               0\n",
      "arrival_day_is_weekend            0\n",
      "dtype: int64\n",
      "lead_time\n",
      "19.0\n",
      "162.0\n",
      "143.0\n",
      "stays_in_weekend_nights\n",
      "0.0\n",
      "2.0\n",
      "2.0\n",
      "stays_in_week_nights\n",
      "1.0\n",
      "3.0\n",
      "2.0\n",
      "arrival_weekday_num\n",
      "1.0\n",
      "5.0\n",
      "4.0\n",
      "arrival_day_is_weekend\n",
      "0.0\n",
      "1.0\n",
      "1.0\n",
      "adults\n",
      "2.0\n",
      "2.0\n",
      "0.0\n",
      "children\n",
      "0.0\n",
      "0.0\n",
      "0.0\n",
      "babies\n",
      "0.0\n",
      "0.0\n",
      "0.0\n",
      "previous_cancellations\n",
      "0.0\n",
      "0.0\n",
      "0.0\n",
      "previous_bookings_not_canceled\n",
      "0.0\n",
      "0.0\n",
      "0.0\n",
      "booking_changes\n",
      "0.0\n",
      "0.0\n",
      "0.0\n",
      "days_in_waiting_list\n",
      "0.0\n",
      "0.0\n",
      "0.0\n",
      "adr\n",
      "70.0\n",
      "126.0\n",
      "56.0\n",
      "total_of_special_requests\n",
      "0.0\n",
      "1.0\n",
      "1.0\n",
      "After:  (102711, 30)\n"
     ]
    }
   ],
   "source": [
    "df_hotel = pd.read_pickle('hotel_bookings_6.pkl')\n",
    "\n",
    "print('Before: ', df_hotel.shape)\n",
    "\n",
    "print(df_hotel.isna().sum())\n",
    "\n",
    "#df_hotel = df_hotel[df_hotel[\"adr\"] != df_hotel[\"adr\"].max()]\n",
    "\n",
    "for col in df_hotel_cont.columns:\n",
    "\n",
    "    Q1 = df_hotel[col].quantile(0.25)\n",
    "    Q3 = df_hotel[col].quantile(0.75)\n",
    "    print(col)\n",
    "    print(Q1)\n",
    "    print(Q3)\n",
    "    IQR = Q3 - Q1\n",
    "    print(IQR)\n",
    "    lower_bound = (Q1 - 1.5 * IQR)\n",
    "    upper_bound = (Q3 + 1.5 * IQR)\n",
    "    if lower_bound != upper_bound :\n",
    "        df_hotel = df_hotel[(df_hotel[col] > lower_bound ) & (df_hotel[col] < upper_bound)]\n",
    "\n",
    "\n",
    "print('After: ', df_hotel.shape)\n",
    "\n",
    "df_hotel.to_pickle('hotel_bookings_7.pkl')"
   ]
  },
  {
   "cell_type": "code",
   "execution_count": 298,
   "metadata": {},
   "outputs": [
    {
     "data": {
      "text/plain": [
       "(102711, 14)"
      ]
     },
     "execution_count": 298,
     "metadata": {},
     "output_type": "execute_result"
    },
    {
     "data": {
      "image/png": "[encoded data removed]",
      "text/plain": [
       "<Figure size 2160x576 with 1 Axes>"
      ]
     },
     "metadata": {
      "needs_background": "light"
     },
     "output_type": "display_data"
    }
   ],
   "source": [
    "df_hotel = pd.read_pickle('hotel_bookings_7.pkl')\n",
    "\n",
    "df_hotel_cont = df_hotel[['lead_time', 'stays_in_weekend_nights', 'stays_in_week_nights','arrival_weekday_num',\n",
    "                          'arrival_day_is_weekend', 'adults', 'children', 'babies', 'previous_cancellations'\n",
    "                            , 'previous_bookings_not_canceled', 'booking_changes', 'days_in_waiting_list', 'adr',\n",
    "                            'total_of_special_requests']]\n",
    "\n",
    "df_hotel_cont.boxplot(figsize=(30, 8))\n",
    "\n",
    "df_hotel_cont.shape"
   ]
  },
  {
   "cell_type": "markdown",
   "metadata": {},
   "source": [
    "<hr>"
   ]
  },
  {
   "cell_type": "markdown",
   "metadata": {},
   "source": [
    "Analysis of __adr (Average Daily Rate)__ based on month.\n",
    "It should reveal relationship between month of the year and adr flucatuation."
   ]
  },
  {
   "cell_type": "code",
   "execution_count": 299,
   "metadata": {
    "scrolled": false
   },
   "outputs": [
    {
     "data": {
      "image/png": "[encoded data removed]",
      "text/plain": [
       "<Figure size 2160x720 with 1 Axes>"
      ]
     },
     "metadata": {
      "needs_background": "light"
     },
     "output_type": "display_data"
    }
   ],
   "source": [
    "df_hotel = pd.read_pickle('hotel_bookings_7.pkl')\n",
    "\n",
    "# Append month-number since that might \n",
    "import datetime\n",
    "df_hotel['arrival_date_month_number'] = df_hotel['arrival_date_month'].apply(lambda x: datetime.datetime.strptime(x, \"%B\").month)\n",
    "\n",
    "\n",
    "grps = df_hotel.groupby('arrival_date_month')\n",
    "fig, ax = plt.subplots(figsize=(30,10))\n",
    "ax.margins(0.05)\n",
    "for name, group in grps:\n",
    "    ax.plot(group.arrival_date_month, group.adr, marker='.', linestyle='', ms=12, label=name)\n",
    "ax.legend()\n",
    "\n",
    "plt.show()"
   ]
  },
  {
   "cell_type": "markdown",
   "metadata": {},
   "source": [
    "<hr>"
   ]
  },
  {
   "cell_type": "markdown",
   "metadata": {},
   "source": [
    "Create correlation heatmap to find stronger correlation between various columns. It should indicate which features have strong positive or negative correlation with __adr__"
   ]
  },
  {
   "cell_type": "code",
   "execution_count": 300,
   "metadata": {},
   "outputs": [
    {
     "data": {
      "text/plain": [
       "<matplotlib.axes._subplots.AxesSubplot at 0x23b0bc6f2c8>"
      ]
     },
     "execution_count": 300,
     "metadata": {},
     "output_type": "execute_result"
    },
    {
     "data": {
      "image/png": "[encoded data removed]",
      "text/plain": [
       "<Figure size 1080x720 with 2 Axes>"
      ]
     },
     "metadata": {
      "needs_background": "light"
     },
     "output_type": "display_data"
    }
   ],
   "source": [
    "df_hotel = pd.read_pickle('hotel_bookings_7.pkl')\n",
    "\n",
    "import seaborn as sns\n",
    "\n",
    "df_hotel_cont = df_hotel[['lead_time', 'stays_in_weekend_nights','arrival_weekday_num','arrival_day_is_weekend', \n",
    "                          'stays_in_week_nights', 'adults', 'children', 'babies', 'previous_cancellations'\n",
    "                           , 'previous_bookings_not_canceled', 'booking_changes', 'days_in_waiting_list',\n",
    "                           'total_of_special_requests', 'adr']]\n",
    "\n",
    "fig, ax = plt.subplots(figsize=(15,10))\n",
    "sns.heatmap(df_hotel_cont.corr(), ax = ax, annot= True)"
   ]
  },
  {
   "cell_type": "markdown",
   "metadata": {},
   "source": [
    "<hr>"
   ]
  },
  {
   "cell_type": "code",
   "execution_count": 301,
   "metadata": {
    "scrolled": true
   },
   "outputs": [
    {
     "data": {
      "text/plain": [
       "array([[<matplotlib.axes._subplots.AxesSubplot object at 0x0000023B0BC6E708>,\n",
       "        <matplotlib.axes._subplots.AxesSubplot object at 0x0000023B0D6190C8>,\n",
       "        <matplotlib.axes._subplots.AxesSubplot object at 0x0000023B0DCAFA08>],\n",
       "       [<matplotlib.axes._subplots.AxesSubplot object at 0x0000023B0DB08B48>,\n",
       "        <matplotlib.axes._subplots.AxesSubplot object at 0x0000023B0DB3EC88>,\n",
       "        <matplotlib.axes._subplots.AxesSubplot object at 0x0000023B0DB77D88>],\n",
       "       [<matplotlib.axes._subplots.AxesSubplot object at 0x0000023B0DBB0E48>,\n",
       "        <matplotlib.axes._subplots.AxesSubplot object at 0x0000023B0DBEAF88>,\n",
       "        <matplotlib.axes._subplots.AxesSubplot object at 0x0000023B0DBF5B88>],\n",
       "       [<matplotlib.axes._subplots.AxesSubplot object at 0x0000023B0DC2CD48>,\n",
       "        <matplotlib.axes._subplots.AxesSubplot object at 0x0000023B0DCF8308>,\n",
       "        <matplotlib.axes._subplots.AxesSubplot object at 0x0000023B0DD2F388>]],\n",
       "      dtype=object)"
      ]
     },
     "execution_count": 301,
     "metadata": {},
     "output_type": "execute_result"
    },
    {
     "data": {
      "image/png": "[encoded data removed]",
      "text/plain": [
       "<Figure size 2160x1080 with 12 Axes>"
      ]
     },
     "metadata": {
      "needs_background": "light"
     },
     "output_type": "display_data"
    }
   ],
   "source": [
    "df_hotel = pd.read_pickle('hotel_bookings_7.pkl')\n",
    "\n",
    "df_hotel_cont = df_hotel[['lead_time', 'stays_in_weekend_nights', 'stays_in_week_nights', 'adults', 'children', 'babies', 'previous_cancellations'\n",
    "         , 'previous_bookings_not_canceled', 'booking_changes', 'days_in_waiting_list', 'total_of_special_requests', 'adr']]\n",
    "\n",
    "df_hotel_cont.hist(figsize = (30, 15))"
   ]
  },
  {
   "cell_type": "markdown",
   "metadata": {},
   "source": [
    "<hr>"
   ]
  },
  {
   "cell_type": "markdown",
   "metadata": {},
   "source": [
    "One-hot encode the following columns so that they can be plotted/used for regression analysis.\n",
    "\n",
    "> - __hotel__\n",
    "> - __country__\n",
    "> - __market_segment__\n",
    "> - __arrival_date_month__\n",
    "> - __meal__\n",
    "> - __deposit_type__\n",
    "> - __distribution_channel__\n",
    "> - __reserved_room_type__\n",
    "> - __assigned_room_type__\n",
    "> - __customer_type__"
   ]
  },
  {
   "cell_type": "code",
   "execution_count": 302,
   "metadata": {
    "scrolled": true
   },
   "outputs": [
    {
     "name": "stdout",
     "output_type": "stream",
     "text": [
      "(102711, 118)\n"
     ]
    },
    {
     "name": "stderr",
     "output_type": "stream",
     "text": [
      "C:\\Users\\Azizf\\AppData\\Local\\Continuum\\anaconda3\\lib\\site-packages\\ipykernel_launcher.py:9: FutureWarning: `get_dtype_counts` has been deprecated and will be removed in a future version. For DataFrames use `.dtypes.value_counts()\n",
      "  if __name__ == '__main__':\n"
     ]
    },
    {
     "data": {
      "text/plain": [
       "uint8      98\n",
       "int64      16\n",
       "float64     4\n",
       "dtype: int64"
      ]
     },
     "execution_count": 302,
     "metadata": {},
     "output_type": "execute_result"
    }
   ],
   "source": [
    "df_hotel = pd.read_pickle('hotel_bookings_7.pkl')\n",
    "\n",
    "categorical_cols = ['hotel', 'country', 'market_segment', 'arrival_date_month','meal','deposit_type',\n",
    "                    'distribution_channel','reserved_room_type',\n",
    "                    'assigned_room_type', 'customer_type']\n",
    "\n",
    "df_hotel = pd.get_dummies(data=df_hotel, columns = categorical_cols)\n",
    "\n",
    "df_hotel.get_dtype_counts()\n",
    "\n",
    "df_hotel.to_pickle('hotel_bookings_8.pkl')\n",
    "\n",
    "print(df_hotel.shape)\n",
    "df_hotel.dtypes.value_counts()"
   ]
  },
  {
   "cell_type": "code",
   "execution_count": 303,
   "metadata": {},
   "outputs": [],
   "source": [
    "#df_hotel_NM_SD=df_hotel\n",
    "#df_hotel_NM_SD.shape"
   ]
  },
  {
   "cell_type": "code",
   "execution_count": 304,
   "metadata": {},
   "outputs": [
    {
     "data": {
      "image/png": "[encoded data removed]",
      "text/plain": [
       "<Figure size 936x576 with 1 Axes>"
      ]
     },
     "metadata": {
      "needs_background": "light"
     },
     "output_type": "display_data"
    }
   ],
   "source": [
    "from sklearn.model_selection import train_test_split, cross_validate, StratifiedKFold\n",
    "from sklearn.preprocessing import OneHotEncoder, MinMaxScaler, StandardScaler\n",
    "\n",
    "df_hotel_num=df_hotel[['lead_time', 'stays_in_weekend_nights', 'stays_in_week_nights', 'adults', 'children', 'babies',\n",
    "                          'previous_cancellations', 'previous_bookings_not_canceled', 'booking_changes',\n",
    "                          'days_in_waiting_list', 'total_of_special_requests','is_canceled','arrival_date_day_of_month',\n",
    "                           'is_repeated_guest','agent','company',\n",
    "                           'required_car_parking_spaces']]\n",
    "\n",
    "\n",
    "standardizer = StandardScaler()\n",
    "normalizer = MinMaxScaler()\n",
    "\n",
    "X_hotel_num_std = standardizer.fit_transform(df_hotel_num)\n",
    "X_hotel_num_norm = normalizer.fit_transform(df_hotel_num)\n",
    "import matplotlib as mpl\n",
    "mpl.rcParams['figure.figsize'] = (13,8)\n",
    "pd.plotting.boxplot(pd.DataFrame(X_hotel_num_std));"
   ]
  },
  {
   "cell_type": "code",
   "execution_count": 305,
   "metadata": {
    "scrolled": false
   },
   "outputs": [
    {
     "data": {
      "image/png": "[encoded data removed]",
      "text/plain": [
       "<Figure size 936x576 with 1 Axes>"
      ]
     },
     "metadata": {
      "needs_background": "light"
     },
     "output_type": "display_data"
    }
   ],
   "source": [
    "pd.plotting.boxplot(pd.DataFrame(X_hotel_num_norm));# Better than standardizer, so will start to use this"
   ]
  },
  {
   "cell_type": "code",
   "execution_count": 306,
   "metadata": {},
   "outputs": [
    {
     "name": "stdout",
     "output_type": "stream",
     "text": [
      "Train with 71897 samples and test with 30814 samples.\n"
     ]
    }
   ],
   "source": [
    "df_hotel = pd.read_pickle('hotel_bookings_8.pkl')\n",
    "\n",
    "y=df_hotel.pop('adr')\n",
    "\n",
    "X_train, X_test, y_train, y_test = train_test_split(df_hotel, y, test_size=0.3,random_state=42)\n",
    "print(f\"Train with {X_train.shape[0]} samples and test with {X_test.shape[0]} samples.\")\n",
    "\n",
    "num_attribs = list(df_hotel) # list all the numeric features\n",
    "\n",
    "normalizer = MinMaxScaler()\n",
    "\n",
    "X_train_norm = normalizer.fit_transform(X_train)\n",
    "\n",
    "X_test_norm = normalizer.transform(X_test)\n",
    "\n",
    "#X_train_norm.desc\n",
    "\n",
    "X_train_norm=pd.DataFrame(X_train_norm,columns=X_train.columns)\n",
    "X_test_norm =pd.DataFrame(X_test_norm,columns=X_test.columns)\n",
    "\n",
    "\n",
    "X_train.to_pickle('X_train_1.pkl')\n",
    "X_test.to_pickle('X_test_1.pkl')\n",
    "X_test_norm.to_pickle('X_test_norm_1.pkl')\n",
    "y_train.to_pickle('y_train_1.pkl')\n",
    "y_test.to_pickle('y_test_1.pkl')\n",
    "\n",
    "X_train_norm.to_pickle('X_train_norm_1.pkl')\n"
   ]
  },
  {
   "cell_type": "code",
   "execution_count": 450,
   "metadata": {},
   "outputs": [
    {
     "data": {
      "text/plain": [
       "\"\\nfrom pandas.plotting import scatter_matrix\\n\\nattributes = ['lead_time', 'stays_in_weekend_nights', 'stays_in_week_nights', 'adults', 'children', 'babies',\\n                          'previous_cancellations', 'previous_bookings_not_canceled', 'booking_changes',\\n                          'days_in_waiting_list', 'total_of_special_requests','is_canceled','arrival_date_day_of_month',\\n                           'is_repeated_guest','agent','company',\\n                           'required_car_parking_spaces']\\n\\nscatter_matrix(X_train_norm[attributes], figsize=(12, 8));\\n\\n\""
      ]
     },
     "execution_count": 450,
     "metadata": {},
     "output_type": "execute_result"
    }
   ],
   "source": [
    "\"\"\"\n",
    "from pandas.plotting import scatter_matrix\n",
    "\n",
    "attributes = ['lead_time', 'stays_in_weekend_nights', 'stays_in_week_nights', 'adults', 'children', 'babies',\n",
    "                          'previous_cancellations', 'previous_bookings_not_canceled', 'booking_changes',\n",
    "                          'days_in_waiting_list', 'total_of_special_requests','is_canceled','arrival_date_day_of_month',\n",
    "                           'is_repeated_guest','agent','company',\n",
    "                           'required_car_parking_spaces']\n",
    "\n",
    "scatter_matrix(X_train_norm[attributes], figsize=(12, 8));\n",
    "\n",
    "\"\"\""
   ]
  },
  {
   "cell_type": "code",
   "execution_count": 307,
   "metadata": {},
   "outputs": [
    {
     "data": {
      "text/plain": [
       "(71897, 117)"
      ]
     },
     "execution_count": 307,
     "metadata": {},
     "output_type": "execute_result"
    }
   ],
   "source": [
    "X_train_norm.shape"
   ]
  },
  {
   "cell_type": "code",
   "execution_count": 308,
   "metadata": {},
   "outputs": [
    {
     "name": "stderr",
     "output_type": "stream",
     "text": [
      "C:\\Users\\Azizf\\AppData\\Local\\Continuum\\anaconda3\\lib\\site-packages\\sklearn\\model_selection\\_split.py:1978: FutureWarning: The default value of cv will change from 3 to 5 in version 0.22. Specify it explicitly to silence this warning.\n",
      "  warnings.warn(CV_WARNING, FutureWarning)\n"
     ]
    },
    {
     "name": "stdout",
     "output_type": "stream",
     "text": [
      "Optimal number of features : 71\n"
     ]
    },
    {
     "data": {
      "image/png": "[encoded data removed]",
      "text/plain": [
       "<Figure size 936x576 with 1 Axes>"
      ]
     },
     "metadata": {
      "needs_background": "light"
     },
     "output_type": "display_data"
    }
   ],
   "source": [
    "#Feature Selection\n",
    "from sklearn.model_selection import StratifiedKFold\n",
    "from sklearn.feature_selection import RFECV\n",
    "from sklearn.datasets import make_classification\n",
    "from sklearn.linear_model import LogisticRegression\n",
    "from sklearn.linear_model import LinearRegression\n",
    "from sklearn.svm import SVR\n",
    "\n",
    "X_train_norm=pd.read_pickle('X_train_norm_1.pkl')\n",
    "\n",
    "#modelX = SVR(kernel=\"linear\")\n",
    "modelX = LinearRegression()\n",
    "rfecv = RFECV(estimator=modelX, step=1, scoring='neg_mean_squared_error',  min_features_to_select=60)\n",
    "rfecv.fit(X_train_norm, y_train)\n",
    "print(\"Optimal number of features : %d\" % rfecv.n_features_)\n",
    "\n",
    "# Plot number of features VS. cross-validation scores\n",
    "plt.figure()\n",
    "plt.xlabel(\"Number of features selected\")\n",
    "plt.ylabel(\"Cross validation score (nb of correct classifications)\")\n",
    "plt.plot(range(1, len(rfecv.grid_scores_) + 1), rfecv.grid_scores_)\n",
    "plt.show()\n"
   ]
  },
  {
   "cell_type": "code",
   "execution_count": 310,
   "metadata": {},
   "outputs": [
    {
     "data": {
      "text/plain": [
       "Text(0.5, 0, 'dimensions')"
      ]
     },
     "execution_count": 310,
     "metadata": {},
     "output_type": "execute_result"
    },
    {
     "data": {
      "image/png": "[encoded data removed]",
      "text/plain": [
       "<Figure size 936x576 with 1 Axes>"
      ]
     },
     "metadata": {
      "needs_background": "light"
     },
     "output_type": "display_data"
    }
   ],
   "source": [
    "plt.plot(rfecv.ranking_, linewidth=2)\n",
    "plt.ylabel('RFE with Linear Regression')\n",
    "plt.xlabel('dimensions')"
   ]
  },
  {
   "cell_type": "code",
   "execution_count": 311,
   "metadata": {},
   "outputs": [
    {
     "name": "stdout",
     "output_type": "stream",
     "text": [
      "[-1.93351724e+23 -5.05161368e+23 -2.45927798e+22 -6.38006043e+22\n",
      " -5.15014796e+23 -1.41629121e+23 -3.83108257e+22 -7.40594084e+23\n",
      " -3.04601561e+22 -3.79055795e+23 -7.32042443e+21 -6.67998342e+21\n",
      " -6.33320368e+22 -2.11659051e+22 -1.09613097e+23 -1.93305158e+22\n",
      " -1.37105657e+23 -9.76282564e+22 -1.01667018e+24 -8.90708823e+22\n",
      " -5.06685015e+23 -9.55336861e+22 -1.67743106e+24 -1.63872744e+23\n",
      " -2.17990214e+22 -7.04779443e+22 -3.03719456e+23 -8.90849930e+23\n",
      " -2.67162305e+23 -8.55142459e+22 -1.90767598e+23 -4.07116536e+23\n",
      " -3.32063900e+22 -6.52075601e+22 -3.93653439e+23 -1.36360778e+23\n",
      " -8.24765684e+22 -1.55796910e+23 -6.33495323e+23 -1.47773616e+24\n",
      " -5.79387620e+23 -4.12124936e+24 -1.39779526e+23 -1.15510300e+24\n",
      " -3.02567757e+23 -1.31594088e+24 -2.58122480e+23 -9.58090174e+22\n",
      " -4.01784759e+23 -1.82319630e+24 -2.98154655e+23 -6.66978146e+23\n",
      " -9.49665609e+22 -3.16723121e+24 -2.75282441e+24 -3.13328570e+23\n",
      " -4.33652911e+23 -2.04011914e+24]\n"
     ]
    }
   ],
   "source": [
    "print(rfecv.grid_scores_)"
   ]
  },
  {
   "cell_type": "code",
   "execution_count": 312,
   "metadata": {},
   "outputs": [
    {
     "name": "stdout",
     "output_type": "stream",
     "text": [
      "[40 34 42 43 38 29 33 31 36 30 47 35 39 45 37 32 41 46 44 28 27 26  9  2\n",
      "  7  4  8 12 13  1 16  1 15 22  5  1 11  1 25 10 18  1 21 14 17 24 19 20\n",
      "  1  1  1  1  1  3  1  1 23  6  1  1  1  1  1  1  1  1  1  1  1  1  1  1\n",
      "  1  1  1  1  1  1  1  1  1  1  1  1  1  1  1  1  1  1  1  1  1  1  1  1\n",
      "  1  1  1  1  1  1  1  1  1  1  1  1  1  1  1  1  1  1  1  1  1]\n"
     ]
    }
   ],
   "source": [
    "print (rfecv.ranking_)"
   ]
  },
  {
   "cell_type": "code",
   "execution_count": 313,
   "metadata": {},
   "outputs": [
    {
     "name": "stdout",
     "output_type": "stream",
     "text": [
      "[False False False False False False False False False False False False\n",
      " False False False False False False False False False False False False\n",
      " False False False False False  True False  True False False False  True\n",
      " False  True False False False  True False False False False False False\n",
      "  True  True  True  True  True False  True  True False False  True  True\n",
      "  True  True  True  True  True  True  True  True  True  True  True  True\n",
      "  True  True  True  True  True  True  True  True  True  True  True  True\n",
      "  True  True  True  True  True  True  True  True  True  True  True  True\n",
      "  True  True  True  True  True  True  True  True  True  True  True  True\n",
      "  True  True  True  True  True  True  True  True  True]\n"
     ]
    }
   ],
   "source": [
    "print (rfecv.support_)"
   ]
  },
  {
   "cell_type": "code",
   "execution_count": 314,
   "metadata": {},
   "outputs": [
    {
     "data": {
      "text/plain": [
       "Index(['country_CN', 'country_DEU', 'country_FIN', 'country_GBR',\n",
       "       'country_IRL', 'country_NLD', 'country_NOR', 'country_POL',\n",
       "       'country_PRT', 'country_ROU', 'country_SRB', 'country_SWE',\n",
       "       'market_segment_Aviation', 'market_segment_Complementary',\n",
       "       'market_segment_Corporate', 'market_segment_Direct',\n",
       "       'market_segment_Groups', 'market_segment_Offline TA/TO',\n",
       "       'market_segment_Online TA', 'market_segment_Undefined',\n",
       "       'arrival_date_month_April', 'arrival_date_month_August',\n",
       "       'arrival_date_month_December', 'arrival_date_month_February',\n",
       "       'arrival_date_month_January', 'arrival_date_month_July',\n",
       "       'arrival_date_month_June', 'arrival_date_month_March',\n",
       "       'arrival_date_month_May', 'arrival_date_month_November',\n",
       "       'arrival_date_month_October', 'arrival_date_month_September', 'meal_BB',\n",
       "       'meal_FB', 'meal_HB', 'meal_SC', 'meal_Undefined',\n",
       "       'deposit_type_No Deposit', 'deposit_type_Non Refund',\n",
       "       'deposit_type_Refundable', 'distribution_channel_Corporate',\n",
       "       'distribution_channel_Direct', 'distribution_channel_GDS',\n",
       "       'distribution_channel_TA/TO', 'distribution_channel_Undefined',\n",
       "       'reserved_room_type_A', 'reserved_room_type_B', 'reserved_room_type_C',\n",
       "       'reserved_room_type_D', 'reserved_room_type_E', 'reserved_room_type_F',\n",
       "       'reserved_room_type_G', 'reserved_room_type_H', 'reserved_room_type_L',\n",
       "       'reserved_room_type_P', 'assigned_room_type_A', 'assigned_room_type_B',\n",
       "       'assigned_room_type_C', 'assigned_room_type_D', 'assigned_room_type_E',\n",
       "       'assigned_room_type_F', 'assigned_room_type_G', 'assigned_room_type_H',\n",
       "       'assigned_room_type_I', 'assigned_room_type_K', 'assigned_room_type_L',\n",
       "       'assigned_room_type_P', 'customer_type_Contract', 'customer_type_Group',\n",
       "       'customer_type_Transient', 'customer_type_Transient-Party'],\n",
       "      dtype='object')"
      ]
     },
     "execution_count": 314,
     "metadata": {},
     "output_type": "execute_result"
    }
   ],
   "source": [
    "f = rfecv.get_support(1) #the most important features\n",
    "X = X_train_norm[X_train_norm.columns[f]]# final features`\n",
    "X.head()\n",
    "rfecv_columns = X.columns\n",
    "rfecv_columns"
   ]
  },
  {
   "cell_type": "code",
   "execution_count": 315,
   "metadata": {},
   "outputs": [],
   "source": [
    "from sklearn.decomposition import PCA\n",
    "\n",
    "X_train_norm=pd.read_pickle('X_train_norm_1.pkl')\n",
    "\n",
    "pca = PCA(n_components=117)\n",
    "\n",
    "X_train_norm_decomposed = pca.fit_transform(X_train_norm)\n",
    "\n"
   ]
  },
  {
   "cell_type": "code",
   "execution_count": 316,
   "metadata": {},
   "outputs": [
    {
     "name": "stdout",
     "output_type": "stream",
     "text": [
      "[0.12214586 0.21895505 0.28609096 0.34892007 0.40785606 0.46007463\n",
      " 0.4971881  0.53238187 0.56198946 0.58677822 0.60839364 0.62883333\n",
      " 0.64570438 0.66203107 0.67780747 0.69331502 0.70846791 0.72330922\n",
      " 0.73778111 0.75197965 0.7655829  0.77891006 0.79193809 0.80409221\n",
      " 0.81544622 0.82595517 0.83617887 0.84604048 0.85540896 0.86464846\n",
      " 0.87365212 0.88201176 0.89022116 0.89750783 0.90453775 0.91107224\n",
      " 0.91619007 0.92124217 0.92595599 0.93036679 0.93464508 0.93859883\n",
      " 0.94246625 0.94586317 0.94910979 0.95230679 0.95536851 0.95827335\n",
      " 0.96093292 0.96338523 0.96583456 0.96816896 0.97014941 0.9720865\n",
      " 0.97381411 0.97551094 0.97710808 0.97863517 0.98003588 0.98130336\n",
      " 0.98248869 0.9836638  0.98467969 0.98568004 0.98666149 0.9876071\n",
      " 0.98847723 0.98928114 0.98999163 0.99069597 0.99133901 0.9919534\n",
      " 0.99255689 0.99310243 0.9936096  0.99405822 0.99448342 0.9948782\n",
      " 0.99526743 0.99564763 0.99599817 0.99634266 0.99668282 0.99701335\n",
      " 0.99733041 0.99763543 0.99792862 0.99819538 0.99845001 0.99865844\n",
      " 0.99885848 0.99904592 0.99922456 0.99938891 0.99953147 0.99965841\n",
      " 0.99977763 0.9998813  0.9999376  0.99995238 0.99996675 0.99998075\n",
      " 0.99999148 0.99999633 0.9999983  1.         1.         1.\n",
      " 1.         1.         1.         1.         1.         1.\n",
      " 1.         1.         1.        ]\n"
     ]
    }
   ],
   "source": [
    "cumulsum = np.cumsum(pca.explained_variance_ratio_)\n",
    "print(cumulsum)"
   ]
  },
  {
   "cell_type": "code",
   "execution_count": 317,
   "metadata": {},
   "outputs": [
    {
     "data": {
      "text/plain": [
       "0.9999999999999998"
      ]
     },
     "execution_count": 317,
     "metadata": {},
     "output_type": "execute_result"
    }
   ],
   "source": [
    "np.sum(pca.explained_variance_ratio_)"
   ]
  },
  {
   "cell_type": "code",
   "execution_count": 318,
   "metadata": {},
   "outputs": [
    {
     "data": {
      "text/plain": [
       "Text(0.5, 0, 'dimensions')"
      ]
     },
     "execution_count": 318,
     "metadata": {},
     "output_type": "execute_result"
    },
    {
     "data": {
      "image/png": "[encoded data removed]",
      "text/plain": [
       "<Figure size 936x576 with 1 Axes>"
      ]
     },
     "metadata": {
      "needs_background": "light"
     },
     "output_type": "display_data"
    }
   ],
   "source": [
    "plt.plot(cumulsum, linewidth=2)\n",
    "plt.ylabel('PCA Explained Variance')\n",
    "plt.xlabel('dimensions')"
   ]
  },
  {
   "cell_type": "markdown",
   "metadata": {},
   "source": [
    "Based on the vairance explained by PCA components, lets apply 70 compnents based on the cumulative curve."
   ]
  },
  {
   "cell_type": "code",
   "execution_count": 370,
   "metadata": {},
   "outputs": [
    {
     "name": "stdout",
     "output_type": "stream",
     "text": [
      "Variance explained by  50  components:  0.963381060596349\n",
      "Variance explained by  55  components:  0.9738041035687713\n",
      "Variance explained by  60  components:  0.981301950704123\n",
      "Variance explained by  65  components:  0.9866573754806455\n",
      "Variance explained by  70  components:  0.9906927983430476\n"
     ]
    }
   ],
   "source": [
    "X_train_norm=pd.read_pickle('X_train_norm_1.pkl')\n",
    "\n",
    "for nc in [50,55,60,65,70]:\n",
    "    pca = PCA(n_components=nc)\n",
    "    X_train_norm_decomposed = pca.fit_transform(X_train_norm)\n",
    "    print('Variance explained by ' , nc, ' components: ', np.sum(pca.explained_variance_ratio_))"
   ]
  },
  {
   "cell_type": "markdown",
   "metadata": {},
   "source": [
    "Since the explained variance changes only by 3rd decimal place for components greater than 60, we choose __60__ as selected number of components"
   ]
  },
  {
   "cell_type": "code",
   "execution_count": 371,
   "metadata": {},
   "outputs": [],
   "source": [
    "X_train_norm=pd.read_pickle('X_train_norm_1.pkl')\n",
    "pca = PCA(n_components=60)\n",
    "X_train_norm_decomposed = pca.fit_transform(X_train_norm)\n",
    "    "
   ]
  },
  {
   "cell_type": "code",
   "execution_count": 372,
   "metadata": {},
   "outputs": [
    {
     "data": {
      "text/plain": [
       "(30814, 60)"
      ]
     },
     "execution_count": 372,
     "metadata": {},
     "output_type": "execute_result"
    }
   ],
   "source": [
    "X_test_norm = pd.read_pickle('X_test_norm_1.pkl')\n",
    "\n",
    "X_test_norm_decomposed = pca.transform(X_test_norm)\n",
    "\n",
    "X_test_norm_decomposed.shape"
   ]
  },
  {
   "cell_type": "code",
   "execution_count": 373,
   "metadata": {},
   "outputs": [
    {
     "data": {
      "text/plain": [
       "pandas.core.series.Series"
      ]
     },
     "execution_count": 373,
     "metadata": {},
     "output_type": "execute_result"
    }
   ],
   "source": [
    "type(y_train)"
   ]
  },
  {
   "cell_type": "code",
   "execution_count": 374,
   "metadata": {},
   "outputs": [
    {
     "name": "stdout",
     "output_type": "stream",
     "text": [
      "*** top 20 columns out of SelectKBest***\n"
     ]
    }
   ],
   "source": [
    "from sklearn.feature_selection import chi2\n",
    "from sklearn.feature_selection import SelectKBest\n",
    "\n",
    "#df_hotel_no_adr = df_hotel.drop('adr', axis = 1)\n",
    "\n",
    "print(\"*** top 20 columns out of SelectKBest***\")\n",
    "\n",
    "#Convert datatypes\n",
    "y_train_int = y_train.astype(int)\n",
    "#df_adr=df_hotel['adr']\n",
    "\n",
    "selector = SelectKBest(chi2, k=60)\n",
    "selector.fit(X_train_norm, y_train_int)\n",
    "\n",
    "#  get the list\n",
    "col_names = list(df_hotel.columns[selector.get_support(indices=True)])\n",
    "\n",
    "col_names\n",
    "\n",
    "X_train_norm_filtered = X_train_norm[col_names]\n",
    "X_test_norm_filtered = X_test_norm[col_names]"
   ]
  },
  {
   "cell_type": "code",
   "execution_count": 375,
   "metadata": {},
   "outputs": [],
   "source": [
    "#X_train_norm_filtered = X_train_norm[rfecv_columns]\n",
    "#X_test_norm_filtered = X_test_norm[rfecv_columns]\n"
   ]
  },
  {
   "cell_type": "code",
   "execution_count": 395,
   "metadata": {},
   "outputs": [
    {
     "data": {
      "text/plain": [
       "array([  4.79975802, -24.14813556,  36.67959848, -15.52829229,\n",
       "       -12.67147103,   4.58093666,   5.42014549,  33.40730452,\n",
       "         7.46519285,  -3.25480921,  -4.53659604,   0.24286993,\n",
       "        -6.11248575,   3.54504728, -57.16262804,   9.60003207,\n",
       "        32.21212551,   8.03009462,  12.03721587,  33.23805597,\n",
       "        -0.62744593,   5.44910661,  26.63161982, -13.56898913,\n",
       "       -18.37462818, -21.26463896,  25.68449523,  23.20227909,\n",
       "       -11.73532774,  16.96744556, -12.71822052,   2.18374144,\n",
       "        18.41561414,  -6.95421967,  22.85045702,  14.05192909,\n",
       "       -18.34417226,  29.2685032 ,   7.55058629,  22.29847823,\n",
       "        11.02343286,   0.85636522,  -0.71988259,  -0.86033433,\n",
       "       -17.26997039, -30.08735528,   1.30889374,   5.98480571,\n",
       "        14.40596179,   8.85396554,   1.17687877,   0.66044153,\n",
       "         4.08031206,   6.26102156,  10.68263141, -20.58497662,\n",
       "       -20.4525173 ,   3.56109873,  13.71037105,  11.39615041])"
      ]
     },
     "execution_count": 395,
     "metadata": {},
     "output_type": "execute_result"
    }
   ],
   "source": [
    "\n",
    "from sklearn.linear_model import LinearRegression\n",
    "from sklearn.linear_model import SGDRegressor\n",
    "from sklearn import linear_model\n",
    "\n",
    "model = SGDRegressor(max_iter=10000, tol=1e-3, eta0 = 0.0001)\n",
    "model.fit(X_train_norm_filtered, y_train)\n",
    "\n",
    "\n",
    "\"\"\"\n",
    "model = LinearRegression()\n",
    "model.fit(X_train_norm_filtered, y_train)\n",
    "\n",
    "\n",
    "\n",
    "model = linear_model.LassoLars(alpha=0.00001)\n",
    "model.fit(X_train_norm_filtered, y_train)\n",
    "\"\"\"\n",
    "model.coef_\n"
   ]
  },
  {
   "cell_type": "code",
   "execution_count": 396,
   "metadata": {},
   "outputs": [
    {
     "data": {
      "text/plain": [
       "4696       58.00\n",
       "66988     115.00\n",
       "118878     95.50\n",
       "95885     135.45\n",
       "43022      60.00\n",
       "17848      46.00\n",
       "19839      43.00\n",
       "94846     121.50\n",
       "73063     180.00\n",
       "37440     169.00\n",
       "Name: adr, dtype: float64"
      ]
     },
     "execution_count": 396,
     "metadata": {},
     "output_type": "execute_result"
    }
   ],
   "source": [
    "y_test.head(10)"
   ]
  },
  {
   "cell_type": "code",
   "execution_count": 397,
   "metadata": {},
   "outputs": [
    {
     "data": {
      "text/plain": [
       "numpy.ndarray"
      ]
     },
     "execution_count": 397,
     "metadata": {},
     "output_type": "execute_result"
    }
   ],
   "source": [
    "type(y_test.values)"
   ]
  },
  {
   "cell_type": "code",
   "execution_count": 398,
   "metadata": {},
   "outputs": [],
   "source": [
    "y_hat = model.predict(X_test_norm_filtered)\n"
   ]
  },
  {
   "cell_type": "code",
   "execution_count": 399,
   "metadata": {},
   "outputs": [
    {
     "data": {
      "text/plain": [
       "array([ 65.31733396,  97.79324805, 122.23043516, ...,  99.97528419,\n",
       "       108.52722576, 138.8942445 ])"
      ]
     },
     "execution_count": 399,
     "metadata": {},
     "output_type": "execute_result"
    }
   ],
   "source": [
    "y_hat"
   ]
  },
  {
   "cell_type": "code",
   "execution_count": 400,
   "metadata": {},
   "outputs": [
    {
     "name": "stdout",
     "output_type": "stream",
     "text": [
      "27.441660441583327\n",
      "20.40611646701147\n"
     ]
    },
    {
     "data": {
      "text/plain": [
       "'\\nlinear\\n29.754990878612507\\n23.252648836567797\\n\\nSGD\\n30.175976711252478\\n23.49851228113339\\n\\n\\n'"
      ]
     },
     "execution_count": 400,
     "metadata": {},
     "output_type": "execute_result"
    }
   ],
   "source": [
    "from sklearn.metrics import mean_squared_error, mean_absolute_error\n",
    "\n",
    "mse = mean_squared_error(y_test.values, y_hat)\n",
    "\n",
    "rmse = np.sqrt(mse)\n",
    "\n",
    "mae = mean_absolute_error(y_test.values, y_hat)\n",
    "                          \n",
    "print(rmse)\n",
    "print(mae)\n",
    "\n",
    "\"\"\"\n",
    "linear\n",
    "29.754990878612507\n",
    "23.252648836567797\n",
    "\n",
    "SGD\n",
    "30.175976711252478\n",
    "23.49851228113339\n",
    "\n",
    "27.441660441583327\n",
    "20.40611646701147\n",
    "\n",
    "\n",
    "\"\"\""
   ]
  },
  {
   "cell_type": "markdown",
   "metadata": {},
   "source": [
    "# is_cancelled Prediction\n"
   ]
  },
  {
   "cell_type": "code",
   "execution_count": 432,
   "metadata": {},
   "outputs": [
    {
     "name": "stdout",
     "output_type": "stream",
     "text": [
      "Train with 71897 samples and test with 30814 samples.\n"
     ]
    }
   ],
   "source": [
    "from sklearn.model_selection import train_test_split, cross_validate, StratifiedKFold\n",
    "from sklearn.preprocessing import OneHotEncoder, MinMaxScaler, StandardScaler\n",
    "\n",
    "df_hotel = pd.read_pickle('hotel_bookings_8.pkl')\n",
    "\n",
    "y=df_hotel.pop('is_canceled')\n",
    "\n",
    "X_train, X_test, y_train, y_test = train_test_split(df_hotel, y, test_size=0.3,random_state=42)\n",
    "print(f\"Train with {X_train.shape[0]} samples and test with {X_test.shape[0]} samples.\")\n"
   ]
  },
  {
   "cell_type": "code",
   "execution_count": 433,
   "metadata": {},
   "outputs": [],
   "source": [
    "\n",
    "normalizer = MinMaxScaler()\n",
    "\n",
    "X_train_norm = normalizer.fit_transform(X_train)\n",
    "\n",
    "X_test_norm = normalizer.transform(X_test)\n",
    "\n",
    "#X_train_norm.desc\n",
    "\n",
    "X_train_norm=pd.DataFrame(X_train_norm,columns=X_train.columns)\n",
    "X_test_norm =pd.DataFrame(X_test_norm,columns=X_test.columns)\n"
   ]
  },
  {
   "cell_type": "code",
   "execution_count": 434,
   "metadata": {},
   "outputs": [],
   "source": [
    "from sklearn.decomposition import PCA\n",
    "\n",
    "pca = PCA(n_components=117)\n",
    "\n",
    "X_train_norm_decomposed = pca.fit_transform(X_train_norm)"
   ]
  },
  {
   "cell_type": "code",
   "execution_count": 435,
   "metadata": {},
   "outputs": [
    {
     "name": "stdout",
     "output_type": "stream",
     "text": [
      "Variance explained by  50  components:  0.9625514512310943\n",
      "Variance explained by  55  components:  0.9731717917817113\n",
      "Variance explained by  60  components:  0.9807776949070606\n",
      "Variance explained by  65  components:  0.9862797043611025\n",
      "Variance explained by  70  components:  0.9904000772326367\n"
     ]
    }
   ],
   "source": [
    "\n",
    "for nc in [50,55,60,65,70]:\n",
    "    pca = PCA(n_components=nc)\n",
    "    X_train_norm_decomposed = pca.fit_transform(X_train_norm)\n",
    "    print('Variance explained by ' , nc, ' components: ', np.sum(pca.explained_variance_ratio_))"
   ]
  },
  {
   "cell_type": "code",
   "execution_count": 441,
   "metadata": {},
   "outputs": [],
   "source": [
    "pca = PCA(n_components=70)\n",
    "X_train_norm_decomposed = pca.fit_transform(X_train_norm)\n",
    "X_test_norm_decomposed = pca.transform(X_test_norm)\n"
   ]
  },
  {
   "cell_type": "code",
   "execution_count": 443,
   "metadata": {},
   "outputs": [],
   "source": [
    "\n",
    "\n",
    "\"\"\"\n",
    "\"\"\"\n",
    "#k-best\n",
    "from sklearn.feature_selection import chi2\n",
    "from sklearn.feature_selection import SelectKBest\n",
    "y_train_int = y_train.astype(int)\n",
    "selector = SelectKBest(chi2, k=60)\n",
    "selector.fit(X_train_norm, y_train_int)\n",
    "col_names = list(df_hotel.columns[selector.get_support(indices=True)])\n",
    "X_train_norm_filtered = X_train_norm[col_names]\n",
    "X_test_norm_filtered = X_test_norm[col_names]\n"
   ]
  },
  {
   "cell_type": "code",
   "execution_count": 447,
   "metadata": {},
   "outputs": [
    {
     "name": "stderr",
     "output_type": "stream",
     "text": [
      "C:\\Users\\Azizf\\AppData\\Local\\Continuum\\anaconda3\\lib\\site-packages\\sklearn\\ensemble\\forest.py:245: FutureWarning: The default value of n_estimators will change from 10 in version 0.20 to 100 in 0.22.\n",
      "  \"10 in version 0.20 to 100 in 0.22.\", FutureWarning)\n"
     ]
    },
    {
     "data": {
      "text/plain": [
       "RandomForestClassifier(bootstrap=True, class_weight=None, criterion='gini',\n",
       "                       max_depth=None, max_features='auto', max_leaf_nodes=None,\n",
       "                       min_impurity_decrease=0.0, min_impurity_split=None,\n",
       "                       min_samples_leaf=1, min_samples_split=2,\n",
       "                       min_weight_fraction_leaf=0.0, n_estimators=10,\n",
       "                       n_jobs=None, oob_score=False, random_state=None,\n",
       "                       verbose=0, warm_start=False)"
      ]
     },
     "execution_count": 447,
     "metadata": {},
     "output_type": "execute_result"
    }
   ],
   "source": [
    "from sklearn.neighbors import KNeighborsClassifier\n",
    "from sklearn.ensemble import RandomForestClassifier\n",
    "\n",
    "logreg = RandomForestClassifier()\n",
    "logreg.fit(X_train_norm_decomposed, y_train)"
   ]
  },
  {
   "cell_type": "code",
   "execution_count": 448,
   "metadata": {},
   "outputs": [
    {
     "data": {
      "text/plain": [
       "array([[18178,  1179],\n",
       "       [ 3405,  8052]], dtype=int64)"
      ]
     },
     "execution_count": 448,
     "metadata": {},
     "output_type": "execute_result"
    }
   ],
   "source": [
    "from sklearn.metrics import confusion_matrix\n",
    "from sklearn.metrics import classification_report\n",
    "from sklearn.metrics import accuracy_score\n",
    "from sklearn.metrics import precision_score\n",
    "from sklearn.metrics import recall_score\n",
    "from sklearn.metrics import f1_score\n",
    "from sklearn import metrics\n",
    "\n",
    "\n",
    "y_pred = logreg.predict(X_test_norm_decomposed)\n",
    "confusion_matrix( y_test, y_pred)\n"
   ]
  },
  {
   "cell_type": "code",
   "execution_count": 449,
   "metadata": {},
   "outputs": [
    {
     "name": "stdout",
     "output_type": "stream",
     "text": [
      "Accuracy  :  0.8512364509638476\n",
      "Precision :  0.8722781930451738\n",
      "Recall :  0.7028017805708301\n"
     ]
    }
   ],
   "source": [
    "print(\"Accuracy  : \", accuracy_score(y_test, y_pred))\n",
    "print(\"Precision : \", precision_score(y_test, y_pred))\n",
    "print(\"Recall : \", recall_score(y_test, y_pred))"
   ]
  },
  {
   "cell_type": "code",
   "execution_count": null,
   "metadata": {},
   "outputs": [],
   "source": []
  }
 ],
 "metadata": {
  "kernelspec": {
   "display_name": "Python 3",
   "language": "python",
   "name": "python3"
  },
  "language_info": {
   "codemirror_mode": {
    "name": "ipython",
    "version": 3
   },
   "file_extension": ".py",
   "mimetype": "text/x-python",
   "name": "python",
   "nbconvert_exporter": "python",
   "pygments_lexer": "ipython3",
   "version": "3.7.4"
  }
 },
 "nbformat": 4,
 "nbformat_minor": 2
}
