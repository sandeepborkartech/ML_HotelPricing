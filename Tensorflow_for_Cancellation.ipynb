{
 "cells": [
  {
   "cell_type": "markdown",
   "metadata": {},
   "source": [
    "# is_cancelled Prediction- (classification ) - Tensorflow\n"
   ]
  },
  {
   "cell_type": "markdown",
   "metadata": {},
   "source": [
    "TensorFlow is a free and open-source software library for dataflow and differentiable programming across a range of tasks. \n",
    "It is a symbolic math library, and is also used for machine learning applications such as neural networks . Here, we are\n",
    "modeling 'is_cancelled' clasification prediction with TensorFlow - Keras API"
   ]
  },
  {
   "cell_type": "code",
   "execution_count": 15,
   "metadata": {},
   "outputs": [],
   "source": [
    "import numpy as np\n",
    "import pandas as pd\n",
    "from sklearn.model_selection import train_test_split, cross_validate, StratifiedKFold\n",
    "from sklearn.preprocessing import OneHotEncoder, MinMaxScaler, StandardScaler\n",
    "import matplotlib.pyplot as plt\n",
    "\n",
    "X_train_norm_clf_pca = pd.read_pickle('X_train_norm_clf_pca.pkl')\n",
    "y_train_clf = pd.read_pickle('y_train_clf.pkl')\n",
    "X_test_norm_clf_pca = pd.read_pickle('X_test_norm_clf_pca.pkl')\n",
    "y_test_clf = pd.read_pickle('y_test_clf.pkl')\n",
    "#X_train_norm_clf_pca.head()\n",
    "#y_test_clf.head()"
   ]
  },
  {
   "cell_type": "code",
   "execution_count": 3,
   "metadata": {},
   "outputs": [
    {
     "data": {
      "text/plain": [
       "numpy.ndarray"
      ]
     },
     "execution_count": 3,
     "metadata": {},
     "output_type": "execute_result"
    }
   ],
   "source": [
    "\"\"\"convert to numpy.ndarray\"\"\"\n",
    "X_train_arr=X_train_norm_clf_pca.values \n",
    "X_test_arr=X_test_norm_clf_pca.values\n",
    "y_train_arr=y_train_clf.values\n",
    "y_test_arr=y_test_clf.values\n",
    "\n",
    "type(X_train_arr)"
   ]
  },
  {
   "cell_type": "code",
   "execution_count": 63,
   "metadata": {},
   "outputs": [],
   "source": [
    "#Define functions to calculate Recall, precision, f1 \n",
    "\n",
    "from tensorflow.keras import backend as K\n",
    "import warnings\n",
    "\n",
    "warnings.filterwarnings('ignore')\n",
    "\n",
    "\n",
    "def recall_m(y_true, y_pred):\n",
    "    true_positives = K.sum(K.round(K.clip(y_true * y_pred, 0, 1)))\n",
    "    possible_positives = K.sum(K.round(K.clip(y_true, 0, 1)))\n",
    "    recall = true_positives / (possible_positives + K.epsilon())\n",
    "    return recall\n",
    "\n",
    "def precision_m(y_true, y_pred):\n",
    "    true_positives = K.sum(K.round(K.clip(y_true * y_pred, 0, 1)))\n",
    "    predicted_positives = K.sum(K.round(K.clip(y_pred, 0, 1)))\n",
    "    precision = true_positives / (predicted_positives + K.epsilon())\n",
    "    return precision\n",
    "\n",
    "def f1_m(y_true, y_pred):\n",
    "    precision = precision_m(y_true, y_pred)\n",
    "    recall = recall_m(y_true, y_pred)\n",
    "    return 2*((precision*recall)/(precision+recall+K.epsilon()))\n"
   ]
  },
  {
   "cell_type": "code",
   "execution_count": 64,
   "metadata": {},
   "outputs": [],
   "source": [
    "#define function to plot : Model - Accuracy, Precision, Recall graph\n",
    "\n",
    "from matplotlib.lines import Line2D \n",
    "def plot_accurracy_prec_roc(model_scores, model_names):\n",
    "    N = 3\n",
    "    ind = np.arange(N)  # the x locations for the groups\n",
    "    width = 0.27       # the width of the bars\n",
    "\n",
    "    fig = plt.figure(figsize=(12,5))\n",
    "    ax = fig.add_subplot(111)\n",
    "    ax2 = ax.twinx()\n",
    "    ax3 = ax.twinx()\n",
    "    labels = model_names\n",
    "    acc_score = []\n",
    "    prec_score = []\n",
    "    rec_score = []\n",
    "\n",
    "    for idx in range(len(model_scores)):\n",
    "        md_scores = model_scores[idx]\n",
    "        acc_score.append(md_scores[0])\n",
    "        prec_score.append(md_scores[1])\n",
    "        rec_score.append(md_scores[2])\n",
    "\n",
    "    acc_score = pd.DataFrame(acc_score)\n",
    "    prec_score = pd.DataFrame(prec_score)\n",
    "    rec_score = pd.DataFrame(rec_score)\n",
    "\n",
    "    acc_score[:].plot(kind='bar', color='red', ax=ax, width=0.1, position=1, legend=None)\n",
    "    prec_score[:].plot(kind='bar', color='yellow', ax=ax2, width=0.1, position=3, legend=None)\n",
    "    rec_score[:].plot(kind='bar', color='blue', ax=ax3, width=0.1, position=2, legend=None)\n",
    "    ax.set_xlabel('Models')\n",
    "    ax.set_xticklabels(model_names, rotation=0)\n",
    "    ax.set_ylabel('Accuracy')\n",
    "    ax2.set_ylabel('Precision, recall')\n",
    "    #ax3.set_ylabel('Recall')\n",
    "    legend_elements = [\n",
    "    Line2D([0], [0], marker='s', color='r', label='Accuracy',markerfacecolor='r', markersize=8,linestyle='-'),\n",
    "    Line2D([0], [0], marker='s', color='b', label='Recall',markerfacecolor='b', markersize=8, linestyle='-'),\n",
    "    Line2D([0], [0], marker='s', color='y', label='Precision',markerfacecolor='y', markersize=8, linestyle='-')]\n",
    "    #ax.legend(handles=legend_elements, loc='top-right')\n",
    "    ax.legend(handles=legend_elements, loc='best', bbox_to_anchor=(0.175, 0.5, 0.5, 0.5))\n",
    "    plt.show()\n",
    "    \n",
    "    "
   ]
  },
  {
   "cell_type": "markdown",
   "metadata": {},
   "source": [
    "Train an Multilayer Perceptron (MLP) with TensorFlow - Keras API. Looped model over different Activation functions (\"elu\", \"relu\", \"selu\", \"sigmoid\", \"tanh\") and generate scores -  Loss, Accuracy, F1, Recall, Precision "
   ]
  },
  {
   "cell_type": "code",
   "execution_count": 65,
   "metadata": {
    "scrolled": true
   },
   "outputs": [
    {
     "name": "stdout",
     "output_type": "stream",
     "text": [
      "Train on 52619 samples, validate on 22551 samples\n",
      "Epoch 1/5\n",
      "52619/52619 [==============================] - 9s 178us/sample - loss: 0.9254 - acc: 0.7703 - f1_m: 0.6111 - precision_m: 0.7728 - recall_m: 0.5282 - val_loss: 0.6714 - val_acc: 0.7793 - val_f1_m: 0.6191 - val_precision_m: 0.7979 - val_recall_m: 0.5247\n",
      "Epoch 2/5\n",
      "52619/52619 [==============================] - 8s 161us/sample - loss: 0.6312 - acc: 0.7844 - f1_m: 0.6532 - precision_m: 0.7776 - recall_m: 0.5826 - val_loss: 0.4728 - val_acc: 0.7891 - val_f1_m: 0.6712 - val_precision_m: 0.7638 - val_recall_m: 0.6155\n",
      "Epoch 3/5\n",
      "52619/52619 [==============================] - 9s 174us/sample - loss: 0.4834 - acc: 0.7858 - f1_m: 0.6699 - precision_m: 0.7580 - recall_m: 0.6188 - val_loss: 0.4220 - val_acc: 0.8067 - val_f1_m: 0.7024 - val_precision_m: 0.7829 - val_recall_m: 0.6542\n",
      "Epoch 4/5\n",
      "52619/52619 [==============================] - 9s 168us/sample - loss: 0.4315 - acc: 0.7968 - f1_m: 0.6801 - precision_m: 0.7843 - recall_m: 0.6209 - val_loss: 0.4787 - val_acc: 0.7890 - val_f1_m: 0.7087 - val_precision_m: 0.7014 - val_recall_m: 0.7344\n",
      "Epoch 5/5\n",
      "52619/52619 [==============================] - 9s 163us/sample - loss: 0.4738 - acc: 0.7894 - f1_m: 0.6837 - precision_m: 0.7507 - recall_m: 0.6478 - val_loss: 0.4342 - val_acc: 0.8034 - val_f1_m: 0.7030 - val_precision_m: 0.7643 - val_recall_m: 0.6680\n",
      "Train on 52619 samples, validate on 22551 samples\n",
      "Epoch 1/5\n",
      "52619/52619 [==============================] - 9s 177us/sample - loss: 0.4278 - acc: 0.7969 - f1_m: 0.6647 - precision_m: 0.8031 - recall_m: 0.5899 - val_loss: 0.3824 - val_acc: 0.8181 - val_f1_m: 0.7113 - val_precision_m: 0.8225 - val_recall_m: 0.6411\n",
      "Epoch 2/5\n",
      "52619/52619 [==============================] - 9s 176us/sample - loss: 0.3961 - acc: 0.8082 - f1_m: 0.6937 - precision_m: 0.8174 - recall_m: 0.6229 - val_loss: 0.3843 - val_acc: 0.8240 - val_f1_m: 0.7253 - val_precision_m: 0.8186 - val_recall_m: 0.6678\n",
      "Epoch 3/5\n",
      "52619/52619 [==============================] - 10s 193us/sample - loss: 0.4043 - acc: 0.8112 - f1_m: 0.6972 - precision_m: 0.8235 - recall_m: 0.6263 - val_loss: 0.3854 - val_acc: 0.8248 - val_f1_m: 0.7240 - val_precision_m: 0.8200 - val_recall_m: 0.6652\n",
      "Epoch 4/5\n",
      "52619/52619 [==============================] - 10s 187us/sample - loss: 0.3999 - acc: 0.8204 - f1_m: 0.7231 - precision_m: 0.8154 - recall_m: 0.6677 - val_loss: 0.3823 - val_acc: 0.8279 - val_f1_m: 0.7217 - val_precision_m: 0.8504 - val_recall_m: 0.6433\n",
      "Epoch 5/5\n",
      "52619/52619 [==============================] - 10s 192us/sample - loss: 0.3887 - acc: 0.8204 - f1_m: 0.7194 - precision_m: 0.8177 - recall_m: 0.6619 - val_loss: 0.3883 - val_acc: 0.8224 - val_f1_m: 0.7037 - val_precision_m: 0.8724 - val_recall_m: 0.6060\n",
      "Train on 52619 samples, validate on 22551 samples\n",
      "Epoch 1/5\n",
      "52619/52619 [==============================] - 12s 233us/sample - loss: 0.8491 - acc: 0.7550 - f1_m: 0.6261 - precision_m: 0.7083 - recall_m: 0.5845 - val_loss: 0.5151 - val_acc: 0.7709 - val_f1_m: 0.6484 - val_precision_m: 0.7222 - val_recall_m: 0.6067\n",
      "Epoch 2/5\n",
      "52619/52619 [==============================] - 12s 231us/sample - loss: 2.1764 - acc: 0.7113 - f1_m: 0.5896 - precision_m: 0.6258 - recall_m: 0.5867 - val_loss: 1.6802 - val_acc: 0.7073 - val_f1_m: 0.5543 - val_precision_m: 0.6176 - val_recall_m: 0.5236\n",
      "Epoch 3/5\n",
      "52619/52619 [==============================] - 12s 225us/sample - loss: 1.0864 - acc: 0.7464 - f1_m: 0.6163 - precision_m: 0.6899 - recall_m: 0.5783 - val_loss: 1.6842 - val_acc: 0.7086 - val_f1_m: 0.5595 - val_precision_m: 0.6202 - val_recall_m: 0.5300\n",
      "Epoch 4/5\n",
      "52619/52619 [==============================] - 11s 214us/sample - loss: 0.8002 - acc: 0.7665 - f1_m: 0.6245 - precision_m: 0.7472 - recall_m: 0.5563 - val_loss: 0.4729 - val_acc: 0.7805 - val_f1_m: 0.6404 - val_precision_m: 0.7717 - val_recall_m: 0.5657\n",
      "Epoch 5/5\n",
      "52619/52619 [==============================] - 12s 219us/sample - loss: 0.8379 - acc: 0.7326 - f1_m: 0.5911 - precision_m: 0.6814 - recall_m: 0.5466 - val_loss: 0.4672 - val_acc: 0.7745 - val_f1_m: 0.6238 - val_precision_m: 0.7708 - val_recall_m: 0.5432\n",
      "Train on 52619 samples, validate on 22551 samples\n",
      "Epoch 1/5\n",
      "52619/52619 [==============================] - 13s 249us/sample - loss: 0.4535 - acc: 0.7767 - f1_m: 0.6114 - precision_m: 0.7485 - recall_m: 0.5460 - val_loss: 0.4190 - val_acc: 0.8006 - val_f1_m: 0.6984 - val_precision_m: 0.7642 - val_recall_m: 0.6613\n",
      "Epoch 2/5\n",
      "52619/52619 [==============================] - 11s 218us/sample - loss: 0.4166 - acc: 0.7955 - f1_m: 0.6731 - precision_m: 0.7946 - recall_m: 0.6051 - val_loss: 0.4012 - val_acc: 0.7976 - val_f1_m: 0.6597 - val_precision_m: 0.8256 - val_recall_m: 0.5678\n",
      "Epoch 3/5\n",
      "52619/52619 [==============================] - 10s 198us/sample - loss: 0.4048 - acc: 0.7994 - f1_m: 0.6735 - precision_m: 0.8079 - recall_m: 0.5985 - val_loss: 0.3964 - val_acc: 0.8080 - val_f1_m: 0.7000 - val_precision_m: 0.7911 - val_recall_m: 0.6447\n",
      "Epoch 4/5\n",
      "52619/52619 [==============================] - 11s 203us/sample - loss: 0.3982 - acc: 0.8026 - f1_m: 0.6805 - precision_m: 0.8157 - recall_m: 0.6021 - val_loss: 0.3938 - val_acc: 0.8074 - val_f1_m: 0.7193 - val_precision_m: 0.7537 - val_recall_m: 0.7048\n",
      "Epoch 5/5\n",
      "52619/52619 [==============================] - 10s 193us/sample - loss: 0.3940 - acc: 0.8051 - f1_m: 0.6889 - precision_m: 0.8112 - recall_m: 0.6175 - val_loss: 0.3880 - val_acc: 0.8050 - val_f1_m: 0.6659 - val_precision_m: 0.8549 - val_recall_m: 0.5622\n",
      "Train on 52619 samples, validate on 22551 samples\n",
      "Epoch 1/5\n",
      "52619/52619 [==============================] - 13s 239us/sample - loss: 0.9218 - acc: 0.7717 - f1_m: 0.6578 - precision_m: 0.7125 - recall_m: 0.6324 - val_loss: 0.7395 - val_acc: 0.7474 - val_f1_m: 0.6227 - val_precision_m: 0.6764 - val_recall_m: 0.5971\n",
      "Epoch 2/5\n",
      "52619/52619 [==============================] - 10s 198us/sample - loss: 0.6587 - acc: 0.7519 - f1_m: 0.6464 - precision_m: 0.6728 - recall_m: 0.6466 - val_loss: 0.5594 - val_acc: 0.7362 - val_f1_m: 0.6342 - val_precision_m: 0.6347 - val_recall_m: 0.6527\n",
      "Epoch 3/5\n",
      "52619/52619 [==============================] - 11s 207us/sample - loss: 0.8396 - acc: 0.7276 - f1_m: 0.6330 - precision_m: 0.6205 - recall_m: 0.6693 - val_loss: 0.4904 - val_acc: 0.7854 - val_f1_m: 0.6894 - val_precision_m: 0.7184 - val_recall_m: 0.6822\n",
      "Epoch 4/5\n",
      "52619/52619 [==============================] - 11s 203us/sample - loss: 0.5120 - acc: 0.7733 - f1_m: 0.6725 - precision_m: 0.7033 - recall_m: 0.6640 - val_loss: 0.4736 - val_acc: 0.7800 - val_f1_m: 0.6769 - val_precision_m: 0.7158 - val_recall_m: 0.6615\n",
      "Epoch 5/5\n",
      "52619/52619 [==============================] - 11s 212us/sample - loss: 0.4960 - acc: 0.7662 - f1_m: 0.6688 - precision_m: 0.6876 - recall_m: 0.6720 - val_loss: 0.4526 - val_acc: 0.7895 - val_f1_m: 0.6979 - val_precision_m: 0.7239 - val_recall_m: 0.6914\n"
     ]
    }
   ],
   "source": [
    "\"\"\"Train an Multilayer Perceptron (MLP) with TensorFlow - Keras API\"\"\"\n",
    "\n",
    "import tensorflow as tf\n",
    "from matplotlib.lines import Line2D \n",
    "\n",
    "act_funcs = [\"elu\", \"relu\", \"selu\", \"sigmoid\", \"tanh\"]\n",
    "lst_act=[]\n",
    "\n",
    "\n",
    "for act in act_funcs:\n",
    "    model = tf.keras.models.Sequential()\n",
    "    tf.keras.layers.BatchNormalization()\n",
    "    model.add(tf.keras.layers.Dense(256, input_shape=(70,), activation=act,use_bias=False))\n",
    "    model.add(tf.keras.layers.Dropout(0.2))\n",
    "    tf.keras.layers.BatchNormalization()\n",
    "    model.add(tf.keras.layers.Dense(128,activation=act,use_bias=False))\n",
    "    tf.keras.layers.BatchNormalization()\n",
    "    model.add(tf.keras.layers.Dense(1, kernel_initializer='normal', activation=act))\n",
    "\n",
    "    # compile the model\n",
    "    model.compile(optimizer='adam', loss='binary_crossentropy', metrics=['acc',f1_m,precision_m, recall_m])\n",
    "\n",
    "    # fit the model\n",
    "    history = model.fit(X_train_arr, y_train_arr, validation_split=0.3, epochs=5)\n",
    "\n",
    "    # evaluate the model\n",
    "    loss, accuracy, f1_score, precision, recall = model.evaluate(X_test_arr, y_test_arr, verbose=0)\n",
    "    \n",
    "    lst_act.append([accuracy, precision, recall, f1_score, loss, act])\n",
    "   \n",
    "\n",
    "#lst_act"
   ]
  },
  {
   "cell_type": "code",
   "execution_count": 66,
   "metadata": {},
   "outputs": [
    {
     "data": {
      "text/plain": [
       "[[0.79790175, 0.76926357, 0.65464103, 0.6975056, 0.43683267646857205, 'elu'],\n",
       " [0.8164944, 0.8772577, 0.5930738, 0.69593364, 0.3930214159788468, 'relu'],\n",
       " [0.7720458, 0.78350365, 0.53845644, 0.6262008, 0.46452067498851135, 'selu'],\n",
       " [0.80075735, 0.8620872, 0.5553623, 0.6639013, 0.39471186468810804, 'sigmoid'],\n",
       " [0.78598255, 0.72818, 0.68309563, 0.6954341, 0.4525583269152668, 'tanh']]"
      ]
     },
     "execution_count": 66,
     "metadata": {},
     "output_type": "execute_result"
    }
   ],
   "source": [
    "lst_act"
   ]
  },
  {
   "cell_type": "markdown",
   "metadata": {},
   "source": [
    "Plotted Model graph with different Activation functions, Scores. All activation function performed good for this model as recall is above 0.5. Overall 'relu' activation function providing better results followed by sigmoid."
   ]
  },
  {
   "cell_type": "code",
   "execution_count": 67,
   "metadata": {
    "scrolled": true
   },
   "outputs": [
    {
     "data": {
      "text/html": [
       "<div>\n",
       "<style scoped>\n",
       "    .dataframe tbody tr th:only-of-type {\n",
       "        vertical-align: middle;\n",
       "    }\n",
       "\n",
       "    .dataframe tbody tr th {\n",
       "        vertical-align: top;\n",
       "    }\n",
       "\n",
       "    .dataframe thead th {\n",
       "        text-align: right;\n",
       "    }\n",
       "</style>\n",
       "<table border=\"1\" class=\"dataframe\">\n",
       "  <thead>\n",
       "    <tr style=\"text-align: right;\">\n",
       "      <th></th>\n",
       "      <th>Accuracy Score</th>\n",
       "      <th>Precision</th>\n",
       "      <th>Recall</th>\n",
       "      <th>F1 Score</th>\n",
       "      <th>ROC AUC Score</th>\n",
       "      <th>Model Name</th>\n",
       "    </tr>\n",
       "  </thead>\n",
       "  <tbody>\n",
       "    <tr>\n",
       "      <th>0</th>\n",
       "      <td>0.797902</td>\n",
       "      <td>0.769264</td>\n",
       "      <td>0.654641</td>\n",
       "      <td>0.697506</td>\n",
       "      <td>0.436833</td>\n",
       "      <td>elu</td>\n",
       "    </tr>\n",
       "    <tr>\n",
       "      <th>1</th>\n",
       "      <td>0.816494</td>\n",
       "      <td>0.877258</td>\n",
       "      <td>0.593074</td>\n",
       "      <td>0.695934</td>\n",
       "      <td>0.393021</td>\n",
       "      <td>relu</td>\n",
       "    </tr>\n",
       "    <tr>\n",
       "      <th>2</th>\n",
       "      <td>0.772046</td>\n",
       "      <td>0.783504</td>\n",
       "      <td>0.538456</td>\n",
       "      <td>0.626201</td>\n",
       "      <td>0.464521</td>\n",
       "      <td>selu</td>\n",
       "    </tr>\n",
       "    <tr>\n",
       "      <th>3</th>\n",
       "      <td>0.800757</td>\n",
       "      <td>0.862087</td>\n",
       "      <td>0.555362</td>\n",
       "      <td>0.663901</td>\n",
       "      <td>0.394712</td>\n",
       "      <td>sigmoid</td>\n",
       "    </tr>\n",
       "    <tr>\n",
       "      <th>4</th>\n",
       "      <td>0.785983</td>\n",
       "      <td>0.728180</td>\n",
       "      <td>0.683096</td>\n",
       "      <td>0.695434</td>\n",
       "      <td>0.452558</td>\n",
       "      <td>tanh</td>\n",
       "    </tr>\n",
       "  </tbody>\n",
       "</table>\n",
       "</div>"
      ],
      "text/plain": [
       "   Accuracy Score  Precision    Recall  F1 Score  ROC AUC Score Model Name\n",
       "0        0.797902   0.769264  0.654641  0.697506       0.436833        elu\n",
       "1        0.816494   0.877258  0.593074  0.695934       0.393021       relu\n",
       "2        0.772046   0.783504  0.538456  0.626201       0.464521       selu\n",
       "3        0.800757   0.862087  0.555362  0.663901       0.394712    sigmoid\n",
       "4        0.785983   0.728180  0.683096  0.695434       0.452558       tanh"
      ]
     },
     "execution_count": 67,
     "metadata": {},
     "output_type": "execute_result"
    }
   ],
   "source": [
    "df_activations = pd.DataFrame(lst_act,columns=['Accuracy Score', 'Precision', 'Recall', 'F1 Score', 'ROC AUC Score','Model Name'])\n",
    "df_activations.to_pickle('df_activations.pkl')\n",
    "df_activations"
   ]
  },
  {
   "cell_type": "code",
   "execution_count": 68,
   "metadata": {},
   "outputs": [
    {
     "data": {
      "image/png": "[encoded data removed]",
      "text/plain": [
       "<Figure size 864x360 with 3 Axes>"
      ]
     },
     "metadata": {
      "needs_background": "light"
     },
     "output_type": "display_data"
    }
   ],
   "source": [
    "df_activations = pd.read_pickle('df_activations.pkl')\n",
    "plot_accurracy_prec_roc(df_activations.values, act_funcs)"
   ]
  },
  {
   "cell_type": "code",
   "execution_count": null,
   "metadata": {},
   "outputs": [],
   "source": []
  }
 ],
 "metadata": {
  "kernelspec": {
   "display_name": "Python 3",
   "language": "python",
   "name": "python3"
  },
  "language_info": {
   "codemirror_mode": {
    "name": "ipython",
    "version": 3
   },
   "file_extension": ".py",
   "mimetype": "text/x-python",
   "name": "python",
   "nbconvert_exporter": "python",
   "pygments_lexer": "ipython3",
   "version": "3.6.6"
  }
 },
 "nbformat": 4,
 "nbformat_minor": 2
}
