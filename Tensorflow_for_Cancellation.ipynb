{
 "cells": [
  {
   "cell_type": "markdown",
   "metadata": {},
   "source": [
    "# is_cancelled Prediction- (classification ) - Tensorflow\n"
   ]
  },
  {
   "cell_type": "code",
   "execution_count": 11,
   "metadata": {},
   "outputs": [],
   "source": [
    "import numpy as np\n",
    "import pandas as pd\n",
    "from sklearn.model_selection import train_test_split, cross_validate, StratifiedKFold\n",
    "from sklearn.preprocessing import OneHotEncoder, MinMaxScaler, StandardScaler\n",
    "\n",
    "X_train_norm_clf_pca = pd.read_pickle('X_train_norm_clf_pca.pkl')\n",
    "X_test_norm_clf_pca = pd.read_pickle('X_test_norm_clf_pca.pkl')\n",
    "y_train_clf = pd.read_pickle('y_train_clf.pkl')\n",
    "y_test_clf = pd.read_pickle('y_test_clf.pkl')\n",
    "#X_train_norm_clf_pca.head()\n",
    "#y_test_clf.head()"
   ]
  },
  {
   "cell_type": "code",
   "execution_count": 12,
   "metadata": {},
   "outputs": [
    {
     "data": {
      "text/plain": [
       "numpy.ndarray"
      ]
     },
     "execution_count": 12,
     "metadata": {},
     "output_type": "execute_result"
    }
   ],
   "source": [
    "\"\"\"convert to numpy.ndarray\"\"\"\n",
    "X_train_arr=X_train_norm_clf_pca.values \n",
    "X_test_arr=X_test_norm_clf_pca.values\n",
    "y_train_arr=y_train_clf.values\n",
    "y_test_arr=y_test_clf.values\n",
    "\n",
    "type(X_train_arr)"
   ]
  },
  {
   "cell_type": "code",
   "execution_count": 13,
   "metadata": {},
   "outputs": [
    {
     "name": "stdout",
     "output_type": "stream",
     "text": [
      "_________________________________________________________________\n",
      "Layer (type)                 Output Shape              Param #   \n",
      "=================================================================\n",
      "dense_7 (Dense)              (None, 256)               17920     \n",
      "_________________________________________________________________\n",
      "dropout_2 (Dropout)          (None, 256)               0         \n",
      "_________________________________________________________________\n",
      "dense_8 (Dense)              (None, 128)               32768     \n",
      "_________________________________________________________________\n",
      "dense_9 (Dense)              (None, 16)                2048      \n",
      "=================================================================\n",
      "Total params: 52,736\n",
      "Trainable params: 52,736\n",
      "Non-trainable params: 0\n",
      "_________________________________________________________________\n",
      "None\n",
      "Epoch 1/5\n",
      "75170/75170 [==============================] - 122s 2ms/sample - loss: 0.4646 - acc: 0.7861\n",
      "Epoch 2/5\n",
      "75170/75170 [==============================] - 134s 2ms/sample - loss: 0.3806 - acc: 0.8148\n",
      "Epoch 3/5\n",
      "75170/75170 [==============================] - 135s 2ms/sample - loss: 0.3709 - acc: 0.8210\n",
      "Epoch 4/5\n",
      "75170/75170 [==============================] - 133s 2ms/sample - loss: 0.3642 - acc: 0.8250\n",
      "Epoch 5/5\n",
      "75170/75170 [==============================] - 133s 2ms/sample - loss: 0.3608 - acc: 0.8270\n",
      "32217/32217 [==============================] - 1s 43us/sample - loss: 0.3581 - acc: 0.8294\n"
     ]
    },
    {
     "data": {
      "text/plain": [
       "[0.35812658967243455, 0.82943785]"
      ]
     },
     "execution_count": 13,
     "metadata": {},
     "output_type": "execute_result"
    }
   ],
   "source": [
    "\"\"\"Train an Multilayer Perceptron (MLP) with TensorFlow - Keras API\"\"\"\n",
    "\n",
    "import tensorflow as tf\n",
    "\n",
    "\n",
    "model = tf.keras.models.Sequential()\n",
    "tf.keras.layers.BatchNormalization()\n",
    "model.add(tf.keras.layers.Dense(256, input_shape=(70,), activation='relu',use_bias=False))\n",
    "model.add(tf.keras.layers.Dropout(0.2))\n",
    "tf.keras.layers.BatchNormalization()\n",
    "model.add(tf.keras.layers.Dense(128,activation='relu',use_bias=False))\n",
    "tf.keras.layers.BatchNormalization()\n",
    "model.add(tf.keras.layers.Dense(16, activation='softmax',use_bias=False))\n",
    "\n",
    "model.compile(loss='sparse_categorical_crossentropy', optimizer=tf.keras.optimizers.SGD(lr=1e-3), metrics=[\"accuracy\"])\n",
    "\n",
    "print(model.summary())\n",
    "\n",
    "\n",
    "\n",
    "model.fit(X_train_arr, y_train_arr, batch_size=1, epochs=5)\n",
    "\n",
    "model.evaluate(X_test_arr,y_test_arr)\n"
   ]
  },
  {
   "cell_type": "code",
   "execution_count": 14,
   "metadata": {},
   "outputs": [
    {
     "data": {
      "text/plain": [
       "'\\nrelu-  [0.3609906734423616, 0.8394947]\\nselu - [0.38405117149714463, 0.81708413]\\nelu -  [0.380795744237877, 0.8159357]\\ntanh - [0.39610912362878786, 0.81432164]\\n\\nrelu (optimized)- [0.3583572881965955, 0.82940686]\\n\\n'"
      ]
     },
     "execution_count": 14,
     "metadata": {},
     "output_type": "execute_result"
    }
   ],
   "source": [
    "#Results from various Activation function - [loss function , Acuracy]\n",
    "\n",
    "\"\"\"\n",
    "relu-  [0.3609906734423616, 0.8394947]\n",
    "selu - [0.38405117149714463, 0.81708413]\n",
    "elu -  [0.380795744237877, 0.8159357]\n",
    "tanh - [0.39610912362878786, 0.81432164]\n",
    "\n",
    "relu (optimized)- [0.3583572881965955, 0.82940686]\n",
    "\n",
    "\"\"\"    \n"
   ]
  },
  {
   "cell_type": "code",
   "execution_count": null,
   "metadata": {},
   "outputs": [],
   "source": []
  }
 ],
 "metadata": {
  "kernelspec": {
   "display_name": "Python 3",
   "language": "python",
   "name": "python3"
  },
  "language_info": {
   "codemirror_mode": {
    "name": "ipython",
    "version": 3
   },
   "file_extension": ".py",
   "mimetype": "text/x-python",
   "name": "python",
   "nbconvert_exporter": "python",
   "pygments_lexer": "ipython3",
   "version": "3.6.6"
  }
 },
 "nbformat": 4,
 "nbformat_minor": 2
}
